{
 "cells": [
  {
   "cell_type": "code",
   "execution_count": 1,
   "metadata": {},
   "outputs": [],
   "source": [
    "import pandas as pd\n",
    "import json\n",
    "import csv  \n",
    "import os "
   ]
  },
  {
   "cell_type": "code",
   "execution_count": 2,
   "metadata": {},
   "outputs": [],
   "source": [
    "def get_from_prodigy(iteration = 0):\n",
    "    \"\"\"Retrieves data from prodigy, turns it into dataframes,\n",
    "    concatenates them and preprocessed them for further usage - \n",
    "    only works on zeno with the virtual environment \"venv2\" \"\"\"\n",
    "    #get json files with labeled data from everybody\n",
    "    os.system(\"cd /home/valentin_werner/TWSM_Lab_Team4/\")\n",
    "    dir = f\"./labeling_results{iteration}\"\n",
    "    os.system(f\"mkdir {dir}\")\n",
    "    os.system(f\"prodigy db-out db_alex > {dir}/labeled_alex.json\")\n",
    "    os.system(f\"prodigy db-out db_lilit > {dir}/labeled_lilit.json\")\n",
    "    os.system(f\"prodigy db-out db_jafar > {dir}/labeled_jafar.json\")\n",
    "    os.system(f\"prodigy db-out db_roger > {dir}/labeled_roger.json\")\n",
    "    os.system(f\"prodigy db-out db_valentin > {dir}/labeled_valentin.json\")\n",
    "    #combine the \n",
    "    for root, directories, files in os.walk(dir):\n",
    "        print(root, directories, files)\n",
    "        os.chdir(str(root))\n",
    "        for index, file in enumerate(files):\n",
    "            if index == 0:\n",
    "                df = pd.read_json(file, lines = True)\n",
    "            else:\n",
    "                load_df = pd.read_json(file, lines = True)\n",
    "                df = pd.concat((df, load_df))\n",
    "    #preprocess df\n",
    "    df_short = df[[\"text\",\"accept\",\"answer\"]]\n",
    "    df_accepted = df_short[df_short.answer == \"accept\"]\n",
    "\n",
    "    #create another column with the labels as string instead of list\n",
    "    labels_str = [\" \".join(label for label in labels) for labels in df_accepted.accept]\n",
    "    df_accepted[\"labels_str\"] = labels_str\n",
    "\n",
    "    #drop all the data that was incomplete / unfitting\n",
    "    df_nodrop = df_accepted[df_accepted.labels_str != \"Drop\"]\n",
    "    df_nodrop = df_nodrop.reset_index().drop(columns = [\"index\",\"answer\"])\n",
    "    df_nodrop.to_csv(f\"/home/valentin_werner/TWSM_Lab_Team4/twsm_project_corpus{iteration}.csv\")"
   ]
  },
  {
   "cell_type": "code",
   "execution_count": 3,
   "metadata": {},
   "outputs": [
    {
     "name": "stderr",
     "output_type": "stream",
     "text": [
      "2022-07-09 09:45:21.337021: W tensorflow/stream_executor/platform/default/dso_loader.cc:64] Could not load dynamic library 'libcudart.so.11.0'; dlerror: libcudart.so.11.0: cannot open shared object file: No such file or directory\n",
      "2022-07-09 09:45:21.337055: I tensorflow/stream_executor/cuda/cudart_stub.cc:29] Ignore above cudart dlerror if you do not have a GPU set up on your machine.\n",
      "2022-07-09 09:45:25.616739: W tensorflow/stream_executor/platform/default/dso_loader.cc:64] Could not load dynamic library 'libcudart.so.11.0'; dlerror: libcudart.so.11.0: cannot open shared object file: No such file or directory\n",
      "2022-07-09 09:45:25.616768: I tensorflow/stream_executor/cuda/cudart_stub.cc:29] Ignore above cudart dlerror if you do not have a GPU set up on your machine.\n",
      "2022-07-09 09:45:30.077488: W tensorflow/stream_executor/platform/default/dso_loader.cc:64] Could not load dynamic library 'libcudart.so.11.0'; dlerror: libcudart.so.11.0: cannot open shared object file: No such file or directory\n",
      "2022-07-09 09:45:30.077521: I tensorflow/stream_executor/cuda/cudart_stub.cc:29] Ignore above cudart dlerror if you do not have a GPU set up on your machine.\n",
      "2022-07-09 09:45:34.516606: W tensorflow/stream_executor/platform/default/dso_loader.cc:64] Could not load dynamic library 'libcudart.so.11.0'; dlerror: libcudart.so.11.0: cannot open shared object file: No such file or directory\n",
      "2022-07-09 09:45:34.516638: I tensorflow/stream_executor/cuda/cudart_stub.cc:29] Ignore above cudart dlerror if you do not have a GPU set up on your machine.\n",
      "2022-07-09 09:45:38.942271: W tensorflow/stream_executor/platform/default/dso_loader.cc:64] Could not load dynamic library 'libcudart.so.11.0'; dlerror: libcudart.so.11.0: cannot open shared object file: No such file or directory\n",
      "2022-07-09 09:45:38.942302: I tensorflow/stream_executor/cuda/cudart_stub.cc:29] Ignore above cudart dlerror if you do not have a GPU set up on your machine.\n"
     ]
    },
    {
     "name": "stdout",
     "output_type": "stream",
     "text": [
      "./labeling_results3 [] ['labeled_roger.json', 'labeled_jafar.json', 'labeled_valentin.json', 'labeled_alex.json', 'labeled_lilit.json']\n"
     ]
    },
    {
     "name": "stderr",
     "output_type": "stream",
     "text": [
      "/tmp/ipykernel_1961637/1037348512.py:28: SettingWithCopyWarning: \n",
      "A value is trying to be set on a copy of a slice from a DataFrame.\n",
      "Try using .loc[row_indexer,col_indexer] = value instead\n",
      "\n",
      "See the caveats in the documentation: https://pandas.pydata.org/pandas-docs/stable/user_guide/indexing.html#returning-a-view-versus-a-copy\n",
      "  df_accepted[\"labels_str\"] = labels_str\n"
     ]
    }
   ],
   "source": [
    "get_from_prodigy(3) #change everytime - Next up is 4"
   ]
  },
  {
   "cell_type": "code",
   "execution_count": null,
   "metadata": {},
   "outputs": [],
   "source": []
  }
 ],
 "metadata": {
  "kernelspec": {
   "display_name": "Python 3.8.10 ('venv2': venv)",
   "language": "python",
   "name": "python3"
  },
  "language_info": {
   "codemirror_mode": {
    "name": "ipython",
    "version": 3
   },
   "file_extension": ".py",
   "mimetype": "text/x-python",
   "name": "python",
   "nbconvert_exporter": "python",
   "pygments_lexer": "ipython3",
   "version": "3.8.10"
  },
  "orig_nbformat": 4,
  "vscode": {
   "interpreter": {
    "hash": "fdaa59318fa581aaa1dedfc13d2b084b9040c656c1c1b35c3f3156bc61bfd089"
   }
  }
 },
 "nbformat": 4,
 "nbformat_minor": 2
}
