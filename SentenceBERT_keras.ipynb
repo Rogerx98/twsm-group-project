{
  "cells": [
    {
      "cell_type": "markdown",
      "metadata": {
        "id": "view-in-github",
        "colab_type": "text"
      },
      "source": [
        "<a href=\"https://colab.research.google.com/github/Rogerx98/twsm-group-project/blob/main/SentenceBERT_keras.ipynb\" target=\"_parent\"><img src=\"https://colab.research.google.com/assets/colab-badge.svg\" alt=\"Open In Colab\"/></a>"
      ]
    },
    {
      "cell_type": "markdown",
      "metadata": {
        "id": "kFbrNX3Hr5ij"
      },
      "source": [
        "Comment:\n",
        "\n",
        "Inspiration 1 for Multi-label: https://github.com/NielsRogge/Transformers-Tutorials/blob/master/BERT/Fine_tuning_BERT_(and_friends)_for_multi_label_text_classification.ipynb\n",
        "\n",
        "Inspiration 2 for MultiLabelBinarizer = https://github.com/pnageshkar/NLP/blob/master/Medium/Multi_label_Classification_BERT_Lightning.ipynb"
      ]
    },
    {
      "cell_type": "markdown",
      "metadata": {
        "id": "E9NOFuQgrTBN"
      },
      "source": [
        "# **Libraries**"
      ]
    },
    {
      "cell_type": "code",
      "source": [
        "!pip install transformers \n",
        "!pip install bs4"
      ],
      "metadata": {
        "colab": {
          "base_uri": "https://localhost:8080/"
        },
        "id": "upx768GzRUck",
        "outputId": "0fcd7f86-fe91-4430-e281-9e7eef2bddd6"
      },
      "execution_count": 2,
      "outputs": [
        {
          "output_type": "stream",
          "name": "stdout",
          "text": [
            "Looking in indexes: https://pypi.org/simple, https://us-python.pkg.dev/colab-wheels/public/simple/\n",
            "Collecting transformers\n",
            "  Downloading transformers-4.20.1-py3-none-any.whl (4.4 MB)\n",
            "\u001b[K     |████████████████████████████████| 4.4 MB 15.0 MB/s \n",
            "\u001b[?25hCollecting huggingface-hub<1.0,>=0.1.0\n",
            "  Downloading huggingface_hub-0.8.1-py3-none-any.whl (101 kB)\n",
            "\u001b[K     |████████████████████████████████| 101 kB 7.0 MB/s \n",
            "\u001b[?25hRequirement already satisfied: packaging>=20.0 in /usr/local/lib/python3.7/dist-packages (from transformers) (21.3)\n",
            "Requirement already satisfied: tqdm>=4.27 in /usr/local/lib/python3.7/dist-packages (from transformers) (4.64.0)\n",
            "Requirement already satisfied: filelock in /usr/local/lib/python3.7/dist-packages (from transformers) (3.7.1)\n",
            "Collecting tokenizers!=0.11.3,<0.13,>=0.11.1\n",
            "  Downloading tokenizers-0.12.1-cp37-cp37m-manylinux_2_12_x86_64.manylinux2010_x86_64.whl (6.6 MB)\n",
            "\u001b[K     |████████████████████████████████| 6.6 MB 12.0 MB/s \n",
            "\u001b[?25hRequirement already satisfied: requests in /usr/local/lib/python3.7/dist-packages (from transformers) (2.23.0)\n",
            "Requirement already satisfied: regex!=2019.12.17 in /usr/local/lib/python3.7/dist-packages (from transformers) (2022.6.2)\n",
            "Requirement already satisfied: importlib-metadata in /usr/local/lib/python3.7/dist-packages (from transformers) (4.11.4)\n",
            "Collecting pyyaml>=5.1\n",
            "  Downloading PyYAML-6.0-cp37-cp37m-manylinux_2_5_x86_64.manylinux1_x86_64.manylinux_2_12_x86_64.manylinux2010_x86_64.whl (596 kB)\n",
            "\u001b[K     |████████████████████████████████| 596 kB 59.1 MB/s \n",
            "\u001b[?25hRequirement already satisfied: numpy>=1.17 in /usr/local/lib/python3.7/dist-packages (from transformers) (1.21.6)\n",
            "Requirement already satisfied: typing-extensions>=3.7.4.3 in /usr/local/lib/python3.7/dist-packages (from huggingface-hub<1.0,>=0.1.0->transformers) (4.1.1)\n",
            "Requirement already satisfied: pyparsing!=3.0.5,>=2.0.2 in /usr/local/lib/python3.7/dist-packages (from packaging>=20.0->transformers) (3.0.9)\n",
            "Requirement already satisfied: zipp>=0.5 in /usr/local/lib/python3.7/dist-packages (from importlib-metadata->transformers) (3.8.0)\n",
            "Requirement already satisfied: idna<3,>=2.5 in /usr/local/lib/python3.7/dist-packages (from requests->transformers) (2.10)\n",
            "Requirement already satisfied: chardet<4,>=3.0.2 in /usr/local/lib/python3.7/dist-packages (from requests->transformers) (3.0.4)\n",
            "Requirement already satisfied: certifi>=2017.4.17 in /usr/local/lib/python3.7/dist-packages (from requests->transformers) (2022.6.15)\n",
            "Requirement already satisfied: urllib3!=1.25.0,!=1.25.1,<1.26,>=1.21.1 in /usr/local/lib/python3.7/dist-packages (from requests->transformers) (1.24.3)\n",
            "Installing collected packages: pyyaml, tokenizers, huggingface-hub, transformers\n",
            "  Attempting uninstall: pyyaml\n",
            "    Found existing installation: PyYAML 3.13\n",
            "    Uninstalling PyYAML-3.13:\n",
            "      Successfully uninstalled PyYAML-3.13\n",
            "Successfully installed huggingface-hub-0.8.1 pyyaml-6.0 tokenizers-0.12.1 transformers-4.20.1\n",
            "Looking in indexes: https://pypi.org/simple, https://us-python.pkg.dev/colab-wheels/public/simple/\n",
            "Requirement already satisfied: bs4 in /usr/local/lib/python3.7/dist-packages (0.0.1)\n",
            "Requirement already satisfied: beautifulsoup4 in /usr/local/lib/python3.7/dist-packages (from bs4) (4.6.3)\n"
          ]
        }
      ]
    },
    {
      "cell_type": "code",
      "execution_count": 3,
      "metadata": {
        "id": "v2jk0ONM-U2z"
      },
      "outputs": [],
      "source": [
        "import pandas as pd\n",
        "import numpy as np\n",
        "import re\n",
        "\n",
        "# Huggingface transformers\n",
        "import transformers\n",
        "from transformers import BertModel,BertTokenizer,AdamW, get_linear_schedule_with_warmup\n",
        "\n",
        "import torch\n",
        "from torch import nn ,cuda\n",
        "from torch.utils.data import DataLoader,Dataset,RandomSampler, SequentialSampler\n",
        "\n",
        "from sklearn.model_selection import train_test_split\n",
        "from sklearn.metrics import accuracy_score, precision_recall_fscore_support\n",
        "from sklearn.preprocessing import MultiLabelBinarizer\n",
        "\n",
        "from bs4 import BeautifulSoup\n",
        "\n",
        "import seaborn as sns\n",
        "from pylab import rcParams\n",
        "import matplotlib.pyplot as plt\n",
        "from matplotlib import rc\n",
        "%matplotlib inline\n",
        "\n",
        "RANDOM_SEED = 42\n",
        "np.random.seed(RANDOM_SEED)\n",
        "torch.manual_seed(RANDOM_SEED)\n",
        "\n",
        "\n",
        "from transformers import AutoTokenizer, DataCollatorWithPadding\n",
        "from transformers import BertForSequenceClassification\n",
        "\n",
        "import tensorflow as tf\n",
        "\n",
        "np.set_printoptions(formatter={'float_kind':'{:f}'.format})\n",
        "#since most of our numbers will be decimals :)"
      ]
    },
    {
      "cell_type": "code",
      "source": [
        "from google.colab import drive\n",
        "drive.mount(\"/content/drive\")"
      ],
      "metadata": {
        "colab": {
          "base_uri": "https://localhost:8080/"
        },
        "id": "COKq0sQORh-F",
        "outputId": "bc1b92cd-2c2d-4d78-e0d0-fbe5ed7b8aaf"
      },
      "execution_count": 5,
      "outputs": [
        {
          "output_type": "stream",
          "name": "stdout",
          "text": [
            "Mounted at /content/drive\n"
          ]
        }
      ]
    },
    {
      "cell_type": "markdown",
      "metadata": {
        "id": "vgg9sXEkrXDO"
      },
      "source": [
        "# **Dataset**"
      ]
    },
    {
      "cell_type": "code",
      "execution_count": 6,
      "metadata": {
        "colab": {
          "base_uri": "https://localhost:8080/",
          "height": 363
        },
        "id": "EfOhe_Au-eQJ",
        "outputId": "872e0046-0735-42a0-b50b-56d6a7c6e22d"
      },
      "outputs": [
        {
          "output_type": "execute_result",
          "data": {
            "text/plain": [
              "                                                text                  accept  \\\n",
              "0  The other part of our data consists of an undi...                  [Data]   \n",
              "1  This list of actors can be interpreted to repr...            [Definition]   \n",
              "2  The two samples were compared on all study var...        [Method, Theory]   \n",
              "3  This is supported by a more recent report by  ...  [RelationToLiterature]   \n",
              "4  , the false noise parameter C was misstated by...            [Definition]   \n",
              "5  In the strategic management literature, the na...  [RelationToLiterature]   \n",
              "6  No such link was found however, but, according...            [FutureWork]   \n",
              "7  The problem is that the timeliness of the data...      [Data, Limitation]   \n",
              "8  The social sciences differ from the physical s...  [RelationToLiterature]   \n",
              "9  Browne et al.  START_CITE [3] END_CITE  CITE_b...  [RelationToLiterature]   \n",
              "\n",
              "             labels_str  \n",
              "0                  Data  \n",
              "1            Definition  \n",
              "2         Method Theory  \n",
              "3  RelationToLiterature  \n",
              "4            Definition  \n",
              "5  RelationToLiterature  \n",
              "6            FutureWork  \n",
              "7       Data Limitation  \n",
              "8  RelationToLiterature  \n",
              "9  RelationToLiterature  "
            ],
            "text/html": [
              "\n",
              "  <div id=\"df-0fbabd0c-4fa4-4670-b1d4-f429358242ba\">\n",
              "    <div class=\"colab-df-container\">\n",
              "      <div>\n",
              "<style scoped>\n",
              "    .dataframe tbody tr th:only-of-type {\n",
              "        vertical-align: middle;\n",
              "    }\n",
              "\n",
              "    .dataframe tbody tr th {\n",
              "        vertical-align: top;\n",
              "    }\n",
              "\n",
              "    .dataframe thead th {\n",
              "        text-align: right;\n",
              "    }\n",
              "</style>\n",
              "<table border=\"1\" class=\"dataframe\">\n",
              "  <thead>\n",
              "    <tr style=\"text-align: right;\">\n",
              "      <th></th>\n",
              "      <th>text</th>\n",
              "      <th>accept</th>\n",
              "      <th>labels_str</th>\n",
              "    </tr>\n",
              "  </thead>\n",
              "  <tbody>\n",
              "    <tr>\n",
              "      <th>0</th>\n",
              "      <td>The other part of our data consists of an undi...</td>\n",
              "      <td>[Data]</td>\n",
              "      <td>Data</td>\n",
              "    </tr>\n",
              "    <tr>\n",
              "      <th>1</th>\n",
              "      <td>This list of actors can be interpreted to repr...</td>\n",
              "      <td>[Definition]</td>\n",
              "      <td>Definition</td>\n",
              "    </tr>\n",
              "    <tr>\n",
              "      <th>2</th>\n",
              "      <td>The two samples were compared on all study var...</td>\n",
              "      <td>[Method, Theory]</td>\n",
              "      <td>Method Theory</td>\n",
              "    </tr>\n",
              "    <tr>\n",
              "      <th>3</th>\n",
              "      <td>This is supported by a more recent report by  ...</td>\n",
              "      <td>[RelationToLiterature]</td>\n",
              "      <td>RelationToLiterature</td>\n",
              "    </tr>\n",
              "    <tr>\n",
              "      <th>4</th>\n",
              "      <td>, the false noise parameter C was misstated by...</td>\n",
              "      <td>[Definition]</td>\n",
              "      <td>Definition</td>\n",
              "    </tr>\n",
              "    <tr>\n",
              "      <th>5</th>\n",
              "      <td>In the strategic management literature, the na...</td>\n",
              "      <td>[RelationToLiterature]</td>\n",
              "      <td>RelationToLiterature</td>\n",
              "    </tr>\n",
              "    <tr>\n",
              "      <th>6</th>\n",
              "      <td>No such link was found however, but, according...</td>\n",
              "      <td>[FutureWork]</td>\n",
              "      <td>FutureWork</td>\n",
              "    </tr>\n",
              "    <tr>\n",
              "      <th>7</th>\n",
              "      <td>The problem is that the timeliness of the data...</td>\n",
              "      <td>[Data, Limitation]</td>\n",
              "      <td>Data Limitation</td>\n",
              "    </tr>\n",
              "    <tr>\n",
              "      <th>8</th>\n",
              "      <td>The social sciences differ from the physical s...</td>\n",
              "      <td>[RelationToLiterature]</td>\n",
              "      <td>RelationToLiterature</td>\n",
              "    </tr>\n",
              "    <tr>\n",
              "      <th>9</th>\n",
              "      <td>Browne et al.  START_CITE [3] END_CITE  CITE_b...</td>\n",
              "      <td>[RelationToLiterature]</td>\n",
              "      <td>RelationToLiterature</td>\n",
              "    </tr>\n",
              "  </tbody>\n",
              "</table>\n",
              "</div>\n",
              "      <button class=\"colab-df-convert\" onclick=\"convertToInteractive('df-0fbabd0c-4fa4-4670-b1d4-f429358242ba')\"\n",
              "              title=\"Convert this dataframe to an interactive table.\"\n",
              "              style=\"display:none;\">\n",
              "        \n",
              "  <svg xmlns=\"http://www.w3.org/2000/svg\" height=\"24px\"viewBox=\"0 0 24 24\"\n",
              "       width=\"24px\">\n",
              "    <path d=\"M0 0h24v24H0V0z\" fill=\"none\"/>\n",
              "    <path d=\"M18.56 5.44l.94 2.06.94-2.06 2.06-.94-2.06-.94-.94-2.06-.94 2.06-2.06.94zm-11 1L8.5 8.5l.94-2.06 2.06-.94-2.06-.94L8.5 2.5l-.94 2.06-2.06.94zm10 10l.94 2.06.94-2.06 2.06-.94-2.06-.94-.94-2.06-.94 2.06-2.06.94z\"/><path d=\"M17.41 7.96l-1.37-1.37c-.4-.4-.92-.59-1.43-.59-.52 0-1.04.2-1.43.59L10.3 9.45l-7.72 7.72c-.78.78-.78 2.05 0 2.83L4 21.41c.39.39.9.59 1.41.59.51 0 1.02-.2 1.41-.59l7.78-7.78 2.81-2.81c.8-.78.8-2.07 0-2.86zM5.41 20L4 18.59l7.72-7.72 1.47 1.35L5.41 20z\"/>\n",
              "  </svg>\n",
              "      </button>\n",
              "      \n",
              "  <style>\n",
              "    .colab-df-container {\n",
              "      display:flex;\n",
              "      flex-wrap:wrap;\n",
              "      gap: 12px;\n",
              "    }\n",
              "\n",
              "    .colab-df-convert {\n",
              "      background-color: #E8F0FE;\n",
              "      border: none;\n",
              "      border-radius: 50%;\n",
              "      cursor: pointer;\n",
              "      display: none;\n",
              "      fill: #1967D2;\n",
              "      height: 32px;\n",
              "      padding: 0 0 0 0;\n",
              "      width: 32px;\n",
              "    }\n",
              "\n",
              "    .colab-df-convert:hover {\n",
              "      background-color: #E2EBFA;\n",
              "      box-shadow: 0px 1px 2px rgba(60, 64, 67, 0.3), 0px 1px 3px 1px rgba(60, 64, 67, 0.15);\n",
              "      fill: #174EA6;\n",
              "    }\n",
              "\n",
              "    [theme=dark] .colab-df-convert {\n",
              "      background-color: #3B4455;\n",
              "      fill: #D2E3FC;\n",
              "    }\n",
              "\n",
              "    [theme=dark] .colab-df-convert:hover {\n",
              "      background-color: #434B5C;\n",
              "      box-shadow: 0px 1px 3px 1px rgba(0, 0, 0, 0.15);\n",
              "      filter: drop-shadow(0px 1px 2px rgba(0, 0, 0, 0.3));\n",
              "      fill: #FFFFFF;\n",
              "    }\n",
              "  </style>\n",
              "\n",
              "      <script>\n",
              "        const buttonEl =\n",
              "          document.querySelector('#df-0fbabd0c-4fa4-4670-b1d4-f429358242ba button.colab-df-convert');\n",
              "        buttonEl.style.display =\n",
              "          google.colab.kernel.accessAllowed ? 'block' : 'none';\n",
              "\n",
              "        async function convertToInteractive(key) {\n",
              "          const element = document.querySelector('#df-0fbabd0c-4fa4-4670-b1d4-f429358242ba');\n",
              "          const dataTable =\n",
              "            await google.colab.kernel.invokeFunction('convertToInteractive',\n",
              "                                                     [key], {});\n",
              "          if (!dataTable) return;\n",
              "\n",
              "          const docLinkHtml = 'Like what you see? Visit the ' +\n",
              "            '<a target=\"_blank\" href=https://colab.research.google.com/notebooks/data_table.ipynb>data table notebook</a>'\n",
              "            + ' to learn more about interactive tables.';\n",
              "          element.innerHTML = '';\n",
              "          dataTable['output_type'] = 'display_data';\n",
              "          await google.colab.output.renderOutput(dataTable, element);\n",
              "          const docLink = document.createElement('div');\n",
              "          docLink.innerHTML = docLinkHtml;\n",
              "          element.appendChild(docLink);\n",
              "        }\n",
              "      </script>\n",
              "    </div>\n",
              "  </div>\n",
              "  "
            ]
          },
          "metadata": {},
          "execution_count": 6
        }
      ],
      "source": [
        "#df = pd.read_csv(\"/content/drive/Othercomputers/Mi portátil/Master/GitHub/twsm-group-project/twsm_project_corpus0.csv\")\n",
        "df = pd.read_csv(\"/content/drive/MyDrive/twsm/twsm_project_corpus0.csv\", index_col = 0) #valentins drive\n",
        "#df = pd.read_csv(\"/home/valentin_werner/TWSM_Lab_Team4/twsm_project_corpus0.csv\", index_col = 0) on zeno\n",
        "df.head(5)\n",
        "df = df.dropna() #drop na values (somehow a few remained in the dataset)\n",
        "rejoined = [row.split(\" \") for row in df.labels_str]\n",
        "df[\"accept\"] = rejoined\n",
        "df.head(10)"
      ]
    },
    {
      "cell_type": "markdown",
      "metadata": {
        "id": "KwEf8F5Nrdo_"
      },
      "source": [
        "## **Should we apply this pre_process?**"
      ]
    },
    {
      "cell_type": "code",
      "execution_count": 7,
      "metadata": {
        "cellView": "form",
        "id": "R7lxy2lkloUh"
      },
      "outputs": [],
      "source": [
        "#@title\n",
        "def pre_process(text):\n",
        "  text = BeautifulSoup(text).get_text()\n",
        "  # fetch alphabetic characters\n",
        "  #text = re.sub(\"[^a-zA-Z]\", \" \", text)\n",
        "  # convert text to lower case\n",
        "  text = text.lower()\n",
        "  # split text into tokens to remove whitespaces\n",
        "  tokens = text.split()\n",
        "  return \" \".join(tokens)"
      ]
    },
    {
      "cell_type": "code",
      "execution_count": 8,
      "metadata": {
        "cellView": "form",
        "id": "S-Chumfglxr-"
      },
      "outputs": [],
      "source": [
        "#@title\n",
        "df[\"clean_text\"] = df[\"text\"].apply(pre_process)"
      ]
    },
    {
      "cell_type": "code",
      "execution_count": 9,
      "metadata": {
        "cellView": "form",
        "colab": {
          "base_uri": "https://localhost:8080/",
          "height": 53
        },
        "id": "BDX-n165KNju",
        "outputId": "8ee0ec7c-d783-4f9f-90ac-c7f8a7bbd7eb"
      },
      "outputs": [
        {
          "output_type": "execute_result",
          "data": {
            "text/plain": [
              "'This is supported by a more recent report by  START_CITE West and Curtis (2006) END_CITE  CITE_b72 , which found significant differences between women and men academics, including disparities in tenure and salaries.'"
            ],
            "application/vnd.google.colaboratory.intrinsic+json": {
              "type": "string"
            }
          },
          "metadata": {},
          "execution_count": 9
        }
      ],
      "source": [
        "#@title\n",
        "df[\"text\"][3]"
      ]
    },
    {
      "cell_type": "code",
      "execution_count": 10,
      "metadata": {
        "cellView": "form",
        "colab": {
          "base_uri": "https://localhost:8080/",
          "height": 53
        },
        "id": "dSjW6be5KN9A",
        "outputId": "79b78e92-e0a7-404a-fde3-f8579accee3b"
      },
      "outputs": [
        {
          "output_type": "execute_result",
          "data": {
            "text/plain": [
              "'this is supported by a more recent report by start_cite west and curtis (2006) end_cite cite_b72 , which found significant differences between women and men academics, including disparities in tenure and salaries.'"
            ],
            "application/vnd.google.colaboratory.intrinsic+json": {
              "type": "string"
            }
          },
          "metadata": {},
          "execution_count": 10
        }
      ],
      "source": [
        "#@title\n",
        "df[\"clean_text\"][3]"
      ]
    },
    {
      "cell_type": "markdown",
      "metadata": {
        "id": "BGCiUujXrrrT"
      },
      "source": [
        "## **Max_len decision**"
      ]
    },
    {
      "cell_type": "code",
      "execution_count": 11,
      "metadata": {
        "colab": {
          "base_uri": "https://localhost:8080/",
          "height": 312
        },
        "id": "5aUMynjJdfJb",
        "outputId": "4af0c775-e446-421b-9139-f0a628d5e280"
      },
      "outputs": [
        {
          "output_type": "execute_result",
          "data": {
            "text/plain": [
              "Text(0, 0.5, 'Word count')"
            ]
          },
          "metadata": {},
          "execution_count": 11
        },
        {
          "output_type": "display_data",
          "data": {
            "text/plain": [
              "<Figure size 432x288 with 1 Axes>"
            ],
            "image/png": "[encoded data removed]"
          },
          "metadata": {
            "needs_background": "light"
          }
        }
      ],
      "source": [
        "#Count words per sentence so we can set an appropiate max_len. In this case, 200 will be more than enough.\n",
        "word_list = [len(x.split()) for x in df[\"clean_text\"].tolist()]\n",
        "fig = plt.figure()\n",
        "ax = fig.add_subplot(1,1,1,)\n",
        "n, bins, patches = ax.hist(word_list, bins=50, histtype='bar')\n",
        "\n",
        "#ax.set_xticklabels([n], rotation='vertical')\n",
        "\n",
        "for patch in patches:\n",
        "    patch.set_facecolor('r')\n",
        "\n",
        "plt.title(\"Words per sentence\")\n",
        "plt.xlabel('Cases')\n",
        "plt.ylabel('Word count')"
      ]
    },
    {
      "cell_type": "code",
      "execution_count": 12,
      "metadata": {
        "colab": {
          "base_uri": "https://localhost:8080/",
          "height": 337
        },
        "id": "YArubky4ROlt",
        "outputId": "efe93461-6c77-480e-ce2f-258d7882f203"
      },
      "outputs": [
        {
          "output_type": "stream",
          "name": "stderr",
          "text": [
            "/usr/local/lib/python3.7/dist-packages/seaborn/_decorators.py:43: FutureWarning: Pass the following variable as a keyword arg: x. From version 0.12, the only valid positional argument will be `data`, and passing other arguments without an explicit keyword will result in an error or misinterpretation.\n",
            "  FutureWarning\n"
          ]
        },
        {
          "output_type": "execute_result",
          "data": {
            "text/plain": [
              "<matplotlib.axes._subplots.AxesSubplot at 0x7fa5ad912110>"
            ]
          },
          "metadata": {},
          "execution_count": 12
        },
        {
          "output_type": "display_data",
          "data": {
            "text/plain": [
              "<Figure size 432x288 with 1 Axes>"
            ],
            "image/png": "[encoded data removed]"
          },
          "metadata": {
            "needs_background": "light"
          }
        }
      ],
      "source": [
        "sns.boxplot(word_list)"
      ]
    },
    {
      "cell_type": "code",
      "execution_count": 13,
      "metadata": {
        "colab": {
          "base_uri": "https://localhost:8080/"
        },
        "id": "OGlNTmlgROlv",
        "outputId": "54479e7e-994a-4d8c-c20d-5cbca058138e"
      },
      "outputs": [
        {
          "output_type": "execute_result",
          "data": {
            "text/plain": [
              "3"
            ]
          },
          "metadata": {},
          "execution_count": 13
        }
      ],
      "source": [
        "np.count_nonzero(np.array(word_list) >= 75)\n",
        "#maximum length of 75 is fine!\n",
        "\n",
        "#recheck this after removing start-cite, end-cite etc"
      ]
    },
    {
      "cell_type": "markdown",
      "metadata": {
        "id": "nxS1zS4YROlw"
      },
      "source": [
        "# Valentin tries with Keras"
      ]
    },
    {
      "cell_type": "code",
      "execution_count": 14,
      "metadata": {
        "colab": {
          "base_uri": "https://localhost:8080/"
        },
        "id": "EI6VcqMSROlw",
        "outputId": "36c37a54-5589-4b64-f560-79141e5d5c8f"
      },
      "outputs": [
        {
          "output_type": "stream",
          "name": "stderr",
          "text": [
            "/usr/local/lib/python3.7/dist-packages/ipykernel_launcher.py:2: VisibleDeprecationWarning: Creating an ndarray from ragged nested sequences (which is a list-or-tuple of lists-or-tuples-or ndarrays with different lengths or shapes) is deprecated. If you meant to do this, you must specify 'dtype=object' when creating the ndarray.\n",
            "  \n"
          ]
        }
      ],
      "source": [
        "#lets turn \"accept\" into a column that properly lists the labels (right now it is a string of a list instead of a list of strings)\n",
        "rejoined = np.array([row.split(\" \") for row in df.labels_str])\n",
        "df[\"accept\"] = rejoined\n",
        "df_new = df[[\"clean_text\", \"accept\"]]"
      ]
    },
    {
      "cell_type": "code",
      "execution_count": 15,
      "metadata": {
        "colab": {
          "base_uri": "https://localhost:8080/"
        },
        "id": "MrghIAcKROlx",
        "outputId": "7907abb8-fa09-4e96-d8b5-fd019f201fcc"
      },
      "outputs": [
        {
          "output_type": "execute_result",
          "data": {
            "text/plain": [
              "array([list(['Data']), list(['Definition']), list(['Method', 'Theory']),\n",
              "       ..., list(['Definition']), list(['RelationToLiterature']),\n",
              "       list(['Definition'])], dtype=object)"
            ]
          },
          "metadata": {},
          "execution_count": 15
        }
      ],
      "source": [
        "rejoined"
      ]
    },
    {
      "cell_type": "code",
      "execution_count": 16,
      "metadata": {
        "id": "BsYAl0drROlz"
      },
      "outputs": [],
      "source": [
        "df_new = df_new.reset_index().drop(columns = \"index\")\n",
        "df_new.columns = [\"text\", \"label\"]"
      ]
    },
    {
      "cell_type": "code",
      "execution_count": 17,
      "metadata": {
        "colab": {
          "base_uri": "https://localhost:8080/"
        },
        "id": "d33nncjAROl0",
        "outputId": "ce1df672-c0b8-4758-c9d9-dc6355a37620"
      },
      "outputs": [
        {
          "output_type": "stream",
          "name": "stdout",
          "text": [
            "897 257 128\n"
          ]
        }
      ],
      "source": [
        "# First Split for Train and Test\n",
        "#we should stratify, but we have some groups that have only one\n",
        "train_df, test_df = train_test_split(df_new, test_size=0.3, random_state= 0)#, stratify = df_new.label.values)\n",
        "\n",
        "# Next split test in to test and validation\n",
        "val_df = test_df.sample(frac = 0.667)\n",
        "test_df = test_df.drop(val_df.index)\n",
        "\n",
        "#70% train, 20% val, 10% test\n",
        "print(train_df.shape[0], val_df.shape[0], test_df.shape[0])"
      ]
    },
    {
      "cell_type": "code",
      "execution_count": 18,
      "metadata": {
        "colab": {
          "base_uri": "https://localhost:8080/"
        },
        "id": "SDCWythsROl1",
        "outputId": "ca05c69a-6c8b-4f44-b9af-b722f6c74ce0"
      },
      "outputs": [
        {
          "output_type": "stream",
          "name": "stdout",
          "text": [
            "Vocabulary: ['[UNK]', 'RelationToLiterature', 'Theory', 'Method', 'EmpiricalResult', 'Definition', 'Contribution', 'Motivation', 'Data', 'HypothesisResult', 'Goal', 'Limitation', 'FutureWork', 'Item', 'Hypothesis', 'ResearchQuestion']\n"
          ]
        }
      ],
      "source": [
        "#encoding labels with keras Lookup Layer\n",
        "terms = tf.ragged.constant(df_new[\"label\"].values)\n",
        "lookup = tf.keras.layers.StringLookup(output_mode=\"multi_hot\")\n",
        "lookup.adapt(terms)\n",
        "vocab = lookup.get_vocabulary()\n",
        "\n",
        "\n",
        "def invert_multi_hot(encoded_labels):\n",
        "    \"\"\"Reverse a single multi-hot encoded label to a tuple of vocab terms.\"\"\"\n",
        "    hot_indices = np.argwhere(encoded_labels == 1.0)[..., 0]\n",
        "    return np.take(vocab, hot_indices)\n",
        "\n",
        "print(f\"Vocabulary: {vocab}\")\n",
        "#the UNK token will always also be returned."
      ]
    },
    {
      "cell_type": "code",
      "execution_count": 19,
      "metadata": {
        "colab": {
          "base_uri": "https://localhost:8080/"
        },
        "id": "KTwzX-g9ROl1",
        "outputId": "99231f44-0184-4748-a6ca-1db8206b9107"
      },
      "outputs": [
        {
          "output_type": "execute_result",
          "data": {
            "text/plain": [
              "(<tf.Tensor: shape=(1, 16), dtype=float32, numpy=\n",
              " array([[0.000000, 0.000000, 1.000000, 1.000000, 0.000000, 0.000000,\n",
              "         0.000000, 0.000000, 0.000000, 0.000000, 0.000000, 0.000000,\n",
              "         0.000000, 0.000000, 0.000000, 0.000000]], dtype=float32)>,\n",
              " ['Method', 'Theory'])"
            ]
          },
          "metadata": {},
          "execution_count": 19
        }
      ],
      "source": [
        "#Example\n",
        "sample_label = df_new[\"label\"].iloc[2]\n",
        "label_binarized = lookup([sample_label])\n",
        "label_binarized, sample_label\n",
        "#Note: Unlike the OHE with sklearn, this is not ordered alphabetically but in the order we can find below (including the UNK token)"
      ]
    },
    {
      "cell_type": "markdown",
      "metadata": {
        "id": "q2RIYsmUROl2"
      },
      "source": [
        "Inspo:\n",
        " \n",
        "https://www.kaggle.com/code/samarthagarwal23/0-81-tf-keras-deberta-baseline-single-model\n",
        "\n",
        "https://keras.io/examples/nlp/multi_label_classification/ "
      ]
    },
    {
      "cell_type": "code",
      "execution_count": 20,
      "metadata": {
        "id": "IIus_m44ROl2"
      },
      "outputs": [],
      "source": [
        "#Our Config (so we can reference this values in later code and avoid spaghetti)\n",
        "seed = 0\n",
        "epochs = 10\n",
        "#num_folds = 5, #set folds later on\n",
        "max_length = 75\n",
        "batch_size = 8\n",
        "learning_rate = 2e-5\n",
        "base_model = \"bert-large-uncased\""
      ]
    },
    {
      "cell_type": "code",
      "execution_count": 21,
      "metadata": {
        "colab": {
          "base_uri": "https://localhost:8080/",
          "height": 145,
          "referenced_widgets": [
            "2055459e607e471a8d4d63eb391e0443",
            "3e6063ba8bc2461cbb399e122f04f5a4",
            "301ece3c12c64d64a248d4b5dffb399d",
            "c77ad56085524ec1bc06e89bf7129cc7",
            "1c086fe9e5674dfca5cef8b44c258e40",
            "9f936a9373c2432fa0e55de1fac912c5",
            "9d81bbf70eef413983c93cee03d76b57",
            "4eaaa7a2ee0e4eeabcd223082e8fc044",
            "00d7a89acf3c49aa9f8bc91967addf09",
            "03b5d9c9c88f4bf2ae2e8d6d4d2fdafd",
            "72572f93b7d64367a9e0edfe7c99386c",
            "2eaa23729cea45e8972bee1517738a72",
            "863252203f694d86a41b0833d043cb54",
            "aab4d39095324704a2d4c2e80c793a9d",
            "82f4a4175ad648e58f523d57da857f25",
            "fffc65ca52384a7580aef3ce3f4cd456",
            "2983ed7025df450bb5f046c4b0a7ddc4",
            "67636326315d40cb9b7ce131432ef478",
            "15d14efe805943c4a21838efe33a0831",
            "5c6cae39b14648849fbbc5a5605b1d22",
            "6b209a6933d9439cad5a1d230bed0f3f",
            "abb6dc61cf0248dca00d692d1233e117",
            "63247b42de4a49cb962fd1726fdd5d2e",
            "eb87c59074e74a00853c701f689bf982",
            "c076442af4034cd982d38d35c26d2583",
            "d85c9de10d9249a7ac6e5a1901cdc370",
            "562795a0afbd4588885da21c85ec5d50",
            "9b4f2f79e6744bf6b666e09003a21f92",
            "1dfb279ba4434be7bd8d7822673ff02a",
            "ae988ec661b247c18f38fcbac75bbb4f",
            "b311767692904d11a6d8b0255f7b0ed3",
            "f5842be71bfe439ba177775e1ce640af",
            "1c477b4982cb4e868c00fed8540ec38c",
            "7fc6d2a569554f039ca6b1c8decf96ca",
            "9d127aa6c2044fcaadf9c38bf57ae242",
            "b14f39822a314a4aae19f99a19c007b5",
            "5729c1c915014dc6a0340a29ef27dc69",
            "c87b836487b647808dd2908f834886aa",
            "34d0f563e7384f4baf7fc3b2bfd70b49",
            "aa0a4ae77cb84ee6bfad268197fdeeee",
            "80d3e804d03e4257a5247e136787c620",
            "b7b11dca755741eca10a54290d66a7cb",
            "e443406e104b4cc78b31b12550db3844",
            "c23ea13b7084496eaba9736fd50ac00d"
          ]
        },
        "id": "_cmnfnSxROl3",
        "outputId": "ac635e75-b13a-4650-d288-daa7b52a384f"
      },
      "outputs": [
        {
          "output_type": "display_data",
          "data": {
            "text/plain": [
              "Downloading:   0%|          | 0.00/28.0 [00:00<?, ?B/s]"
            ],
            "application/vnd.jupyter.widget-view+json": {
              "version_major": 2,
              "version_minor": 0,
              "model_id": "2055459e607e471a8d4d63eb391e0443"
            }
          },
          "metadata": {}
        },
        {
          "output_type": "display_data",
          "data": {
            "text/plain": [
              "Downloading:   0%|          | 0.00/571 [00:00<?, ?B/s]"
            ],
            "application/vnd.jupyter.widget-view+json": {
              "version_major": 2,
              "version_minor": 0,
              "model_id": "2eaa23729cea45e8972bee1517738a72"
            }
          },
          "metadata": {}
        },
        {
          "output_type": "display_data",
          "data": {
            "text/plain": [
              "Downloading:   0%|          | 0.00/226k [00:00<?, ?B/s]"
            ],
            "application/vnd.jupyter.widget-view+json": {
              "version_major": 2,
              "version_minor": 0,
              "model_id": "63247b42de4a49cb962fd1726fdd5d2e"
            }
          },
          "metadata": {}
        },
        {
          "output_type": "display_data",
          "data": {
            "text/plain": [
              "Downloading:   0%|          | 0.00/455k [00:00<?, ?B/s]"
            ],
            "application/vnd.jupyter.widget-view+json": {
              "version_major": 2,
              "version_minor": 0,
              "model_id": "7fc6d2a569554f039ca6b1c8decf96ca"
            }
          },
          "metadata": {}
        }
      ],
      "source": [
        "#Prepare tokenizer\n",
        "tokenizer = AutoTokenizer.from_pretrained(base_model)\n",
        "def tok(x): return tokenizer(x, padding = True, truncation = True, return_tensors = \"tf\", max_length = max_length)"
      ]
    },
    {
      "cell_type": "code",
      "execution_count": 22,
      "metadata": {
        "id": "d7BG81WZROl3"
      },
      "outputs": [],
      "source": [
        "def make_dataset(dataframe, is_train=True):\n",
        "    labels = tf.ragged.constant(dataframe[\"label\"].values)\n",
        "    label_binarized = lookup(labels).numpy()\n",
        "    dataset = tf.data.Dataset.from_tensor_slices(\n",
        "        #because tokenizing becomes more dificult afterwards (hugginface clashes a little with keras), I already tokenize here\n",
        "        ((tok(list(dataframe.text))[\"input_ids\"], tok(list(dataframe.text))[\"attention_mask\"])\n",
        "        #not using the token type since we are not using special tokens anyways\n",
        "        ,label_binarized)\n",
        "    )\n",
        "    #take batches randomly along the whole dataset\n",
        "    dataset = dataset.shuffle(batch_size * ((dataframe.shape[0] // batch_size) + 1)) if is_train else dataset\n",
        "    return dataset.batch(batch_size)"
      ]
    },
    {
      "cell_type": "code",
      "execution_count": 23,
      "metadata": {
        "id": "HGbBZzNjROl4"
      },
      "outputs": [],
      "source": [
        "#get datasets\n",
        "train_dataset = make_dataset(train_df, is_train=True)\n",
        "validation_dataset = make_dataset(val_df, is_train=False)\n",
        "test_dataset = make_dataset(test_df, is_train=False)"
      ]
    },
    {
      "cell_type": "code",
      "execution_count": 24,
      "metadata": {
        "id": "dYPr04NuROl5"
      },
      "outputs": [],
      "source": [
        "def get_labels_out(dataset):\n",
        "    labels = []\n",
        "    for element in dataset:\n",
        "        for arr in element[1]:\n",
        "            labels.append(np.array(arr))\n",
        "    labels = np.asarray(labels)\n",
        "    return labels"
      ]
    },
    {
      "cell_type": "code",
      "execution_count": 25,
      "metadata": {
        "colab": {
          "base_uri": "https://localhost:8080/"
        },
        "id": "Iuej6ppSROl5",
        "outputId": "02e712ea-cc8f-45f8-f6eb-7da83d3ee57c"
      },
      "outputs": [
        {
          "output_type": "stream",
          "name": "stdout",
          "text": [
            "Tokens: [  101  2951 16283  6806 18161  2003  1037  2974  2007  2714  6459  1006\n",
            "  1999  8202  1010  2727  1007  1012   102     0     0     0     0     0\n",
            "     0     0     0     0     0     0     0     0     0     0     0     0\n",
            "     0     0     0     0     0     0     0     0     0     0     0     0\n",
            "     0     0     0     0     0     0     0     0     0     0     0     0\n",
            "     0     0     0     0     0     0     0     0     0     0     0     0\n",
            "     0     0     0]\n",
            "Label(s): ['RelationToLiterature' 'Definition']\n",
            "Tokens: [ 101 1996 7660 2165 2173 1999 3699 1010 1998 1045 2499 2045 2127 3380\n",
            " 1010 2011 2029 2051 6688 3523 2001 1999 3169 1012  102    0    0    0\n",
            "    0    0    0    0    0    0    0    0    0    0    0    0    0    0\n",
            "    0    0    0    0    0    0    0    0    0    0    0    0    0    0\n",
            "    0    0    0    0    0    0    0    0    0    0    0    0    0    0\n",
            "    0    0    0    0    0]\n",
            "Label(s): ['Item']\n",
            "Tokens: [  101  1996  3330  2568  1011  2275  2003  4180  2007  4346  1037  1005\n",
            "  2938  2483  8873  6129  1005  5576  1010  1998  1996  4045  2568  1011\n",
            "  2275  2003  2025  8510  2127  2019 15502  5576  2064  2022 10003  1012\n",
            "   102     0     0     0     0     0     0     0     0     0     0     0\n",
            "     0     0     0     0     0     0     0     0     0     0     0     0\n",
            "     0     0     0     0     0     0     0     0     0     0     0     0\n",
            "     0     0     0]\n",
            "Label(s): ['Motivation' 'FutureWork']\n"
          ]
        }
      ],
      "source": [
        "#One example input and (decoded) output from the train dataset\n",
        "text_batch, label_batch = next(iter(train_dataset))\n",
        "for i, text in enumerate(text_batch[0][:3]):\n",
        "    label = label_batch[i].numpy()\n",
        "    print(f\"Tokens: {text}\")\n",
        "    print(f\"Label(s): {invert_multi_hot(label)}\")\n",
        "#the first three will be our input"
      ]
    },
    {
      "cell_type": "code",
      "execution_count": 26,
      "metadata": {
        "id": "eixkhxl3ROl5"
      },
      "outputs": [],
      "source": [
        "def build_model():\n",
        "    \n",
        "    input_ids = tf.keras.Input(shape=(max_length, ), dtype = tf.int32)\n",
        "    input_mask = tf.keras.Input(shape=(max_length, ), dtype = tf.int32)\n",
        "    \n",
        "    bert = transformers.TFAutoModel.from_pretrained(base_model, num_labels=15, problem_type=\"multi_label\", trainable=True)\n",
        "    x = bert(input_ids = input_ids, attention_mask = input_mask)\n",
        "\n",
        "    #this is fore finetuning (tinkering with last layers)\n",
        "    x = tf.keras.layers.GlobalAveragePooling1D()(x.last_hidden_state)\n",
        "    x = tf.keras.layers.Dropout(0.1)(x)\n",
        "    fnl = tf.keras.layers.Dense(lookup.vocabulary_size(), activation='sigmoid')(x)\n",
        "    \n",
        "    model = tf.keras.Model(inputs = [input_ids, input_mask], \n",
        "                           outputs = fnl)\n",
        "    return model\n"
      ]
    },
    {
      "cell_type": "code",
      "execution_count": 27,
      "metadata": {
        "colab": {
          "base_uri": "https://localhost:8080/",
          "height": 156,
          "referenced_widgets": [
            "1672a1751796439aa01275ac1aaa559b",
            "df0d2666aa6b4cc59753c2e6ab4e3439",
            "e4f70db0fded4e87b0a0662fea669e76",
            "5935f42f9b814e5582bc8c0a79f00725",
            "f608e0b8379c45af93de7c5dcb7159e1",
            "ccb62eff51eb4d8782e08acc07dd476a",
            "1de34847a2374afdba6a6fe42e72d1bb",
            "3d809b5187a941549402baabe491e6b5",
            "0418e3356b994986bb610a59590256e2",
            "86655f912a184dc7aa22fd83a2cd0757",
            "93008668ca224c76881f5531e5a0999a"
          ]
        },
        "id": "iHFKWL_3ROl5",
        "outputId": "7e0e30b8-4df5-4748-ec01-294a8c361189"
      },
      "outputs": [
        {
          "output_type": "display_data",
          "data": {
            "text/plain": [
              "Downloading:   0%|          | 0.00/1.37G [00:00<?, ?B/s]"
            ],
            "application/vnd.jupyter.widget-view+json": {
              "version_major": 2,
              "version_minor": 0,
              "model_id": "1672a1751796439aa01275ac1aaa559b"
            }
          },
          "metadata": {}
        },
        {
          "output_type": "stream",
          "name": "stderr",
          "text": [
            "Some layers from the model checkpoint at bert-large-uncased were not used when initializing TFBertModel: ['mlm___cls', 'nsp___cls']\n",
            "- This IS expected if you are initializing TFBertModel from the checkpoint of a model trained on another task or with another architecture (e.g. initializing a BertForSequenceClassification model from a BertForPreTraining model).\n",
            "- This IS NOT expected if you are initializing TFBertModel from the checkpoint of a model that you expect to be exactly identical (initializing a BertForSequenceClassification model from a BertForSequenceClassification model).\n",
            "All the layers of TFBertModel were initialized from the model checkpoint at bert-large-uncased.\n",
            "If your task is similar to the task the model of the checkpoint was trained on, you can already use TFBertModel for predictions without further training.\n"
          ]
        }
      ],
      "source": [
        "model = build_model()\n",
        "model.compile(\n",
        "        optimizer = tf.keras.optimizers.Adam(learning_rate = learning_rate),\n",
        "        loss = \"binary_crossentropy\",\n",
        "        metrics=[\"categorical_accuracy\"],\n",
        "    )"
      ]
    },
    {
      "cell_type": "code",
      "execution_count": 28,
      "metadata": {
        "id": "LEp0UJtCROl7"
      },
      "outputs": [],
      "source": [
        "callback_es = tf.keras.callbacks.EarlyStopping(monitor='val_categorical_accuracy', \n",
        "                                               patience=2,\n",
        "                                               mode='max', \n",
        "                                               verbose=1,\n",
        "                                               restore_best_weights=True)\n",
        "callback_save = tf.keras.callbacks.ModelCheckpoint(\n",
        "        'setencebert.h5', monitor='val_categorical_accuracy', \n",
        "        verbose=1, save_best_only=True,\n",
        "        save_weights_only=True, mode='max', \n",
        "        save_freq='epoch')"
      ]
    },
    {
      "cell_type": "code",
      "execution_count": 29,
      "metadata": {
        "colab": {
          "base_uri": "https://localhost:8080/"
        },
        "id": "RjtoGd3OROl7",
        "outputId": "496de39f-a4e1-49ae-c7df-c663fb57e1b8"
      },
      "outputs": [
        {
          "output_type": "stream",
          "name": "stdout",
          "text": [
            "Epoch 1/10\n",
            "WARNING:tensorflow:Gradients do not exist for variables ['tf_bert_model/bert/pooler/dense/kernel:0', 'tf_bert_model/bert/pooler/dense/bias:0'] when minimizing the loss. If you're using `model.compile()`, did you forget to provide a `loss`argument?\n",
            "WARNING:tensorflow:Gradients do not exist for variables ['tf_bert_model/bert/pooler/dense/kernel:0', 'tf_bert_model/bert/pooler/dense/bias:0'] when minimizing the loss. If you're using `model.compile()`, did you forget to provide a `loss`argument?\n",
            "113/113 [==============================] - ETA: 0s - loss: 0.2632 - categorical_accuracy: 0.3010\n",
            "Epoch 1: val_categorical_accuracy improved from -inf to 0.38132, saving model to setencebert.h5\n",
            "113/113 [==============================] - 96s 580ms/step - loss: 0.2632 - categorical_accuracy: 0.3010 - val_loss: 0.2258 - val_categorical_accuracy: 0.3813\n",
            "Epoch 2/10\n",
            "113/113 [==============================] - ETA: 0s - loss: 0.2149 - categorical_accuracy: 0.4805\n",
            "Epoch 2: val_categorical_accuracy improved from 0.38132 to 0.41245, saving model to setencebert.h5\n",
            "113/113 [==============================] - 63s 556ms/step - loss: 0.2149 - categorical_accuracy: 0.4805 - val_loss: 0.2221 - val_categorical_accuracy: 0.4125\n",
            "Epoch 3/10\n",
            "113/113 [==============================] - ETA: 0s - loss: 0.1692 - categorical_accuracy: 0.6076\n",
            "Epoch 3: val_categorical_accuracy improved from 0.41245 to 0.46304, saving model to setencebert.h5\n",
            "113/113 [==============================] - 62s 549ms/step - loss: 0.1692 - categorical_accuracy: 0.6076 - val_loss: 0.2081 - val_categorical_accuracy: 0.4630\n",
            "Epoch 4/10\n",
            "113/113 [==============================] - ETA: 0s - loss: 0.1208 - categorical_accuracy: 0.7179\n",
            "Epoch 4: val_categorical_accuracy improved from 0.46304 to 0.48638, saving model to setencebert.h5\n",
            "113/113 [==============================] - 61s 544ms/step - loss: 0.1208 - categorical_accuracy: 0.7179 - val_loss: 0.2182 - val_categorical_accuracy: 0.4864\n",
            "Epoch 5/10\n",
            "113/113 [==============================] - ETA: 0s - loss: 0.0778 - categorical_accuracy: 0.8127\n",
            "Epoch 5: val_categorical_accuracy did not improve from 0.48638\n",
            "113/113 [==============================] - 54s 480ms/step - loss: 0.0778 - categorical_accuracy: 0.8127 - val_loss: 0.2600 - val_categorical_accuracy: 0.4514\n",
            "Epoch 6/10\n",
            "113/113 [==============================] - ETA: 0s - loss: 0.0429 - categorical_accuracy: 0.8528Restoring model weights from the end of the best epoch: 4.\n",
            "\n",
            "Epoch 6: val_categorical_accuracy did not improve from 0.48638\n",
            "113/113 [==============================] - 55s 484ms/step - loss: 0.0429 - categorical_accuracy: 0.8528 - val_loss: 0.2606 - val_categorical_accuracy: 0.4514\n",
            "Epoch 6: early stopping\n"
          ]
        },
        {
          "output_type": "execute_result",
          "data": {
            "text/plain": [
              "<keras.callbacks.History at 0x7fa4d087e8d0>"
            ]
          },
          "metadata": {},
          "execution_count": 29
        }
      ],
      "source": [
        "model.fit(train_dataset, \n",
        "        epochs = 10,\n",
        "        shuffle=True,\n",
        "        callbacks = [#callback_lr,,\n",
        "                      callback_es,\n",
        "                      callback_save,\n",
        "                     ],\n",
        "        batch_size = 8,\n",
        "        validation_data= validation_dataset\n",
        "       )\n",
        "#Note: Bert-Base (used to set up the trainer) early stopped after 7 epochs with a max val_acc of 47%"
      ]
    },
    {
      "cell_type": "code",
      "execution_count": 33,
      "metadata": {
        "id": "6-SU92wJROl7"
      },
      "outputs": [],
      "source": [
        "preds = model.predict(test_dataset)\n",
        "#preds[preds>=0.5] = 1\n",
        "#preds[preds<0.5] = 0"
      ]
    },
    {
      "cell_type": "code",
      "execution_count": 34,
      "metadata": {
        "id": "ZU8quFEzROl7"
      },
      "outputs": [],
      "source": [
        "test_labels = get_labels_out(test_dataset)"
      ]
    },
    {
      "cell_type": "code",
      "execution_count": 35,
      "metadata": {
        "colab": {
          "base_uri": "https://localhost:8080/"
        },
        "id": "Xb69RrhPROl8",
        "outputId": "57d6f6bd-35cb-4742-cce6-58fb37049628"
      },
      "outputs": [
        {
          "output_type": "stream",
          "name": "stdout",
          "text": [
            "index 0: \n",
            " predictions: \n",
            " [0.000917 0.057630 0.208022 0.456547 0.006967 0.001735 0.006767 0.018919\n",
            " 0.000555 0.001519 0.017247 0.137238 0.050414 0.004106 0.005772 0.008006] \n",
            " real labels: \n",
            " [0.000000 0.000000 0.000000 1.000000 0.000000 0.000000 0.000000 0.000000\n",
            " 0.000000 0.000000 0.000000 0.000000 0.000000 0.000000 0.000000 0.000000]\n",
            "index 1: \n",
            " predictions: \n",
            " [0.000834 0.041843 0.576713 0.005677 0.031713 0.304200 0.009681 0.008004\n",
            " 0.000567 0.011831 0.015890 0.001968 0.008606 0.001112 0.076263 0.045502] \n",
            " real labels: \n",
            " [0.000000 1.000000 1.000000 0.000000 1.000000 0.000000 0.000000 0.000000\n",
            " 0.000000 0.000000 0.000000 0.000000 0.000000 0.000000 0.000000 0.000000]\n",
            "index 2: \n",
            " predictions: \n",
            " [0.001657 0.010344 0.043954 0.047421 0.951545 0.002986 0.081901 0.009292\n",
            " 0.007844 0.023965 0.001020 0.162963 0.061679 0.001509 0.102950 0.003591] \n",
            " real labels: \n",
            " [0.000000 0.000000 0.000000 0.000000 1.000000 0.000000 0.000000 0.000000\n",
            " 0.000000 0.000000 0.000000 0.000000 0.000000 0.000000 0.000000 0.000000]\n",
            "index 3: \n",
            " predictions: \n",
            " [0.002437 0.990027 0.271539 0.017810 0.009557 0.016336 0.005386 0.095561\n",
            " 0.002523 0.002420 0.003036 0.002173 0.003503 0.012105 0.018040 0.004475] \n",
            " real labels: \n",
            " [0.000000 1.000000 0.000000 0.000000 0.000000 0.000000 0.000000 0.000000\n",
            " 0.000000 0.000000 0.000000 0.000000 0.000000 0.000000 0.000000 0.000000]\n",
            "index 4: \n",
            " predictions: \n",
            " [0.001728 0.093665 0.246676 0.469709 0.001189 0.002282 0.133817 0.176669\n",
            " 0.015372 0.002647 0.278095 0.012125 0.226243 0.006506 0.005388 0.044432] \n",
            " real labels: \n",
            " [0.000000 0.000000 0.000000 0.000000 0.000000 0.000000 0.000000 1.000000\n",
            " 0.000000 0.000000 0.000000 0.000000 0.000000 0.000000 0.000000 0.000000]\n"
          ]
        }
      ],
      "source": [
        "for i, labels in enumerate(test_labels[:5]):\n",
        "    print(f\"index {i}: \\n predictions: \\n {preds[i]} \\n real labels: \\n {test_labels[i]}\")\n",
        "\n",
        "#with bert base:\n",
        "#0 is perfect\n",
        "#1 has a too low threshold (max is on right index but only at .39)\n",
        "#2 did a bad prediction (low values for real values and very high for a different one)\n",
        "#3 is perfect (with label \"2\" being kind of high with .22 (although it should be 0))\n",
        "#4 only identified one of two labels (label \"9\" has value .22 (although it should be 1))\n",
        "\n",
        "#with bert large:\n",
        "#0 is just short of threshold\n",
        "#1 only spotted one of the 3 labels, one label has high values (0.3) although it should be 0\n",
        "#2 is perfeect\n",
        "#3 is perfect\n",
        "#4 did really bad, seems unsure between 6 labels, real label has low value (.17)"
      ]
    },
    {
      "cell_type": "markdown",
      "metadata": {
        "id": "2KH0msAGROl9"
      },
      "source": [
        "# Inference"
      ]
    },
    {
      "cell_type": "markdown",
      "metadata": {
        "id": "FlDTE-ILROl-"
      },
      "source": [
        "# Retrain with new params"
      ]
    },
    {
      "cell_type": "markdown",
      "metadata": {
        "id": "V60KNPsFROl_"
      },
      "source": [
        "# Re-Inference"
      ]
    },
    {
      "cell_type": "markdown",
      "metadata": {
        "id": "qASTFEWtROl_"
      },
      "source": [
        ""
      ]
    }
  ],
  "metadata": {
    "accelerator": "GPU",
    "colab": {
      "collapsed_sections": [],
      "name": "SentenceBERT_keras.ipynb",
      "provenance": [],
      "include_colab_link": true
    },
    "gpuClass": "standard",
    "kernelspec": {
      "display_name": "Python 3.8.10 ('venv2': venv)",
      "language": "python",
      "name": "python3"
    },
    "language_info": {
      "codemirror_mode": {
        "name": "ipython",
        "version": 3
      },
      "file_extension": ".py",
      "mimetype": "text/x-python",
      "name": "python",
      "nbconvert_exporter": "python",
      "pygments_lexer": "ipython3",
      "version": "3.8.10"
    },
    "vscode": {
      "interpreter": {
        "hash": "fdaa59318fa581aaa1dedfc13d2b084b9040c656c1c1b35c3f3156bc61bfd089"
      }
    },
    "widgets": {
      "application/vnd.jupyter.widget-state+json": {
        "2055459e607e471a8d4d63eb391e0443": {
          "model_module": "@jupyter-widgets/controls",
          "model_name": "HBoxModel",
          "model_module_version": "1.5.0",
          "state": {
            "_dom_classes": [],
            "_model_module": "@jupyter-widgets/controls",
            "_model_module_version": "1.5.0",
            "_model_name": "HBoxModel",
            "_view_count": null,
            "_view_module": "@jupyter-widgets/controls",
            "_view_module_version": "1.5.0",
            "_view_name": "HBoxView",
            "box_style": "",
            "children": [
              "IPY_MODEL_3e6063ba8bc2461cbb399e122f04f5a4",
              "IPY_MODEL_301ece3c12c64d64a248d4b5dffb399d",
              "IPY_MODEL_c77ad56085524ec1bc06e89bf7129cc7"
            ],
            "layout": "IPY_MODEL_1c086fe9e5674dfca5cef8b44c258e40"
          }
        },
        "3e6063ba8bc2461cbb399e122f04f5a4": {
          "model_module": "@jupyter-widgets/controls",
          "model_name": "HTMLModel",
          "model_module_version": "1.5.0",
          "state": {
            "_dom_classes": [],
            "_model_module": "@jupyter-widgets/controls",
            "_model_module_version": "1.5.0",
            "_model_name": "HTMLModel",
            "_view_count": null,
            "_view_module": "@jupyter-widgets/controls",
            "_view_module_version": "1.5.0",
            "_view_name": "HTMLView",
            "description": "",
            "description_tooltip": null,
            "layout": "IPY_MODEL_9f936a9373c2432fa0e55de1fac912c5",
            "placeholder": "​",
            "style": "IPY_MODEL_9d81bbf70eef413983c93cee03d76b57",
            "value": "Downloading: 100%"
          }
        },
        "301ece3c12c64d64a248d4b5dffb399d": {
          "model_module": "@jupyter-widgets/controls",
          "model_name": "FloatProgressModel",
          "model_module_version": "1.5.0",
          "state": {
            "_dom_classes": [],
            "_model_module": "@jupyter-widgets/controls",
            "_model_module_version": "1.5.0",
            "_model_name": "FloatProgressModel",
            "_view_count": null,
            "_view_module": "@jupyter-widgets/controls",
            "_view_module_version": "1.5.0",
            "_view_name": "ProgressView",
            "bar_style": "success",
            "description": "",
            "description_tooltip": null,
            "layout": "IPY_MODEL_4eaaa7a2ee0e4eeabcd223082e8fc044",
            "max": 28,
            "min": 0,
            "orientation": "horizontal",
            "style": "IPY_MODEL_00d7a89acf3c49aa9f8bc91967addf09",
            "value": 28
          }
        },
        "c77ad56085524ec1bc06e89bf7129cc7": {
          "model_module": "@jupyter-widgets/controls",
          "model_name": "HTMLModel",
          "model_module_version": "1.5.0",
          "state": {
            "_dom_classes": [],
            "_model_module": "@jupyter-widgets/controls",
            "_model_module_version": "1.5.0",
            "_model_name": "HTMLModel",
            "_view_count": null,
            "_view_module": "@jupyter-widgets/controls",
            "_view_module_version": "1.5.0",
            "_view_name": "HTMLView",
            "description": "",
            "description_tooltip": null,
            "layout": "IPY_MODEL_03b5d9c9c88f4bf2ae2e8d6d4d2fdafd",
            "placeholder": "​",
            "style": "IPY_MODEL_72572f93b7d64367a9e0edfe7c99386c",
            "value": " 28.0/28.0 [00:00&lt;00:00, 806B/s]"
          }
        },
        "1c086fe9e5674dfca5cef8b44c258e40": {
          "model_module": "@jupyter-widgets/base",
          "model_name": "LayoutModel",
          "model_module_version": "1.2.0",
          "state": {
            "_model_module": "@jupyter-widgets/base",
            "_model_module_version": "1.2.0",
            "_model_name": "LayoutModel",
            "_view_count": null,
            "_view_module": "@jupyter-widgets/base",
            "_view_module_version": "1.2.0",
            "_view_name": "LayoutView",
            "align_content": null,
            "align_items": null,
            "align_self": null,
            "border": null,
            "bottom": null,
            "display": null,
            "flex": null,
            "flex_flow": null,
            "grid_area": null,
            "grid_auto_columns": null,
            "grid_auto_flow": null,
            "grid_auto_rows": null,
            "grid_column": null,
            "grid_gap": null,
            "grid_row": null,
            "grid_template_areas": null,
            "grid_template_columns": null,
            "grid_template_rows": null,
            "height": null,
            "justify_content": null,
            "justify_items": null,
            "left": null,
            "margin": null,
            "max_height": null,
            "max_width": null,
            "min_height": null,
            "min_width": null,
            "object_fit": null,
            "object_position": null,
            "order": null,
            "overflow": null,
            "overflow_x": null,
            "overflow_y": null,
            "padding": null,
            "right": null,
            "top": null,
            "visibility": null,
            "width": null
          }
        },
        "9f936a9373c2432fa0e55de1fac912c5": {
          "model_module": "@jupyter-widgets/base",
          "model_name": "LayoutModel",
          "model_module_version": "1.2.0",
          "state": {
            "_model_module": "@jupyter-widgets/base",
            "_model_module_version": "1.2.0",
            "_model_name": "LayoutModel",
            "_view_count": null,
            "_view_module": "@jupyter-widgets/base",
            "_view_module_version": "1.2.0",
            "_view_name": "LayoutView",
            "align_content": null,
            "align_items": null,
            "align_self": null,
            "border": null,
            "bottom": null,
            "display": null,
            "flex": null,
            "flex_flow": null,
            "grid_area": null,
            "grid_auto_columns": null,
            "grid_auto_flow": null,
            "grid_auto_rows": null,
            "grid_column": null,
            "grid_gap": null,
            "grid_row": null,
            "grid_template_areas": null,
            "grid_template_columns": null,
            "grid_template_rows": null,
            "height": null,
            "justify_content": null,
            "justify_items": null,
            "left": null,
            "margin": null,
            "max_height": null,
            "max_width": null,
            "min_height": null,
            "min_width": null,
            "object_fit": null,
            "object_position": null,
            "order": null,
            "overflow": null,
            "overflow_x": null,
            "overflow_y": null,
            "padding": null,
            "right": null,
            "top": null,
            "visibility": null,
            "width": null
          }
        },
        "9d81bbf70eef413983c93cee03d76b57": {
          "model_module": "@jupyter-widgets/controls",
          "model_name": "DescriptionStyleModel",
          "model_module_version": "1.5.0",
          "state": {
            "_model_module": "@jupyter-widgets/controls",
            "_model_module_version": "1.5.0",
            "_model_name": "DescriptionStyleModel",
            "_view_count": null,
            "_view_module": "@jupyter-widgets/base",
            "_view_module_version": "1.2.0",
            "_view_name": "StyleView",
            "description_width": ""
          }
        },
        "4eaaa7a2ee0e4eeabcd223082e8fc044": {
          "model_module": "@jupyter-widgets/base",
          "model_name": "LayoutModel",
          "model_module_version": "1.2.0",
          "state": {
            "_model_module": "@jupyter-widgets/base",
            "_model_module_version": "1.2.0",
            "_model_name": "LayoutModel",
            "_view_count": null,
            "_view_module": "@jupyter-widgets/base",
            "_view_module_version": "1.2.0",
            "_view_name": "LayoutView",
            "align_content": null,
            "align_items": null,
            "align_self": null,
            "border": null,
            "bottom": null,
            "display": null,
            "flex": null,
            "flex_flow": null,
            "grid_area": null,
            "grid_auto_columns": null,
            "grid_auto_flow": null,
            "grid_auto_rows": null,
            "grid_column": null,
            "grid_gap": null,
            "grid_row": null,
            "grid_template_areas": null,
            "grid_template_columns": null,
            "grid_template_rows": null,
            "height": null,
            "justify_content": null,
            "justify_items": null,
            "left": null,
            "margin": null,
            "max_height": null,
            "max_width": null,
            "min_height": null,
            "min_width": null,
            "object_fit": null,
            "object_position": null,
            "order": null,
            "overflow": null,
            "overflow_x": null,
            "overflow_y": null,
            "padding": null,
            "right": null,
            "top": null,
            "visibility": null,
            "width": null
          }
        },
        "00d7a89acf3c49aa9f8bc91967addf09": {
          "model_module": "@jupyter-widgets/controls",
          "model_name": "ProgressStyleModel",
          "model_module_version": "1.5.0",
          "state": {
            "_model_module": "@jupyter-widgets/controls",
            "_model_module_version": "1.5.0",
            "_model_name": "ProgressStyleModel",
            "_view_count": null,
            "_view_module": "@jupyter-widgets/base",
            "_view_module_version": "1.2.0",
            "_view_name": "StyleView",
            "bar_color": null,
            "description_width": ""
          }
        },
        "03b5d9c9c88f4bf2ae2e8d6d4d2fdafd": {
          "model_module": "@jupyter-widgets/base",
          "model_name": "LayoutModel",
          "model_module_version": "1.2.0",
          "state": {
            "_model_module": "@jupyter-widgets/base",
            "_model_module_version": "1.2.0",
            "_model_name": "LayoutModel",
            "_view_count": null,
            "_view_module": "@jupyter-widgets/base",
            "_view_module_version": "1.2.0",
            "_view_name": "LayoutView",
            "align_content": null,
            "align_items": null,
            "align_self": null,
            "border": null,
            "bottom": null,
            "display": null,
            "flex": null,
            "flex_flow": null,
            "grid_area": null,
            "grid_auto_columns": null,
            "grid_auto_flow": null,
            "grid_auto_rows": null,
            "grid_column": null,
            "grid_gap": null,
            "grid_row": null,
            "grid_template_areas": null,
            "grid_template_columns": null,
            "grid_template_rows": null,
            "height": null,
            "justify_content": null,
            "justify_items": null,
            "left": null,
            "margin": null,
            "max_height": null,
            "max_width": null,
            "min_height": null,
            "min_width": null,
            "object_fit": null,
            "object_position": null,
            "order": null,
            "overflow": null,
            "overflow_x": null,
            "overflow_y": null,
            "padding": null,
            "right": null,
            "top": null,
            "visibility": null,
            "width": null
          }
        },
        "72572f93b7d64367a9e0edfe7c99386c": {
          "model_module": "@jupyter-widgets/controls",
          "model_name": "DescriptionStyleModel",
          "model_module_version": "1.5.0",
          "state": {
            "_model_module": "@jupyter-widgets/controls",
            "_model_module_version": "1.5.0",
            "_model_name": "DescriptionStyleModel",
            "_view_count": null,
            "_view_module": "@jupyter-widgets/base",
            "_view_module_version": "1.2.0",
            "_view_name": "StyleView",
            "description_width": ""
          }
        },
        "2eaa23729cea45e8972bee1517738a72": {
          "model_module": "@jupyter-widgets/controls",
          "model_name": "HBoxModel",
          "model_module_version": "1.5.0",
          "state": {
            "_dom_classes": [],
            "_model_module": "@jupyter-widgets/controls",
            "_model_module_version": "1.5.0",
            "_model_name": "HBoxModel",
            "_view_count": null,
            "_view_module": "@jupyter-widgets/controls",
            "_view_module_version": "1.5.0",
            "_view_name": "HBoxView",
            "box_style": "",
            "children": [
              "IPY_MODEL_863252203f694d86a41b0833d043cb54",
              "IPY_MODEL_aab4d39095324704a2d4c2e80c793a9d",
              "IPY_MODEL_82f4a4175ad648e58f523d57da857f25"
            ],
            "layout": "IPY_MODEL_fffc65ca52384a7580aef3ce3f4cd456"
          }
        },
        "863252203f694d86a41b0833d043cb54": {
          "model_module": "@jupyter-widgets/controls",
          "model_name": "HTMLModel",
          "model_module_version": "1.5.0",
          "state": {
            "_dom_classes": [],
            "_model_module": "@jupyter-widgets/controls",
            "_model_module_version": "1.5.0",
            "_model_name": "HTMLModel",
            "_view_count": null,
            "_view_module": "@jupyter-widgets/controls",
            "_view_module_version": "1.5.0",
            "_view_name": "HTMLView",
            "description": "",
            "description_tooltip": null,
            "layout": "IPY_MODEL_2983ed7025df450bb5f046c4b0a7ddc4",
            "placeholder": "​",
            "style": "IPY_MODEL_67636326315d40cb9b7ce131432ef478",
            "value": "Downloading: 100%"
          }
        },
        "aab4d39095324704a2d4c2e80c793a9d": {
          "model_module": "@jupyter-widgets/controls",
          "model_name": "FloatProgressModel",
          "model_module_version": "1.5.0",
          "state": {
            "_dom_classes": [],
            "_model_module": "@jupyter-widgets/controls",
            "_model_module_version": "1.5.0",
            "_model_name": "FloatProgressModel",
            "_view_count": null,
            "_view_module": "@jupyter-widgets/controls",
            "_view_module_version": "1.5.0",
            "_view_name": "ProgressView",
            "bar_style": "success",
            "description": "",
            "description_tooltip": null,
            "layout": "IPY_MODEL_15d14efe805943c4a21838efe33a0831",
            "max": 571,
            "min": 0,
            "orientation": "horizontal",
            "style": "IPY_MODEL_5c6cae39b14648849fbbc5a5605b1d22",
            "value": 571
          }
        },
        "82f4a4175ad648e58f523d57da857f25": {
          "model_module": "@jupyter-widgets/controls",
          "model_name": "HTMLModel",
          "model_module_version": "1.5.0",
          "state": {
            "_dom_classes": [],
            "_model_module": "@jupyter-widgets/controls",
            "_model_module_version": "1.5.0",
            "_model_name": "HTMLModel",
            "_view_count": null,
            "_view_module": "@jupyter-widgets/controls",
            "_view_module_version": "1.5.0",
            "_view_name": "HTMLView",
            "description": "",
            "description_tooltip": null,
            "layout": "IPY_MODEL_6b209a6933d9439cad5a1d230bed0f3f",
            "placeholder": "​",
            "style": "IPY_MODEL_abb6dc61cf0248dca00d692d1233e117",
            "value": " 571/571 [00:00&lt;00:00, 17.9kB/s]"
          }
        },
        "fffc65ca52384a7580aef3ce3f4cd456": {
          "model_module": "@jupyter-widgets/base",
          "model_name": "LayoutModel",
          "model_module_version": "1.2.0",
          "state": {
            "_model_module": "@jupyter-widgets/base",
            "_model_module_version": "1.2.0",
            "_model_name": "LayoutModel",
            "_view_count": null,
            "_view_module": "@jupyter-widgets/base",
            "_view_module_version": "1.2.0",
            "_view_name": "LayoutView",
            "align_content": null,
            "align_items": null,
            "align_self": null,
            "border": null,
            "bottom": null,
            "display": null,
            "flex": null,
            "flex_flow": null,
            "grid_area": null,
            "grid_auto_columns": null,
            "grid_auto_flow": null,
            "grid_auto_rows": null,
            "grid_column": null,
            "grid_gap": null,
            "grid_row": null,
            "grid_template_areas": null,
            "grid_template_columns": null,
            "grid_template_rows": null,
            "height": null,
            "justify_content": null,
            "justify_items": null,
            "left": null,
            "margin": null,
            "max_height": null,
            "max_width": null,
            "min_height": null,
            "min_width": null,
            "object_fit": null,
            "object_position": null,
            "order": null,
            "overflow": null,
            "overflow_x": null,
            "overflow_y": null,
            "padding": null,
            "right": null,
            "top": null,
            "visibility": null,
            "width": null
          }
        },
        "2983ed7025df450bb5f046c4b0a7ddc4": {
          "model_module": "@jupyter-widgets/base",
          "model_name": "LayoutModel",
          "model_module_version": "1.2.0",
          "state": {
            "_model_module": "@jupyter-widgets/base",
            "_model_module_version": "1.2.0",
            "_model_name": "LayoutModel",
            "_view_count": null,
            "_view_module": "@jupyter-widgets/base",
            "_view_module_version": "1.2.0",
            "_view_name": "LayoutView",
            "align_content": null,
            "align_items": null,
            "align_self": null,
            "border": null,
            "bottom": null,
            "display": null,
            "flex": null,
            "flex_flow": null,
            "grid_area": null,
            "grid_auto_columns": null,
            "grid_auto_flow": null,
            "grid_auto_rows": null,
            "grid_column": null,
            "grid_gap": null,
            "grid_row": null,
            "grid_template_areas": null,
            "grid_template_columns": null,
            "grid_template_rows": null,
            "height": null,
            "justify_content": null,
            "justify_items": null,
            "left": null,
            "margin": null,
            "max_height": null,
            "max_width": null,
            "min_height": null,
            "min_width": null,
            "object_fit": null,
            "object_position": null,
            "order": null,
            "overflow": null,
            "overflow_x": null,
            "overflow_y": null,
            "padding": null,
            "right": null,
            "top": null,
            "visibility": null,
            "width": null
          }
        },
        "67636326315d40cb9b7ce131432ef478": {
          "model_module": "@jupyter-widgets/controls",
          "model_name": "DescriptionStyleModel",
          "model_module_version": "1.5.0",
          "state": {
            "_model_module": "@jupyter-widgets/controls",
            "_model_module_version": "1.5.0",
            "_model_name": "DescriptionStyleModel",
            "_view_count": null,
            "_view_module": "@jupyter-widgets/base",
            "_view_module_version": "1.2.0",
            "_view_name": "StyleView",
            "description_width": ""
          }
        },
        "15d14efe805943c4a21838efe33a0831": {
          "model_module": "@jupyter-widgets/base",
          "model_name": "LayoutModel",
          "model_module_version": "1.2.0",
          "state": {
            "_model_module": "@jupyter-widgets/base",
            "_model_module_version": "1.2.0",
            "_model_name": "LayoutModel",
            "_view_count": null,
            "_view_module": "@jupyter-widgets/base",
            "_view_module_version": "1.2.0",
            "_view_name": "LayoutView",
            "align_content": null,
            "align_items": null,
            "align_self": null,
            "border": null,
            "bottom": null,
            "display": null,
            "flex": null,
            "flex_flow": null,
            "grid_area": null,
            "grid_auto_columns": null,
            "grid_auto_flow": null,
            "grid_auto_rows": null,
            "grid_column": null,
            "grid_gap": null,
            "grid_row": null,
            "grid_template_areas": null,
            "grid_template_columns": null,
            "grid_template_rows": null,
            "height": null,
            "justify_content": null,
            "justify_items": null,
            "left": null,
            "margin": null,
            "max_height": null,
            "max_width": null,
            "min_height": null,
            "min_width": null,
            "object_fit": null,
            "object_position": null,
            "order": null,
            "overflow": null,
            "overflow_x": null,
            "overflow_y": null,
            "padding": null,
            "right": null,
            "top": null,
            "visibility": null,
            "width": null
          }
        },
        "5c6cae39b14648849fbbc5a5605b1d22": {
          "model_module": "@jupyter-widgets/controls",
          "model_name": "ProgressStyleModel",
          "model_module_version": "1.5.0",
          "state": {
            "_model_module": "@jupyter-widgets/controls",
            "_model_module_version": "1.5.0",
            "_model_name": "ProgressStyleModel",
            "_view_count": null,
            "_view_module": "@jupyter-widgets/base",
            "_view_module_version": "1.2.0",
            "_view_name": "StyleView",
            "bar_color": null,
            "description_width": ""
          }
        },
        "6b209a6933d9439cad5a1d230bed0f3f": {
          "model_module": "@jupyter-widgets/base",
          "model_name": "LayoutModel",
          "model_module_version": "1.2.0",
          "state": {
            "_model_module": "@jupyter-widgets/base",
            "_model_module_version": "1.2.0",
            "_model_name": "LayoutModel",
            "_view_count": null,
            "_view_module": "@jupyter-widgets/base",
            "_view_module_version": "1.2.0",
            "_view_name": "LayoutView",
            "align_content": null,
            "align_items": null,
            "align_self": null,
            "border": null,
            "bottom": null,
            "display": null,
            "flex": null,
            "flex_flow": null,
            "grid_area": null,
            "grid_auto_columns": null,
            "grid_auto_flow": null,
            "grid_auto_rows": null,
            "grid_column": null,
            "grid_gap": null,
            "grid_row": null,
            "grid_template_areas": null,
            "grid_template_columns": null,
            "grid_template_rows": null,
            "height": null,
            "justify_content": null,
            "justify_items": null,
            "left": null,
            "margin": null,
            "max_height": null,
            "max_width": null,
            "min_height": null,
            "min_width": null,
            "object_fit": null,
            "object_position": null,
            "order": null,
            "overflow": null,
            "overflow_x": null,
            "overflow_y": null,
            "padding": null,
            "right": null,
            "top": null,
            "visibility": null,
            "width": null
          }
        },
        "abb6dc61cf0248dca00d692d1233e117": {
          "model_module": "@jupyter-widgets/controls",
          "model_name": "DescriptionStyleModel",
          "model_module_version": "1.5.0",
          "state": {
            "_model_module": "@jupyter-widgets/controls",
            "_model_module_version": "1.5.0",
            "_model_name": "DescriptionStyleModel",
            "_view_count": null,
            "_view_module": "@jupyter-widgets/base",
            "_view_module_version": "1.2.0",
            "_view_name": "StyleView",
            "description_width": ""
          }
        },
        "63247b42de4a49cb962fd1726fdd5d2e": {
          "model_module": "@jupyter-widgets/controls",
          "model_name": "HBoxModel",
          "model_module_version": "1.5.0",
          "state": {
            "_dom_classes": [],
            "_model_module": "@jupyter-widgets/controls",
            "_model_module_version": "1.5.0",
            "_model_name": "HBoxModel",
            "_view_count": null,
            "_view_module": "@jupyter-widgets/controls",
            "_view_module_version": "1.5.0",
            "_view_name": "HBoxView",
            "box_style": "",
            "children": [
              "IPY_MODEL_eb87c59074e74a00853c701f689bf982",
              "IPY_MODEL_c076442af4034cd982d38d35c26d2583",
              "IPY_MODEL_d85c9de10d9249a7ac6e5a1901cdc370"
            ],
            "layout": "IPY_MODEL_562795a0afbd4588885da21c85ec5d50"
          }
        },
        "eb87c59074e74a00853c701f689bf982": {
          "model_module": "@jupyter-widgets/controls",
          "model_name": "HTMLModel",
          "model_module_version": "1.5.0",
          "state": {
            "_dom_classes": [],
            "_model_module": "@jupyter-widgets/controls",
            "_model_module_version": "1.5.0",
            "_model_name": "HTMLModel",
            "_view_count": null,
            "_view_module": "@jupyter-widgets/controls",
            "_view_module_version": "1.5.0",
            "_view_name": "HTMLView",
            "description": "",
            "description_tooltip": null,
            "layout": "IPY_MODEL_9b4f2f79e6744bf6b666e09003a21f92",
            "placeholder": "​",
            "style": "IPY_MODEL_1dfb279ba4434be7bd8d7822673ff02a",
            "value": "Downloading: 100%"
          }
        },
        "c076442af4034cd982d38d35c26d2583": {
          "model_module": "@jupyter-widgets/controls",
          "model_name": "FloatProgressModel",
          "model_module_version": "1.5.0",
          "state": {
            "_dom_classes": [],
            "_model_module": "@jupyter-widgets/controls",
            "_model_module_version": "1.5.0",
            "_model_name": "FloatProgressModel",
            "_view_count": null,
            "_view_module": "@jupyter-widgets/controls",
            "_view_module_version": "1.5.0",
            "_view_name": "ProgressView",
            "bar_style": "success",
            "description": "",
            "description_tooltip": null,
            "layout": "IPY_MODEL_ae988ec661b247c18f38fcbac75bbb4f",
            "max": 231508,
            "min": 0,
            "orientation": "horizontal",
            "style": "IPY_MODEL_b311767692904d11a6d8b0255f7b0ed3",
            "value": 231508
          }
        },
        "d85c9de10d9249a7ac6e5a1901cdc370": {
          "model_module": "@jupyter-widgets/controls",
          "model_name": "HTMLModel",
          "model_module_version": "1.5.0",
          "state": {
            "_dom_classes": [],
            "_model_module": "@jupyter-widgets/controls",
            "_model_module_version": "1.5.0",
            "_model_name": "HTMLModel",
            "_view_count": null,
            "_view_module": "@jupyter-widgets/controls",
            "_view_module_version": "1.5.0",
            "_view_name": "HTMLView",
            "description": "",
            "description_tooltip": null,
            "layout": "IPY_MODEL_f5842be71bfe439ba177775e1ce640af",
            "placeholder": "​",
            "style": "IPY_MODEL_1c477b4982cb4e868c00fed8540ec38c",
            "value": " 226k/226k [00:00&lt;00:00, 4.84MB/s]"
          }
        },
        "562795a0afbd4588885da21c85ec5d50": {
          "model_module": "@jupyter-widgets/base",
          "model_name": "LayoutModel",
          "model_module_version": "1.2.0",
          "state": {
            "_model_module": "@jupyter-widgets/base",
            "_model_module_version": "1.2.0",
            "_model_name": "LayoutModel",
            "_view_count": null,
            "_view_module": "@jupyter-widgets/base",
            "_view_module_version": "1.2.0",
            "_view_name": "LayoutView",
            "align_content": null,
            "align_items": null,
            "align_self": null,
            "border": null,
            "bottom": null,
            "display": null,
            "flex": null,
            "flex_flow": null,
            "grid_area": null,
            "grid_auto_columns": null,
            "grid_auto_flow": null,
            "grid_auto_rows": null,
            "grid_column": null,
            "grid_gap": null,
            "grid_row": null,
            "grid_template_areas": null,
            "grid_template_columns": null,
            "grid_template_rows": null,
            "height": null,
            "justify_content": null,
            "justify_items": null,
            "left": null,
            "margin": null,
            "max_height": null,
            "max_width": null,
            "min_height": null,
            "min_width": null,
            "object_fit": null,
            "object_position": null,
            "order": null,
            "overflow": null,
            "overflow_x": null,
            "overflow_y": null,
            "padding": null,
            "right": null,
            "top": null,
            "visibility": null,
            "width": null
          }
        },
        "9b4f2f79e6744bf6b666e09003a21f92": {
          "model_module": "@jupyter-widgets/base",
          "model_name": "LayoutModel",
          "model_module_version": "1.2.0",
          "state": {
            "_model_module": "@jupyter-widgets/base",
            "_model_module_version": "1.2.0",
            "_model_name": "LayoutModel",
            "_view_count": null,
            "_view_module": "@jupyter-widgets/base",
            "_view_module_version": "1.2.0",
            "_view_name": "LayoutView",
            "align_content": null,
            "align_items": null,
            "align_self": null,
            "border": null,
            "bottom": null,
            "display": null,
            "flex": null,
            "flex_flow": null,
            "grid_area": null,
            "grid_auto_columns": null,
            "grid_auto_flow": null,
            "grid_auto_rows": null,
            "grid_column": null,
            "grid_gap": null,
            "grid_row": null,
            "grid_template_areas": null,
            "grid_template_columns": null,
            "grid_template_rows": null,
            "height": null,
            "justify_content": null,
            "justify_items": null,
            "left": null,
            "margin": null,
            "max_height": null,
            "max_width": null,
            "min_height": null,
            "min_width": null,
            "object_fit": null,
            "object_position": null,
            "order": null,
            "overflow": null,
            "overflow_x": null,
            "overflow_y": null,
            "padding": null,
            "right": null,
            "top": null,
            "visibility": null,
            "width": null
          }
        },
        "1dfb279ba4434be7bd8d7822673ff02a": {
          "model_module": "@jupyter-widgets/controls",
          "model_name": "DescriptionStyleModel",
          "model_module_version": "1.5.0",
          "state": {
            "_model_module": "@jupyter-widgets/controls",
            "_model_module_version": "1.5.0",
            "_model_name": "DescriptionStyleModel",
            "_view_count": null,
            "_view_module": "@jupyter-widgets/base",
            "_view_module_version": "1.2.0",
            "_view_name": "StyleView",
            "description_width": ""
          }
        },
        "ae988ec661b247c18f38fcbac75bbb4f": {
          "model_module": "@jupyter-widgets/base",
          "model_name": "LayoutModel",
          "model_module_version": "1.2.0",
          "state": {
            "_model_module": "@jupyter-widgets/base",
            "_model_module_version": "1.2.0",
            "_model_name": "LayoutModel",
            "_view_count": null,
            "_view_module": "@jupyter-widgets/base",
            "_view_module_version": "1.2.0",
            "_view_name": "LayoutView",
            "align_content": null,
            "align_items": null,
            "align_self": null,
            "border": null,
            "bottom": null,
            "display": null,
            "flex": null,
            "flex_flow": null,
            "grid_area": null,
            "grid_auto_columns": null,
            "grid_auto_flow": null,
            "grid_auto_rows": null,
            "grid_column": null,
            "grid_gap": null,
            "grid_row": null,
            "grid_template_areas": null,
            "grid_template_columns": null,
            "grid_template_rows": null,
            "height": null,
            "justify_content": null,
            "justify_items": null,
            "left": null,
            "margin": null,
            "max_height": null,
            "max_width": null,
            "min_height": null,
            "min_width": null,
            "object_fit": null,
            "object_position": null,
            "order": null,
            "overflow": null,
            "overflow_x": null,
            "overflow_y": null,
            "padding": null,
            "right": null,
            "top": null,
            "visibility": null,
            "width": null
          }
        },
        "b311767692904d11a6d8b0255f7b0ed3": {
          "model_module": "@jupyter-widgets/controls",
          "model_name": "ProgressStyleModel",
          "model_module_version": "1.5.0",
          "state": {
            "_model_module": "@jupyter-widgets/controls",
            "_model_module_version": "1.5.0",
            "_model_name": "ProgressStyleModel",
            "_view_count": null,
            "_view_module": "@jupyter-widgets/base",
            "_view_module_version": "1.2.0",
            "_view_name": "StyleView",
            "bar_color": null,
            "description_width": ""
          }
        },
        "f5842be71bfe439ba177775e1ce640af": {
          "model_module": "@jupyter-widgets/base",
          "model_name": "LayoutModel",
          "model_module_version": "1.2.0",
          "state": {
            "_model_module": "@jupyter-widgets/base",
            "_model_module_version": "1.2.0",
            "_model_name": "LayoutModel",
            "_view_count": null,
            "_view_module": "@jupyter-widgets/base",
            "_view_module_version": "1.2.0",
            "_view_name": "LayoutView",
            "align_content": null,
            "align_items": null,
            "align_self": null,
            "border": null,
            "bottom": null,
            "display": null,
            "flex": null,
            "flex_flow": null,
            "grid_area": null,
            "grid_auto_columns": null,
            "grid_auto_flow": null,
            "grid_auto_rows": null,
            "grid_column": null,
            "grid_gap": null,
            "grid_row": null,
            "grid_template_areas": null,
            "grid_template_columns": null,
            "grid_template_rows": null,
            "height": null,
            "justify_content": null,
            "justify_items": null,
            "left": null,
            "margin": null,
            "max_height": null,
            "max_width": null,
            "min_height": null,
            "min_width": null,
            "object_fit": null,
            "object_position": null,
            "order": null,
            "overflow": null,
            "overflow_x": null,
            "overflow_y": null,
            "padding": null,
            "right": null,
            "top": null,
            "visibility": null,
            "width": null
          }
        },
        "1c477b4982cb4e868c00fed8540ec38c": {
          "model_module": "@jupyter-widgets/controls",
          "model_name": "DescriptionStyleModel",
          "model_module_version": "1.5.0",
          "state": {
            "_model_module": "@jupyter-widgets/controls",
            "_model_module_version": "1.5.0",
            "_model_name": "DescriptionStyleModel",
            "_view_count": null,
            "_view_module": "@jupyter-widgets/base",
            "_view_module_version": "1.2.0",
            "_view_name": "StyleView",
            "description_width": ""
          }
        },
        "7fc6d2a569554f039ca6b1c8decf96ca": {
          "model_module": "@jupyter-widgets/controls",
          "model_name": "HBoxModel",
          "model_module_version": "1.5.0",
          "state": {
            "_dom_classes": [],
            "_model_module": "@jupyter-widgets/controls",
            "_model_module_version": "1.5.0",
            "_model_name": "HBoxModel",
            "_view_count": null,
            "_view_module": "@jupyter-widgets/controls",
            "_view_module_version": "1.5.0",
            "_view_name": "HBoxView",
            "box_style": "",
            "children": [
              "IPY_MODEL_9d127aa6c2044fcaadf9c38bf57ae242",
              "IPY_MODEL_b14f39822a314a4aae19f99a19c007b5",
              "IPY_MODEL_5729c1c915014dc6a0340a29ef27dc69"
            ],
            "layout": "IPY_MODEL_c87b836487b647808dd2908f834886aa"
          }
        },
        "9d127aa6c2044fcaadf9c38bf57ae242": {
          "model_module": "@jupyter-widgets/controls",
          "model_name": "HTMLModel",
          "model_module_version": "1.5.0",
          "state": {
            "_dom_classes": [],
            "_model_module": "@jupyter-widgets/controls",
            "_model_module_version": "1.5.0",
            "_model_name": "HTMLModel",
            "_view_count": null,
            "_view_module": "@jupyter-widgets/controls",
            "_view_module_version": "1.5.0",
            "_view_name": "HTMLView",
            "description": "",
            "description_tooltip": null,
            "layout": "IPY_MODEL_34d0f563e7384f4baf7fc3b2bfd70b49",
            "placeholder": "​",
            "style": "IPY_MODEL_aa0a4ae77cb84ee6bfad268197fdeeee",
            "value": "Downloading: 100%"
          }
        },
        "b14f39822a314a4aae19f99a19c007b5": {
          "model_module": "@jupyter-widgets/controls",
          "model_name": "FloatProgressModel",
          "model_module_version": "1.5.0",
          "state": {
            "_dom_classes": [],
            "_model_module": "@jupyter-widgets/controls",
            "_model_module_version": "1.5.0",
            "_model_name": "FloatProgressModel",
            "_view_count": null,
            "_view_module": "@jupyter-widgets/controls",
            "_view_module_version": "1.5.0",
            "_view_name": "ProgressView",
            "bar_style": "success",
            "description": "",
            "description_tooltip": null,
            "layout": "IPY_MODEL_80d3e804d03e4257a5247e136787c620",
            "max": 466062,
            "min": 0,
            "orientation": "horizontal",
            "style": "IPY_MODEL_b7b11dca755741eca10a54290d66a7cb",
            "value": 466062
          }
        },
        "5729c1c915014dc6a0340a29ef27dc69": {
          "model_module": "@jupyter-widgets/controls",
          "model_name": "HTMLModel",
          "model_module_version": "1.5.0",
          "state": {
            "_dom_classes": [],
            "_model_module": "@jupyter-widgets/controls",
            "_model_module_version": "1.5.0",
            "_model_name": "HTMLModel",
            "_view_count": null,
            "_view_module": "@jupyter-widgets/controls",
            "_view_module_version": "1.5.0",
            "_view_name": "HTMLView",
            "description": "",
            "description_tooltip": null,
            "layout": "IPY_MODEL_e443406e104b4cc78b31b12550db3844",
            "placeholder": "​",
            "style": "IPY_MODEL_c23ea13b7084496eaba9736fd50ac00d",
            "value": " 455k/455k [00:00&lt;00:00, 7.59MB/s]"
          }
        },
        "c87b836487b647808dd2908f834886aa": {
          "model_module": "@jupyter-widgets/base",
          "model_name": "LayoutModel",
          "model_module_version": "1.2.0",
          "state": {
            "_model_module": "@jupyter-widgets/base",
            "_model_module_version": "1.2.0",
            "_model_name": "LayoutModel",
            "_view_count": null,
            "_view_module": "@jupyter-widgets/base",
            "_view_module_version": "1.2.0",
            "_view_name": "LayoutView",
            "align_content": null,
            "align_items": null,
            "align_self": null,
            "border": null,
            "bottom": null,
            "display": null,
            "flex": null,
            "flex_flow": null,
            "grid_area": null,
            "grid_auto_columns": null,
            "grid_auto_flow": null,
            "grid_auto_rows": null,
            "grid_column": null,
            "grid_gap": null,
            "grid_row": null,
            "grid_template_areas": null,
            "grid_template_columns": null,
            "grid_template_rows": null,
            "height": null,
            "justify_content": null,
            "justify_items": null,
            "left": null,
            "margin": null,
            "max_height": null,
            "max_width": null,
            "min_height": null,
            "min_width": null,
            "object_fit": null,
            "object_position": null,
            "order": null,
            "overflow": null,
            "overflow_x": null,
            "overflow_y": null,
            "padding": null,
            "right": null,
            "top": null,
            "visibility": null,
            "width": null
          }
        },
        "34d0f563e7384f4baf7fc3b2bfd70b49": {
          "model_module": "@jupyter-widgets/base",
          "model_name": "LayoutModel",
          "model_module_version": "1.2.0",
          "state": {
            "_model_module": "@jupyter-widgets/base",
            "_model_module_version": "1.2.0",
            "_model_name": "LayoutModel",
            "_view_count": null,
            "_view_module": "@jupyter-widgets/base",
            "_view_module_version": "1.2.0",
            "_view_name": "LayoutView",
            "align_content": null,
            "align_items": null,
            "align_self": null,
            "border": null,
            "bottom": null,
            "display": null,
            "flex": null,
            "flex_flow": null,
            "grid_area": null,
            "grid_auto_columns": null,
            "grid_auto_flow": null,
            "grid_auto_rows": null,
            "grid_column": null,
            "grid_gap": null,
            "grid_row": null,
            "grid_template_areas": null,
            "grid_template_columns": null,
            "grid_template_rows": null,
            "height": null,
            "justify_content": null,
            "justify_items": null,
            "left": null,
            "margin": null,
            "max_height": null,
            "max_width": null,
            "min_height": null,
            "min_width": null,
            "object_fit": null,
            "object_position": null,
            "order": null,
            "overflow": null,
            "overflow_x": null,
            "overflow_y": null,
            "padding": null,
            "right": null,
            "top": null,
            "visibility": null,
            "width": null
          }
        },
        "aa0a4ae77cb84ee6bfad268197fdeeee": {
          "model_module": "@jupyter-widgets/controls",
          "model_name": "DescriptionStyleModel",
          "model_module_version": "1.5.0",
          "state": {
            "_model_module": "@jupyter-widgets/controls",
            "_model_module_version": "1.5.0",
            "_model_name": "DescriptionStyleModel",
            "_view_count": null,
            "_view_module": "@jupyter-widgets/base",
            "_view_module_version": "1.2.0",
            "_view_name": "StyleView",
            "description_width": ""
          }
        },
        "80d3e804d03e4257a5247e136787c620": {
          "model_module": "@jupyter-widgets/base",
          "model_name": "LayoutModel",
          "model_module_version": "1.2.0",
          "state": {
            "_model_module": "@jupyter-widgets/base",
            "_model_module_version": "1.2.0",
            "_model_name": "LayoutModel",
            "_view_count": null,
            "_view_module": "@jupyter-widgets/base",
            "_view_module_version": "1.2.0",
            "_view_name": "LayoutView",
            "align_content": null,
            "align_items": null,
            "align_self": null,
            "border": null,
            "bottom": null,
            "display": null,
            "flex": null,
            "flex_flow": null,
            "grid_area": null,
            "grid_auto_columns": null,
            "grid_auto_flow": null,
            "grid_auto_rows": null,
            "grid_column": null,
            "grid_gap": null,
            "grid_row": null,
            "grid_template_areas": null,
            "grid_template_columns": null,
            "grid_template_rows": null,
            "height": null,
            "justify_content": null,
            "justify_items": null,
            "left": null,
            "margin": null,
            "max_height": null,
            "max_width": null,
            "min_height": null,
            "min_width": null,
            "object_fit": null,
            "object_position": null,
            "order": null,
            "overflow": null,
            "overflow_x": null,
            "overflow_y": null,
            "padding": null,
            "right": null,
            "top": null,
            "visibility": null,
            "width": null
          }
        },
        "b7b11dca755741eca10a54290d66a7cb": {
          "model_module": "@jupyter-widgets/controls",
          "model_name": "ProgressStyleModel",
          "model_module_version": "1.5.0",
          "state": {
            "_model_module": "@jupyter-widgets/controls",
            "_model_module_version": "1.5.0",
            "_model_name": "ProgressStyleModel",
            "_view_count": null,
            "_view_module": "@jupyter-widgets/base",
            "_view_module_version": "1.2.0",
            "_view_name": "StyleView",
            "bar_color": null,
            "description_width": ""
          }
        },
        "e443406e104b4cc78b31b12550db3844": {
          "model_module": "@jupyter-widgets/base",
          "model_name": "LayoutModel",
          "model_module_version": "1.2.0",
          "state": {
            "_model_module": "@jupyter-widgets/base",
            "_model_module_version": "1.2.0",
            "_model_name": "LayoutModel",
            "_view_count": null,
            "_view_module": "@jupyter-widgets/base",
            "_view_module_version": "1.2.0",
            "_view_name": "LayoutView",
            "align_content": null,
            "align_items": null,
            "align_self": null,
            "border": null,
            "bottom": null,
            "display": null,
            "flex": null,
            "flex_flow": null,
            "grid_area": null,
            "grid_auto_columns": null,
            "grid_auto_flow": null,
            "grid_auto_rows": null,
            "grid_column": null,
            "grid_gap": null,
            "grid_row": null,
            "grid_template_areas": null,
            "grid_template_columns": null,
            "grid_template_rows": null,
            "height": null,
            "justify_content": null,
            "justify_items": null,
            "left": null,
            "margin": null,
            "max_height": null,
            "max_width": null,
            "min_height": null,
            "min_width": null,
            "object_fit": null,
            "object_position": null,
            "order": null,
            "overflow": null,
            "overflow_x": null,
            "overflow_y": null,
            "padding": null,
            "right": null,
            "top": null,
            "visibility": null,
            "width": null
          }
        },
        "c23ea13b7084496eaba9736fd50ac00d": {
          "model_module": "@jupyter-widgets/controls",
          "model_name": "DescriptionStyleModel",
          "model_module_version": "1.5.0",
          "state": {
            "_model_module": "@jupyter-widgets/controls",
            "_model_module_version": "1.5.0",
            "_model_name": "DescriptionStyleModel",
            "_view_count": null,
            "_view_module": "@jupyter-widgets/base",
            "_view_module_version": "1.2.0",
            "_view_name": "StyleView",
            "description_width": ""
          }
        },
        "1672a1751796439aa01275ac1aaa559b": {
          "model_module": "@jupyter-widgets/controls",
          "model_name": "HBoxModel",
          "model_module_version": "1.5.0",
          "state": {
            "_dom_classes": [],
            "_model_module": "@jupyter-widgets/controls",
            "_model_module_version": "1.5.0",
            "_model_name": "HBoxModel",
            "_view_count": null,
            "_view_module": "@jupyter-widgets/controls",
            "_view_module_version": "1.5.0",
            "_view_name": "HBoxView",
            "box_style": "",
            "children": [
              "IPY_MODEL_df0d2666aa6b4cc59753c2e6ab4e3439",
              "IPY_MODEL_e4f70db0fded4e87b0a0662fea669e76",
              "IPY_MODEL_5935f42f9b814e5582bc8c0a79f00725"
            ],
            "layout": "IPY_MODEL_f608e0b8379c45af93de7c5dcb7159e1"
          }
        },
        "df0d2666aa6b4cc59753c2e6ab4e3439": {
          "model_module": "@jupyter-widgets/controls",
          "model_name": "HTMLModel",
          "model_module_version": "1.5.0",
          "state": {
            "_dom_classes": [],
            "_model_module": "@jupyter-widgets/controls",
            "_model_module_version": "1.5.0",
            "_model_name": "HTMLModel",
            "_view_count": null,
            "_view_module": "@jupyter-widgets/controls",
            "_view_module_version": "1.5.0",
            "_view_name": "HTMLView",
            "description": "",
            "description_tooltip": null,
            "layout": "IPY_MODEL_ccb62eff51eb4d8782e08acc07dd476a",
            "placeholder": "​",
            "style": "IPY_MODEL_1de34847a2374afdba6a6fe42e72d1bb",
            "value": "Downloading: 100%"
          }
        },
        "e4f70db0fded4e87b0a0662fea669e76": {
          "model_module": "@jupyter-widgets/controls",
          "model_name": "FloatProgressModel",
          "model_module_version": "1.5.0",
          "state": {
            "_dom_classes": [],
            "_model_module": "@jupyter-widgets/controls",
            "_model_module_version": "1.5.0",
            "_model_name": "FloatProgressModel",
            "_view_count": null,
            "_view_module": "@jupyter-widgets/controls",
            "_view_module_version": "1.5.0",
            "_view_name": "ProgressView",
            "bar_style": "success",
            "description": "",
            "description_tooltip": null,
            "layout": "IPY_MODEL_3d809b5187a941549402baabe491e6b5",
            "max": 1472569832,
            "min": 0,
            "orientation": "horizontal",
            "style": "IPY_MODEL_0418e3356b994986bb610a59590256e2",
            "value": 1472569832
          }
        },
        "5935f42f9b814e5582bc8c0a79f00725": {
          "model_module": "@jupyter-widgets/controls",
          "model_name": "HTMLModel",
          "model_module_version": "1.5.0",
          "state": {
            "_dom_classes": [],
            "_model_module": "@jupyter-widgets/controls",
            "_model_module_version": "1.5.0",
            "_model_name": "HTMLModel",
            "_view_count": null,
            "_view_module": "@jupyter-widgets/controls",
            "_view_module_version": "1.5.0",
            "_view_name": "HTMLView",
            "description": "",
            "description_tooltip": null,
            "layout": "IPY_MODEL_86655f912a184dc7aa22fd83a2cd0757",
            "placeholder": "​",
            "style": "IPY_MODEL_93008668ca224c76881f5531e5a0999a",
            "value": " 1.37G/1.37G [00:41&lt;00:00, 34.2MB/s]"
          }
        },
        "f608e0b8379c45af93de7c5dcb7159e1": {
          "model_module": "@jupyter-widgets/base",
          "model_name": "LayoutModel",
          "model_module_version": "1.2.0",
          "state": {
            "_model_module": "@jupyter-widgets/base",
            "_model_module_version": "1.2.0",
            "_model_name": "LayoutModel",
            "_view_count": null,
            "_view_module": "@jupyter-widgets/base",
            "_view_module_version": "1.2.0",
            "_view_name": "LayoutView",
            "align_content": null,
            "align_items": null,
            "align_self": null,
            "border": null,
            "bottom": null,
            "display": null,
            "flex": null,
            "flex_flow": null,
            "grid_area": null,
            "grid_auto_columns": null,
            "grid_auto_flow": null,
            "grid_auto_rows": null,
            "grid_column": null,
            "grid_gap": null,
            "grid_row": null,
            "grid_template_areas": null,
            "grid_template_columns": null,
            "grid_template_rows": null,
            "height": null,
            "justify_content": null,
            "justify_items": null,
            "left": null,
            "margin": null,
            "max_height": null,
            "max_width": null,
            "min_height": null,
            "min_width": null,
            "object_fit": null,
            "object_position": null,
            "order": null,
            "overflow": null,
            "overflow_x": null,
            "overflow_y": null,
            "padding": null,
            "right": null,
            "top": null,
            "visibility": null,
            "width": null
          }
        },
        "ccb62eff51eb4d8782e08acc07dd476a": {
          "model_module": "@jupyter-widgets/base",
          "model_name": "LayoutModel",
          "model_module_version": "1.2.0",
          "state": {
            "_model_module": "@jupyter-widgets/base",
            "_model_module_version": "1.2.0",
            "_model_name": "LayoutModel",
            "_view_count": null,
            "_view_module": "@jupyter-widgets/base",
            "_view_module_version": "1.2.0",
            "_view_name": "LayoutView",
            "align_content": null,
            "align_items": null,
            "align_self": null,
            "border": null,
            "bottom": null,
            "display": null,
            "flex": null,
            "flex_flow": null,
            "grid_area": null,
            "grid_auto_columns": null,
            "grid_auto_flow": null,
            "grid_auto_rows": null,
            "grid_column": null,
            "grid_gap": null,
            "grid_row": null,
            "grid_template_areas": null,
            "grid_template_columns": null,
            "grid_template_rows": null,
            "height": null,
            "justify_content": null,
            "justify_items": null,
            "left": null,
            "margin": null,
            "max_height": null,
            "max_width": null,
            "min_height": null,
            "min_width": null,
            "object_fit": null,
            "object_position": null,
            "order": null,
            "overflow": null,
            "overflow_x": null,
            "overflow_y": null,
            "padding": null,
            "right": null,
            "top": null,
            "visibility": null,
            "width": null
          }
        },
        "1de34847a2374afdba6a6fe42e72d1bb": {
          "model_module": "@jupyter-widgets/controls",
          "model_name": "DescriptionStyleModel",
          "model_module_version": "1.5.0",
          "state": {
            "_model_module": "@jupyter-widgets/controls",
            "_model_module_version": "1.5.0",
            "_model_name": "DescriptionStyleModel",
            "_view_count": null,
            "_view_module": "@jupyter-widgets/base",
            "_view_module_version": "1.2.0",
            "_view_name": "StyleView",
            "description_width": ""
          }
        },
        "3d809b5187a941549402baabe491e6b5": {
          "model_module": "@jupyter-widgets/base",
          "model_name": "LayoutModel",
          "model_module_version": "1.2.0",
          "state": {
            "_model_module": "@jupyter-widgets/base",
            "_model_module_version": "1.2.0",
            "_model_name": "LayoutModel",
            "_view_count": null,
            "_view_module": "@jupyter-widgets/base",
            "_view_module_version": "1.2.0",
            "_view_name": "LayoutView",
            "align_content": null,
            "align_items": null,
            "align_self": null,
            "border": null,
            "bottom": null,
            "display": null,
            "flex": null,
            "flex_flow": null,
            "grid_area": null,
            "grid_auto_columns": null,
            "grid_auto_flow": null,
            "grid_auto_rows": null,
            "grid_column": null,
            "grid_gap": null,
            "grid_row": null,
            "grid_template_areas": null,
            "grid_template_columns": null,
            "grid_template_rows": null,
            "height": null,
            "justify_content": null,
            "justify_items": null,
            "left": null,
            "margin": null,
            "max_height": null,
            "max_width": null,
            "min_height": null,
            "min_width": null,
            "object_fit": null,
            "object_position": null,
            "order": null,
            "overflow": null,
            "overflow_x": null,
            "overflow_y": null,
            "padding": null,
            "right": null,
            "top": null,
            "visibility": null,
            "width": null
          }
        },
        "0418e3356b994986bb610a59590256e2": {
          "model_module": "@jupyter-widgets/controls",
          "model_name": "ProgressStyleModel",
          "model_module_version": "1.5.0",
          "state": {
            "_model_module": "@jupyter-widgets/controls",
            "_model_module_version": "1.5.0",
            "_model_name": "ProgressStyleModel",
            "_view_count": null,
            "_view_module": "@jupyter-widgets/base",
            "_view_module_version": "1.2.0",
            "_view_name": "StyleView",
            "bar_color": null,
            "description_width": ""
          }
        },
        "86655f912a184dc7aa22fd83a2cd0757": {
          "model_module": "@jupyter-widgets/base",
          "model_name": "LayoutModel",
          "model_module_version": "1.2.0",
          "state": {
            "_model_module": "@jupyter-widgets/base",
            "_model_module_version": "1.2.0",
            "_model_name": "LayoutModel",
            "_view_count": null,
            "_view_module": "@jupyter-widgets/base",
            "_view_module_version": "1.2.0",
            "_view_name": "LayoutView",
            "align_content": null,
            "align_items": null,
            "align_self": null,
            "border": null,
            "bottom": null,
            "display": null,
            "flex": null,
            "flex_flow": null,
            "grid_area": null,
            "grid_auto_columns": null,
            "grid_auto_flow": null,
            "grid_auto_rows": null,
            "grid_column": null,
            "grid_gap": null,
            "grid_row": null,
            "grid_template_areas": null,
            "grid_template_columns": null,
            "grid_template_rows": null,
            "height": null,
            "justify_content": null,
            "justify_items": null,
            "left": null,
            "margin": null,
            "max_height": null,
            "max_width": null,
            "min_height": null,
            "min_width": null,
            "object_fit": null,
            "object_position": null,
            "order": null,
            "overflow": null,
            "overflow_x": null,
            "overflow_y": null,
            "padding": null,
            "right": null,
            "top": null,
            "visibility": null,
            "width": null
          }
        },
        "93008668ca224c76881f5531e5a0999a": {
          "model_module": "@jupyter-widgets/controls",
          "model_name": "DescriptionStyleModel",
          "model_module_version": "1.5.0",
          "state": {
            "_model_module": "@jupyter-widgets/controls",
            "_model_module_version": "1.5.0",
            "_model_name": "DescriptionStyleModel",
            "_view_count": null,
            "_view_module": "@jupyter-widgets/base",
            "_view_module_version": "1.2.0",
            "_view_name": "StyleView",
            "description_width": ""
          }
        }
      }
    }
  },
  "nbformat": 4,
  "nbformat_minor": 0
}