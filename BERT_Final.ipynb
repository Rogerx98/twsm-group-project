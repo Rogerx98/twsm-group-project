{
  "cells": [
    {
      "cell_type": "markdown",
      "metadata": {
        "id": "view-in-github"
      },
      "source": [
        "<a href=\"https://colab.research.google.com/github/Rogerx98/twsm-group-project/blob/main/SentenceBERT_keras.ipynb\" target=\"_parent\"><img src=\"https://colab.research.google.com/assets/colab-badge.svg\" alt=\"Open In Colab\"/></a>"
      ]
    },
    {
      "cell_type": "markdown",
      "metadata": {
        "id": "kFbrNX3Hr5ij"
      },
      "source": [
        "Saved KFold Models:\n",
        "\n",
        "Fold 0: https://drive.google.com/file/d/1pWi3VEvCwsbCqf5c5It6IlKxHOduNq_j/view?usp=sharing\n",
        "\n",
        "Fold 1: https://drive.google.com/file/d/17GJDP_NzMYuxWv1i_2Ckhy7FucDrznJM/view?usp=sharing\n",
        "\n",
        "Fold 2: https://drive.google.com/file/d/1-1-RsNbgMAUX0vAHsbxTMLvwUsu5o5vd/view?usp=sharing\n",
        "\n",
        "Fold 3: https://drive.google.com/file/d/1P1-GJZL_t8EfdF_bmxHrL_0k_NzemePC/view?usp=sharing\n"
      ]
    },
    {
      "cell_type": "markdown",
      "metadata": {
        "id": "E9NOFuQgrTBN"
      },
      "source": [
        "# **Libraries**"
      ]
    },
    {
      "cell_type": "code",
      "execution_count": 1,
      "metadata": {
        "id": "upx768GzRUck",
        "colab": {
          "base_uri": "https://localhost:8080/"
        },
        "outputId": "38458339-ab5a-44b5-a6d7-ab98b05fc4ef"
      },
      "outputs": [
        {
          "output_type": "stream",
          "name": "stdout",
          "text": [
            "Looking in indexes: https://pypi.org/simple, https://us-python.pkg.dev/colab-wheels/public/simple/\n",
            "Collecting transformers\n",
            "  Downloading transformers-4.20.1-py3-none-any.whl (4.4 MB)\n",
            "\u001b[K     |████████████████████████████████| 4.4 MB 33.8 MB/s \n",
            "\u001b[?25hRequirement already satisfied: packaging>=20.0 in /usr/local/lib/python3.7/dist-packages (from transformers) (21.3)\n",
            "Collecting tokenizers!=0.11.3,<0.13,>=0.11.1\n",
            "  Downloading tokenizers-0.12.1-cp37-cp37m-manylinux_2_12_x86_64.manylinux2010_x86_64.whl (6.6 MB)\n",
            "\u001b[K     |████████████████████████████████| 6.6 MB 55.0 MB/s \n",
            "\u001b[?25hCollecting pyyaml>=5.1\n",
            "  Downloading PyYAML-6.0-cp37-cp37m-manylinux_2_5_x86_64.manylinux1_x86_64.manylinux_2_12_x86_64.manylinux2010_x86_64.whl (596 kB)\n",
            "\u001b[K     |████████████████████████████████| 596 kB 62.1 MB/s \n",
            "\u001b[?25hRequirement already satisfied: filelock in /usr/local/lib/python3.7/dist-packages (from transformers) (3.7.1)\n",
            "Requirement already satisfied: requests in /usr/local/lib/python3.7/dist-packages (from transformers) (2.23.0)\n",
            "Requirement already satisfied: tqdm>=4.27 in /usr/local/lib/python3.7/dist-packages (from transformers) (4.64.0)\n",
            "Requirement already satisfied: numpy>=1.17 in /usr/local/lib/python3.7/dist-packages (from transformers) (1.21.6)\n",
            "Requirement already satisfied: importlib-metadata in /usr/local/lib/python3.7/dist-packages (from transformers) (4.11.4)\n",
            "Requirement already satisfied: regex!=2019.12.17 in /usr/local/lib/python3.7/dist-packages (from transformers) (2022.6.2)\n",
            "Collecting huggingface-hub<1.0,>=0.1.0\n",
            "  Downloading huggingface_hub-0.8.1-py3-none-any.whl (101 kB)\n",
            "\u001b[K     |████████████████████████████████| 101 kB 13.3 MB/s \n",
            "\u001b[?25hRequirement already satisfied: typing-extensions>=3.7.4.3 in /usr/local/lib/python3.7/dist-packages (from huggingface-hub<1.0,>=0.1.0->transformers) (4.1.1)\n",
            "Requirement already satisfied: pyparsing!=3.0.5,>=2.0.2 in /usr/local/lib/python3.7/dist-packages (from packaging>=20.0->transformers) (3.0.9)\n",
            "Requirement already satisfied: zipp>=0.5 in /usr/local/lib/python3.7/dist-packages (from importlib-metadata->transformers) (3.8.0)\n",
            "Requirement already satisfied: urllib3!=1.25.0,!=1.25.1,<1.26,>=1.21.1 in /usr/local/lib/python3.7/dist-packages (from requests->transformers) (1.24.3)\n",
            "Requirement already satisfied: certifi>=2017.4.17 in /usr/local/lib/python3.7/dist-packages (from requests->transformers) (2022.6.15)\n",
            "Requirement already satisfied: idna<3,>=2.5 in /usr/local/lib/python3.7/dist-packages (from requests->transformers) (2.10)\n",
            "Requirement already satisfied: chardet<4,>=3.0.2 in /usr/local/lib/python3.7/dist-packages (from requests->transformers) (3.0.4)\n",
            "Installing collected packages: pyyaml, tokenizers, huggingface-hub, transformers\n",
            "  Attempting uninstall: pyyaml\n",
            "    Found existing installation: PyYAML 3.13\n",
            "    Uninstalling PyYAML-3.13:\n",
            "      Successfully uninstalled PyYAML-3.13\n",
            "Successfully installed huggingface-hub-0.8.1 pyyaml-6.0 tokenizers-0.12.1 transformers-4.20.1\n",
            "Looking in indexes: https://pypi.org/simple, https://us-python.pkg.dev/colab-wheels/public/simple/\n",
            "Requirement already satisfied: bs4 in /usr/local/lib/python3.7/dist-packages (0.0.1)\n",
            "Requirement already satisfied: beautifulsoup4 in /usr/local/lib/python3.7/dist-packages (from bs4) (4.6.3)\n"
          ]
        }
      ],
      "source": [
        "!pip install transformers \n",
        "!pip install bs4"
      ]
    },
    {
      "cell_type": "code",
      "execution_count": 2,
      "metadata": {
        "id": "v2jk0ONM-U2z"
      },
      "outputs": [],
      "source": [
        "import pandas as pd\n",
        "import numpy as np\n",
        "import re\n",
        "\n",
        "import transformers\n",
        "from transformers import BertModel,BertTokenizer,AdamW, get_linear_schedule_with_warmup, BertForSequenceClassification, TFBertModel, BertConfig, TFBertForSequenceClassification, TFDistilBertForSequenceClassification\n",
        "import tensorflow as tf\n",
        "import tensorflow_hub as hub\n",
        "import tensorflow.keras.backend as K\n",
        "\n",
        "import torch\n",
        "from torch import nn ,cuda\n",
        "from torch.utils.data import DataLoader,Dataset,RandomSampler, SequentialSampler\n",
        "\n",
        "from sklearn.model_selection import train_test_split, KFold, StratifiedKFold\n",
        "from sklearn.metrics import accuracy_score, precision_recall_fscore_support\n",
        "from sklearn.preprocessing import MultiLabelBinarizer\n",
        "\n",
        "\n",
        "from bs4 import BeautifulSoup\n",
        "\n",
        "import seaborn as sns\n",
        "from pylab import rcParams\n",
        "import matplotlib.pyplot as plt\n",
        "from matplotlib import rc\n",
        "%matplotlib inline\n",
        "\n",
        "RANDOM_SEED = 42\n",
        "np.random.seed(RANDOM_SEED)\n",
        "torch.manual_seed(RANDOM_SEED)\n",
        "\n",
        "\n",
        "from transformers import AutoTokenizer, DataCollatorWithPadding\n",
        "from transformers import BertForSequenceClassification\n",
        "from tensorflow.keras.layers import Input, Dropout, Dense\n",
        "from keras.layers.embeddings import Embedding\n",
        "from keras.layers import Flatten, LSTM\n",
        "from keras.layers.core import Activation, Dropout, Dense\n",
        "\n",
        "import tensorflow as tf\n",
        "\n",
        "np.set_printoptions(formatter={'float_kind':'{:f}'.format})\n",
        "#since most of our numbers will be decimals :)\n",
        "\n",
        "from tensorflow.keras.metrics import AUC"
      ]
    },
    {
      "cell_type": "code",
      "execution_count": 3,
      "metadata": {
        "id": "COKq0sQORh-F",
        "colab": {
          "base_uri": "https://localhost:8080/"
        },
        "outputId": "06025d7f-261a-4a4d-b786-ce65e2ae6caf"
      },
      "outputs": [
        {
          "output_type": "stream",
          "name": "stdout",
          "text": [
            "Mounted at /content/drive\n"
          ]
        }
      ],
      "source": [
        "from google.colab import drive\n",
        "drive.mount(\"/content/drive\")"
      ]
    },
    {
      "cell_type": "markdown",
      "metadata": {
        "id": "vgg9sXEkrXDO"
      },
      "source": [
        "# **Dataset**"
      ]
    },
    {
      "cell_type": "code",
      "execution_count": 4,
      "metadata": {
        "colab": {
          "base_uri": "https://localhost:8080/",
          "height": 363
        },
        "id": "EfOhe_Au-eQJ",
        "outputId": "c48f9858-43e0-422e-a7b0-88a1e219202b"
      },
      "outputs": [
        {
          "output_type": "execute_result",
          "data": {
            "text/plain": [
              "                                                text                  accept  \\\n",
              "0  The other part of our data consists of an undi...                  [Data]   \n",
              "1  This list of actors can be interpreted to repr...            [Definition]   \n",
              "2  The two samples were compared on all study var...        [Method, Theory]   \n",
              "3  This is supported by a more recent report by  ...  [RelationToLiterature]   \n",
              "4  , the false noise parameter C was misstated by...            [Definition]   \n",
              "5  In the strategic management literature, the na...  [RelationToLiterature]   \n",
              "6  No such link was found however, but, according...            [FutureWork]   \n",
              "7  The problem is that the timeliness of the data...      [Data, Limitation]   \n",
              "8  The social sciences differ from the physical s...  [RelationToLiterature]   \n",
              "9  Browne et al.  START_CITE [3] END_CITE  CITE_b...  [RelationToLiterature]   \n",
              "\n",
              "             labels_str  \n",
              "0                  Data  \n",
              "1            Definition  \n",
              "2         Method Theory  \n",
              "3  RelationToLiterature  \n",
              "4            Definition  \n",
              "5  RelationToLiterature  \n",
              "6            FutureWork  \n",
              "7       Data Limitation  \n",
              "8  RelationToLiterature  \n",
              "9  RelationToLiterature  "
            ],
            "text/html": [
              "\n",
              "  <div id=\"df-923e6a95-f53f-4242-804a-374822bf427f\">\n",
              "    <div class=\"colab-df-container\">\n",
              "      <div>\n",
              "<style scoped>\n",
              "    .dataframe tbody tr th:only-of-type {\n",
              "        vertical-align: middle;\n",
              "    }\n",
              "\n",
              "    .dataframe tbody tr th {\n",
              "        vertical-align: top;\n",
              "    }\n",
              "\n",
              "    .dataframe thead th {\n",
              "        text-align: right;\n",
              "    }\n",
              "</style>\n",
              "<table border=\"1\" class=\"dataframe\">\n",
              "  <thead>\n",
              "    <tr style=\"text-align: right;\">\n",
              "      <th></th>\n",
              "      <th>text</th>\n",
              "      <th>accept</th>\n",
              "      <th>labels_str</th>\n",
              "    </tr>\n",
              "  </thead>\n",
              "  <tbody>\n",
              "    <tr>\n",
              "      <th>0</th>\n",
              "      <td>The other part of our data consists of an undi...</td>\n",
              "      <td>[Data]</td>\n",
              "      <td>Data</td>\n",
              "    </tr>\n",
              "    <tr>\n",
              "      <th>1</th>\n",
              "      <td>This list of actors can be interpreted to repr...</td>\n",
              "      <td>[Definition]</td>\n",
              "      <td>Definition</td>\n",
              "    </tr>\n",
              "    <tr>\n",
              "      <th>2</th>\n",
              "      <td>The two samples were compared on all study var...</td>\n",
              "      <td>[Method, Theory]</td>\n",
              "      <td>Method Theory</td>\n",
              "    </tr>\n",
              "    <tr>\n",
              "      <th>3</th>\n",
              "      <td>This is supported by a more recent report by  ...</td>\n",
              "      <td>[RelationToLiterature]</td>\n",
              "      <td>RelationToLiterature</td>\n",
              "    </tr>\n",
              "    <tr>\n",
              "      <th>4</th>\n",
              "      <td>, the false noise parameter C was misstated by...</td>\n",
              "      <td>[Definition]</td>\n",
              "      <td>Definition</td>\n",
              "    </tr>\n",
              "    <tr>\n",
              "      <th>5</th>\n",
              "      <td>In the strategic management literature, the na...</td>\n",
              "      <td>[RelationToLiterature]</td>\n",
              "      <td>RelationToLiterature</td>\n",
              "    </tr>\n",
              "    <tr>\n",
              "      <th>6</th>\n",
              "      <td>No such link was found however, but, according...</td>\n",
              "      <td>[FutureWork]</td>\n",
              "      <td>FutureWork</td>\n",
              "    </tr>\n",
              "    <tr>\n",
              "      <th>7</th>\n",
              "      <td>The problem is that the timeliness of the data...</td>\n",
              "      <td>[Data, Limitation]</td>\n",
              "      <td>Data Limitation</td>\n",
              "    </tr>\n",
              "    <tr>\n",
              "      <th>8</th>\n",
              "      <td>The social sciences differ from the physical s...</td>\n",
              "      <td>[RelationToLiterature]</td>\n",
              "      <td>RelationToLiterature</td>\n",
              "    </tr>\n",
              "    <tr>\n",
              "      <th>9</th>\n",
              "      <td>Browne et al.  START_CITE [3] END_CITE  CITE_b...</td>\n",
              "      <td>[RelationToLiterature]</td>\n",
              "      <td>RelationToLiterature</td>\n",
              "    </tr>\n",
              "  </tbody>\n",
              "</table>\n",
              "</div>\n",
              "      <button class=\"colab-df-convert\" onclick=\"convertToInteractive('df-923e6a95-f53f-4242-804a-374822bf427f')\"\n",
              "              title=\"Convert this dataframe to an interactive table.\"\n",
              "              style=\"display:none;\">\n",
              "        \n",
              "  <svg xmlns=\"http://www.w3.org/2000/svg\" height=\"24px\"viewBox=\"0 0 24 24\"\n",
              "       width=\"24px\">\n",
              "    <path d=\"M0 0h24v24H0V0z\" fill=\"none\"/>\n",
              "    <path d=\"M18.56 5.44l.94 2.06.94-2.06 2.06-.94-2.06-.94-.94-2.06-.94 2.06-2.06.94zm-11 1L8.5 8.5l.94-2.06 2.06-.94-2.06-.94L8.5 2.5l-.94 2.06-2.06.94zm10 10l.94 2.06.94-2.06 2.06-.94-2.06-.94-.94-2.06-.94 2.06-2.06.94z\"/><path d=\"M17.41 7.96l-1.37-1.37c-.4-.4-.92-.59-1.43-.59-.52 0-1.04.2-1.43.59L10.3 9.45l-7.72 7.72c-.78.78-.78 2.05 0 2.83L4 21.41c.39.39.9.59 1.41.59.51 0 1.02-.2 1.41-.59l7.78-7.78 2.81-2.81c.8-.78.8-2.07 0-2.86zM5.41 20L4 18.59l7.72-7.72 1.47 1.35L5.41 20z\"/>\n",
              "  </svg>\n",
              "      </button>\n",
              "      \n",
              "  <style>\n",
              "    .colab-df-container {\n",
              "      display:flex;\n",
              "      flex-wrap:wrap;\n",
              "      gap: 12px;\n",
              "    }\n",
              "\n",
              "    .colab-df-convert {\n",
              "      background-color: #E8F0FE;\n",
              "      border: none;\n",
              "      border-radius: 50%;\n",
              "      cursor: pointer;\n",
              "      display: none;\n",
              "      fill: #1967D2;\n",
              "      height: 32px;\n",
              "      padding: 0 0 0 0;\n",
              "      width: 32px;\n",
              "    }\n",
              "\n",
              "    .colab-df-convert:hover {\n",
              "      background-color: #E2EBFA;\n",
              "      box-shadow: 0px 1px 2px rgba(60, 64, 67, 0.3), 0px 1px 3px 1px rgba(60, 64, 67, 0.15);\n",
              "      fill: #174EA6;\n",
              "    }\n",
              "\n",
              "    [theme=dark] .colab-df-convert {\n",
              "      background-color: #3B4455;\n",
              "      fill: #D2E3FC;\n",
              "    }\n",
              "\n",
              "    [theme=dark] .colab-df-convert:hover {\n",
              "      background-color: #434B5C;\n",
              "      box-shadow: 0px 1px 3px 1px rgba(0, 0, 0, 0.15);\n",
              "      filter: drop-shadow(0px 1px 2px rgba(0, 0, 0, 0.3));\n",
              "      fill: #FFFFFF;\n",
              "    }\n",
              "  </style>\n",
              "\n",
              "      <script>\n",
              "        const buttonEl =\n",
              "          document.querySelector('#df-923e6a95-f53f-4242-804a-374822bf427f button.colab-df-convert');\n",
              "        buttonEl.style.display =\n",
              "          google.colab.kernel.accessAllowed ? 'block' : 'none';\n",
              "\n",
              "        async function convertToInteractive(key) {\n",
              "          const element = document.querySelector('#df-923e6a95-f53f-4242-804a-374822bf427f');\n",
              "          const dataTable =\n",
              "            await google.colab.kernel.invokeFunction('convertToInteractive',\n",
              "                                                     [key], {});\n",
              "          if (!dataTable) return;\n",
              "\n",
              "          const docLinkHtml = 'Like what you see? Visit the ' +\n",
              "            '<a target=\"_blank\" href=https://colab.research.google.com/notebooks/data_table.ipynb>data table notebook</a>'\n",
              "            + ' to learn more about interactive tables.';\n",
              "          element.innerHTML = '';\n",
              "          dataTable['output_type'] = 'display_data';\n",
              "          await google.colab.output.renderOutput(dataTable, element);\n",
              "          const docLink = document.createElement('div');\n",
              "          docLink.innerHTML = docLinkHtml;\n",
              "          element.appendChild(docLink);\n",
              "        }\n",
              "      </script>\n",
              "    </div>\n",
              "  </div>\n",
              "  "
            ]
          },
          "metadata": {},
          "execution_count": 4
        }
      ],
      "source": [
        "#df = pd.read_csv(\"/content/drive/Othercomputers/Mi portátil/Master/GitHub/twsm-group-project/twsm_project_corpus2.csv\") #Roger main google acc\n",
        "#df = pd.read_csv(\"/content/drive/MyDrive/twsm_project_corpus2.csv\") #Roger second google acc\n",
        "df = pd.read_csv(\"/content/drive/MyDrive/twsm_project_corpus_final.csv\", index_col = 0) #Roger 3rd account (saving models)\n",
        "#df = pd.read_csv(\"/content/drive/MyDrive/twsm_project_corpus2.csv\", index_col = 0) #valentins drive\n",
        "#df = pd.read_csv(\"/home/valentin_werner/TWSM_Lab_Team4/twsm_project_corpus0.csv\", index_col = 0) on zeno\n",
        "df.head(5)\n",
        "df = df.dropna() #drop na values (somehow a few remained in the dataset)\n",
        "rejoined = [row.split(\" \") for row in df.labels_str]\n",
        "df[\"accept\"] = rejoined\n",
        "df.head(10)"
      ]
    },
    {
      "cell_type": "markdown",
      "metadata": {
        "id": "KwEf8F5Nrdo_"
      },
      "source": [
        "## **Preprocess Text**"
      ]
    },
    {
      "cell_type": "code",
      "execution_count": 5,
      "metadata": {
        "id": "R7lxy2lkloUh"
      },
      "outputs": [],
      "source": [
        "# define pre_process\n",
        "def pre_process(text):\n",
        "  text = BeautifulSoup(text).get_text()\n",
        "  # convert text to lower case\n",
        "  text = text.lower()\n",
        "  # split text into tokens to remove whitespaces\n",
        "  tokens = text.split()\n",
        "  return \" \".join(tokens)"
      ]
    },
    {
      "cell_type": "code",
      "execution_count": 6,
      "metadata": {
        "id": "S-Chumfglxr-"
      },
      "outputs": [],
      "source": [
        "#apply preprocess \n",
        "df[\"clean_text\"] = df[\"text\"].apply(pre_process)"
      ]
    },
    {
      "cell_type": "code",
      "execution_count": 7,
      "metadata": {
        "colab": {
          "base_uri": "https://localhost:8080/",
          "height": 53
        },
        "id": "BDX-n165KNju",
        "outputId": "c916772e-0c90-4f02-a407-1475c545495e"
      },
      "outputs": [
        {
          "output_type": "execute_result",
          "data": {
            "text/plain": [
              "'This is supported by a more recent report by  START_CITE West and Curtis (2006) END_CITE  CITE_b72 , which found significant differences between women and men academics, including disparities in tenure and salaries.'"
            ],
            "application/vnd.google.colaboratory.intrinsic+json": {
              "type": "string"
            }
          },
          "metadata": {},
          "execution_count": 7
        }
      ],
      "source": [
        "#sample of the original df\n",
        "df[\"text\"][3]"
      ]
    },
    {
      "cell_type": "code",
      "execution_count": 8,
      "metadata": {
        "colab": {
          "base_uri": "https://localhost:8080/",
          "height": 53
        },
        "id": "dSjW6be5KN9A",
        "outputId": "69de6147-f946-4f92-901e-e4814de81c63"
      },
      "outputs": [
        {
          "output_type": "execute_result",
          "data": {
            "text/plain": [
              "'this is supported by a more recent report by start_cite west and curtis (2006) end_cite cite_b72 , which found significant differences between women and men academics, including disparities in tenure and salaries.'"
            ],
            "application/vnd.google.colaboratory.intrinsic+json": {
              "type": "string"
            }
          },
          "metadata": {},
          "execution_count": 8
        }
      ],
      "source": [
        "#same sample but preprocessed\n",
        "df[\"clean_text\"][3]"
      ]
    },
    {
      "cell_type": "code",
      "execution_count": 9,
      "metadata": {
        "id": "oGqP-kpAjcyr"
      },
      "outputs": [],
      "source": [
        "#check \"cites\", consider deletion of specific characters and signs\n",
        "pd.set_option('display.max_colwidth', None)\n",
        "\n",
        "clean_text = df[df['clean_text'].str.contains('cite')]"
      ]
    },
    {
      "cell_type": "code",
      "execution_count": 10,
      "metadata": {
        "colab": {
          "base_uri": "https://localhost:8080/"
        },
        "id": "9aIKr9hO0wu_",
        "outputId": "5b391862-38d2-43e6-ea1d-c7f1ff926ba9"
      },
      "outputs": [
        {
          "output_type": "execute_result",
          "data": {
            "text/plain": [
              "0                                                                                                                                                                                                                                                                                                                                                                                                                                                                               the other part of our data consists of an undirected social graph.\n",
              "1                                                                                                                                                                                                                                                                                                                                                                                                                   this list of actors can be interpreted to represent the most important barriers to successful software development in nigeria.\n",
              "2                                                                                                                                                                                                                                                                                                                                                                                                                                    the two samples were compared on all study variables and on age, gender, position, and organizational tenure.\n",
              "3                                                                                                                                                                                                                                                                                                                            this is supported by a more recent report by start_cite west and curtis (2006) end_cite cite_b72 , which found significant differences between women and men academics, including disparities in tenure and salaries.\n",
              "4                                                                                                                                                                                                                                                                                                                                                                                                               , the false noise parameter c was misstated by 0.10 (either all high or all low in a run) except near the end points (c = 0 or 1).\n",
              "                                                                                                                                                                                                                                                                           ...                                                                                                                                                                                                                                                                    \n",
              "3445                                                                                                                                                                                                                                                                                                                                                                                                                    the algorithm changes constantly because it has no logical basis and is continuously buffeted by short-lived correlations.\n",
              "3446                                                                                                                                                                                                                                                                               we paid special attention to critical incidents where coordination efforts were interrupted or stymied, the sources and consequences of the interruptions, and the mechanisms that or personnel deployed to cope with and recover from coordination breakdowns.\n",
              "3447    one major aspect of conscientiousness is a sense of duty that tends to make highly conscientious individuals act on behalf of others rather than maintain a self-centred focus start_cite (moon, 2001) end_cite cite_b57 . start_cite podsakoff et al. (2000) end_cite cite_b65 observed that highly conscientious individuals demonstrate altruism, which is positively related to organizational citizenship, and van dyne et al. (1995) argue that conscientious individuals will tend to be more inclined to show selfless behaviours.\n",
              "3448                                                                                                                                                                                                                                                                                                                additionally, we found the research in these categories to have relatively low levels of thematic intraconnectedness (with the exception of trust of health is, rfid and tracking in healthcare, and health consumer privacy).\n",
              "3449                                                                                                                                                                                                                                                                                                                                                                                              this is accentuated by the ambidextrous exploitation and experimentation going on in the company with regards to leveraging digital innovations.\n",
              "Name: clean_text, Length: 3444, dtype: object"
            ]
          },
          "metadata": {},
          "execution_count": 10
        }
      ],
      "source": [
        "df[\"clean_text\"]"
      ]
    },
    {
      "cell_type": "code",
      "execution_count": 11,
      "metadata": {
        "colab": {
          "base_uri": "https://localhost:8080/"
        },
        "id": "vSzlOUuLws4O",
        "outputId": "e1d01aa5-d1da-42c0-faed-b2f5e00b5fd0"
      },
      "outputs": [
        {
          "output_type": "execute_result",
          "data": {
            "text/plain": [
              "0                                                                                                                             the other part of our data consists of an undirected social graph.\n",
              "1                                                                 this list of actors can be interpreted to represent the most important barriers to successful software development in nigeria.\n",
              "2                                                                                  the two samples were compared on all study variables and on age, gender, position, and organizational tenure.\n",
              "3    this is supported by a more recent report by  west and curtis (2006)   , which found significant differences between women and men academics, including disparities in tenure and salaries.\n",
              "4                                                             , the false noise parameter c was misstated by 0.10 (either all high or all low in a run) except near the end points (c = 0 or 1).\n",
              "Name: clean_text, dtype: object"
            ]
          },
          "metadata": {},
          "execution_count": 11
        }
      ],
      "source": [
        "#cleaning cites\n",
        "import re\n",
        "\n",
        "new_text = [re.sub(\"start_cite|end_cite|cite_\\w+\", \"\", text) for text in df[\"clean_text\"]]\n",
        "df[\"clean_text\"] = new_text\n",
        "df[\"clean_text\"][0:5]"
      ]
    },
    {
      "cell_type": "markdown",
      "metadata": {
        "id": "BGCiUujXrrrT"
      },
      "source": [
        "## **Max_len decision**"
      ]
    },
    {
      "cell_type": "code",
      "execution_count": 12,
      "metadata": {
        "colab": {
          "base_uri": "https://localhost:8080/",
          "height": 312
        },
        "id": "5aUMynjJdfJb",
        "outputId": "77ad1eb2-7da9-4a2f-f27e-bb619c35898f"
      },
      "outputs": [
        {
          "output_type": "execute_result",
          "data": {
            "text/plain": [
              "Text(0, 0.5, 'Word count')"
            ]
          },
          "metadata": {},
          "execution_count": 12
        },
        {
          "output_type": "display_data",
          "data": {
            "text/plain": [
              "<Figure size 432x288 with 1 Axes>"
            ],
            "image/png": "[encoded data removed]"
          },
          "metadata": {
            "needs_background": "light"
          }
        }
      ],
      "source": [
        "#Count words per sentence so we can set an appropiate max_len\n",
        "word_list = [len(x.split()) for x in df[\"clean_text\"].tolist()]\n",
        "fig = plt.figure()\n",
        "ax = fig.add_subplot(1,1,1,)\n",
        "n, bins, patches = ax.hist(word_list, bins=50, histtype='bar')\n",
        "\n",
        "#ax.set_xticklabels([n], rotation='vertical')\n",
        "\n",
        "for patch in patches:\n",
        "    patch.set_facecolor('r')\n",
        "\n",
        "plt.title(\"Words per sentence\")\n",
        "plt.xlabel('Cases')\n",
        "plt.ylabel('Word count')"
      ]
    },
    {
      "cell_type": "code",
      "execution_count": 13,
      "metadata": {
        "colab": {
          "base_uri": "https://localhost:8080/",
          "height": 337
        },
        "id": "YArubky4ROlt",
        "outputId": "84edbd68-c05a-4b72-a451-bfc9a827668a"
      },
      "outputs": [
        {
          "output_type": "stream",
          "name": "stderr",
          "text": [
            "/usr/local/lib/python3.7/dist-packages/seaborn/_decorators.py:43: FutureWarning: Pass the following variable as a keyword arg: x. From version 0.12, the only valid positional argument will be `data`, and passing other arguments without an explicit keyword will result in an error or misinterpretation.\n",
            "  FutureWarning\n"
          ]
        },
        {
          "output_type": "execute_result",
          "data": {
            "text/plain": [
              "<matplotlib.axes._subplots.AxesSubplot at 0x7fd980228210>"
            ]
          },
          "metadata": {},
          "execution_count": 13
        },
        {
          "output_type": "display_data",
          "data": {
            "text/plain": [
              "<Figure size 432x288 with 1 Axes>"
            ],
            "image/png": "[encoded data removed]"
          },
          "metadata": {
            "needs_background": "light"
          }
        }
      ],
      "source": [
        "sns.boxplot(word_list)"
      ]
    },
    {
      "cell_type": "code",
      "execution_count": 14,
      "metadata": {
        "colab": {
          "base_uri": "https://localhost:8080/"
        },
        "id": "OGlNTmlgROlv",
        "outputId": "a3d0e4fe-80db-4261-8e72-d18d0eca80b0"
      },
      "outputs": [
        {
          "output_type": "execute_result",
          "data": {
            "text/plain": [
              "6"
            ]
          },
          "metadata": {},
          "execution_count": 14
        }
      ],
      "source": [
        "#maximum length of 75 is fine!\n",
        "np.count_nonzero(np.array(word_list) >= 75)"
      ]
    },
    {
      "cell_type": "markdown",
      "metadata": {
        "id": "nxS1zS4YROlw"
      },
      "source": [
        "# **Keras Model**"
      ]
    },
    {
      "cell_type": "code",
      "execution_count": 15,
      "metadata": {
        "colab": {
          "base_uri": "https://localhost:8080/"
        },
        "id": "EI6VcqMSROlw",
        "outputId": "03759021-ca2f-433a-b20b-4ba0e89e88a2"
      },
      "outputs": [
        {
          "output_type": "stream",
          "name": "stderr",
          "text": [
            "/usr/local/lib/python3.7/dist-packages/ipykernel_launcher.py:2: VisibleDeprecationWarning: Creating an ndarray from ragged nested sequences (which is a list-or-tuple of lists-or-tuples-or ndarrays with different lengths or shapes) is deprecated. If you meant to do this, you must specify 'dtype=object' when creating the ndarray.\n",
            "  \n"
          ]
        }
      ],
      "source": [
        "#lets turn \"accept\" into a column that properly lists the labels (right now it is a string of a list instead of a list of strings)\n",
        "rejoined = np.array([row.split(\" \") for row in df.labels_str])\n",
        "df[\"accept\"] = rejoined\n",
        "df_new = df[[\"clean_text\", \"accept\"]]"
      ]
    },
    {
      "cell_type": "code",
      "execution_count": 16,
      "metadata": {
        "colab": {
          "base_uri": "https://localhost:8080/"
        },
        "id": "MrghIAcKROlx",
        "outputId": "4040067b-8eeb-4dc7-8ace-6f4442083005"
      },
      "outputs": [
        {
          "output_type": "execute_result",
          "data": {
            "text/plain": [
              "array([list(['Data']), list(['Definition']), list(['Method', 'Theory']),\n",
              "       ..., list(['RelationToLiterature']), list(['Theory']),\n",
              "       list(['Definition'])], dtype=object)"
            ]
          },
          "metadata": {},
          "execution_count": 16
        }
      ],
      "source": [
        "rejoined"
      ]
    },
    {
      "cell_type": "code",
      "execution_count": 17,
      "metadata": {
        "id": "BsYAl0drROlz"
      },
      "outputs": [],
      "source": [
        "df_new = df_new.reset_index().drop(columns = \"index\")\n",
        "df_new.columns = [\"text\", \"label\"]"
      ]
    },
    {
      "cell_type": "code",
      "execution_count": 18,
      "metadata": {
        "colab": {
          "base_uri": "https://localhost:8080/",
          "height": 206
        },
        "id": "cLfZoW63yQ7S",
        "outputId": "97b7a185-4888-46b4-e7df-209603a44e16"
      },
      "outputs": [
        {
          "output_type": "execute_result",
          "data": {
            "text/plain": [
              "                                                                                                                                                                                          text  \\\n",
              "0                                                                                                                           the other part of our data consists of an undirected social graph.   \n",
              "1                                                               this list of actors can be interpreted to represent the most important barriers to successful software development in nigeria.   \n",
              "2                                                                                the two samples were compared on all study variables and on age, gender, position, and organizational tenure.   \n",
              "3  this is supported by a more recent report by  west and curtis (2006)   , which found significant differences between women and men academics, including disparities in tenure and salaries.   \n",
              "4                                                           , the false noise parameter c was misstated by 0.10 (either all high or all low in a run) except near the end points (c = 0 or 1).   \n",
              "\n",
              "                    label  \n",
              "0                  [Data]  \n",
              "1            [Definition]  \n",
              "2        [Method, Theory]  \n",
              "3  [RelationToLiterature]  \n",
              "4            [Definition]  "
            ],
            "text/html": [
              "\n",
              "  <div id=\"df-a81389e3-8752-4532-9b1c-fce40908aa81\">\n",
              "    <div class=\"colab-df-container\">\n",
              "      <div>\n",
              "<style scoped>\n",
              "    .dataframe tbody tr th:only-of-type {\n",
              "        vertical-align: middle;\n",
              "    }\n",
              "\n",
              "    .dataframe tbody tr th {\n",
              "        vertical-align: top;\n",
              "    }\n",
              "\n",
              "    .dataframe thead th {\n",
              "        text-align: right;\n",
              "    }\n",
              "</style>\n",
              "<table border=\"1\" class=\"dataframe\">\n",
              "  <thead>\n",
              "    <tr style=\"text-align: right;\">\n",
              "      <th></th>\n",
              "      <th>text</th>\n",
              "      <th>label</th>\n",
              "    </tr>\n",
              "  </thead>\n",
              "  <tbody>\n",
              "    <tr>\n",
              "      <th>0</th>\n",
              "      <td>the other part of our data consists of an undirected social graph.</td>\n",
              "      <td>[Data]</td>\n",
              "    </tr>\n",
              "    <tr>\n",
              "      <th>1</th>\n",
              "      <td>this list of actors can be interpreted to represent the most important barriers to successful software development in nigeria.</td>\n",
              "      <td>[Definition]</td>\n",
              "    </tr>\n",
              "    <tr>\n",
              "      <th>2</th>\n",
              "      <td>the two samples were compared on all study variables and on age, gender, position, and organizational tenure.</td>\n",
              "      <td>[Method, Theory]</td>\n",
              "    </tr>\n",
              "    <tr>\n",
              "      <th>3</th>\n",
              "      <td>this is supported by a more recent report by  west and curtis (2006)   , which found significant differences between women and men academics, including disparities in tenure and salaries.</td>\n",
              "      <td>[RelationToLiterature]</td>\n",
              "    </tr>\n",
              "    <tr>\n",
              "      <th>4</th>\n",
              "      <td>, the false noise parameter c was misstated by 0.10 (either all high or all low in a run) except near the end points (c = 0 or 1).</td>\n",
              "      <td>[Definition]</td>\n",
              "    </tr>\n",
              "  </tbody>\n",
              "</table>\n",
              "</div>\n",
              "      <button class=\"colab-df-convert\" onclick=\"convertToInteractive('df-a81389e3-8752-4532-9b1c-fce40908aa81')\"\n",
              "              title=\"Convert this dataframe to an interactive table.\"\n",
              "              style=\"display:none;\">\n",
              "        \n",
              "  <svg xmlns=\"http://www.w3.org/2000/svg\" height=\"24px\"viewBox=\"0 0 24 24\"\n",
              "       width=\"24px\">\n",
              "    <path d=\"M0 0h24v24H0V0z\" fill=\"none\"/>\n",
              "    <path d=\"M18.56 5.44l.94 2.06.94-2.06 2.06-.94-2.06-.94-.94-2.06-.94 2.06-2.06.94zm-11 1L8.5 8.5l.94-2.06 2.06-.94-2.06-.94L8.5 2.5l-.94 2.06-2.06.94zm10 10l.94 2.06.94-2.06 2.06-.94-2.06-.94-.94-2.06-.94 2.06-2.06.94z\"/><path d=\"M17.41 7.96l-1.37-1.37c-.4-.4-.92-.59-1.43-.59-.52 0-1.04.2-1.43.59L10.3 9.45l-7.72 7.72c-.78.78-.78 2.05 0 2.83L4 21.41c.39.39.9.59 1.41.59.51 0 1.02-.2 1.41-.59l7.78-7.78 2.81-2.81c.8-.78.8-2.07 0-2.86zM5.41 20L4 18.59l7.72-7.72 1.47 1.35L5.41 20z\"/>\n",
              "  </svg>\n",
              "      </button>\n",
              "      \n",
              "  <style>\n",
              "    .colab-df-container {\n",
              "      display:flex;\n",
              "      flex-wrap:wrap;\n",
              "      gap: 12px;\n",
              "    }\n",
              "\n",
              "    .colab-df-convert {\n",
              "      background-color: #E8F0FE;\n",
              "      border: none;\n",
              "      border-radius: 50%;\n",
              "      cursor: pointer;\n",
              "      display: none;\n",
              "      fill: #1967D2;\n",
              "      height: 32px;\n",
              "      padding: 0 0 0 0;\n",
              "      width: 32px;\n",
              "    }\n",
              "\n",
              "    .colab-df-convert:hover {\n",
              "      background-color: #E2EBFA;\n",
              "      box-shadow: 0px 1px 2px rgba(60, 64, 67, 0.3), 0px 1px 3px 1px rgba(60, 64, 67, 0.15);\n",
              "      fill: #174EA6;\n",
              "    }\n",
              "\n",
              "    [theme=dark] .colab-df-convert {\n",
              "      background-color: #3B4455;\n",
              "      fill: #D2E3FC;\n",
              "    }\n",
              "\n",
              "    [theme=dark] .colab-df-convert:hover {\n",
              "      background-color: #434B5C;\n",
              "      box-shadow: 0px 1px 3px 1px rgba(0, 0, 0, 0.15);\n",
              "      filter: drop-shadow(0px 1px 2px rgba(0, 0, 0, 0.3));\n",
              "      fill: #FFFFFF;\n",
              "    }\n",
              "  </style>\n",
              "\n",
              "      <script>\n",
              "        const buttonEl =\n",
              "          document.querySelector('#df-a81389e3-8752-4532-9b1c-fce40908aa81 button.colab-df-convert');\n",
              "        buttonEl.style.display =\n",
              "          google.colab.kernel.accessAllowed ? 'block' : 'none';\n",
              "\n",
              "        async function convertToInteractive(key) {\n",
              "          const element = document.querySelector('#df-a81389e3-8752-4532-9b1c-fce40908aa81');\n",
              "          const dataTable =\n",
              "            await google.colab.kernel.invokeFunction('convertToInteractive',\n",
              "                                                     [key], {});\n",
              "          if (!dataTable) return;\n",
              "\n",
              "          const docLinkHtml = 'Like what you see? Visit the ' +\n",
              "            '<a target=\"_blank\" href=https://colab.research.google.com/notebooks/data_table.ipynb>data table notebook</a>'\n",
              "            + ' to learn more about interactive tables.';\n",
              "          element.innerHTML = '';\n",
              "          dataTable['output_type'] = 'display_data';\n",
              "          await google.colab.output.renderOutput(dataTable, element);\n",
              "          const docLink = document.createElement('div');\n",
              "          docLink.innerHTML = docLinkHtml;\n",
              "          element.appendChild(docLink);\n",
              "        }\n",
              "      </script>\n",
              "    </div>\n",
              "  </div>\n",
              "  "
            ]
          },
          "metadata": {},
          "execution_count": 18
        }
      ],
      "source": [
        "df_new.head()"
      ]
    },
    {
      "cell_type": "markdown",
      "source": [
        "## **Cross-validation set up and label encoding**"
      ],
      "metadata": {
        "id": "x2zv00UqJ8gp"
      }
    },
    {
      "cell_type": "code",
      "execution_count": 19,
      "metadata": {
        "id": "d33nncjAROl0"
      },
      "outputs": [],
      "source": [
        "# First Split for Train and Test\n",
        "#we should stratify, but we have some groups that have only one\n",
        "train_df, test_df = train_test_split(df_new, test_size=0.1, random_state= 0)#, stratify = df_new.label.values)"
      ]
    },
    {
      "cell_type": "code",
      "source": [
        "#Since we cannot use stratified train test split, because we have groups with only one combination, lets see what unstratisfied train-test looks like\n",
        "train_df_exploded = train_df.explode(\"label\")\n",
        "test_df_exploded = test_df.explode(\"label\")\n",
        "\n",
        "comparison_1 = train_df_exploded.groupby(\"label\").count().reset_index()\n",
        "comparison_1.columns = [\"label\", \"relative_frequency\"]\n",
        "comparison_1[\"split\"] = \"train\"\n",
        "comparison_1[\"relative_frequency\"] = comparison_1.relative_frequency / sum(comparison_1.relative_frequency)\n",
        "comparison_2 = test_df_exploded.groupby(\"label\").count().reset_index()\n",
        "comparison_2.columns = [\"label\", \"relative_frequency\"]\n",
        "comparison_2[\"split\"] = \"test\"\n",
        "comparison_2[\"relative_frequency\"] = comparison_2.relative_frequency / sum(comparison_2.relative_frequency)\n",
        "\n",
        "comp = pd.concat([comparison_1, comparison_2])\n",
        "plt.figure(figsize = (15,10))\n",
        "sns.set(font_scale = 0.5)\n",
        "sns.barplot(x = \"label\", y = \"relative_frequency\", data = comp, hue = \"split\")\n",
        "plt.xlabel(\"Labels\", fontsize = 10)\n",
        "plt.ylabel(\"Relative frequency\", fontsize = 10)\n",
        "plt.legend(fontsize = 15)\n",
        "plt.title(\"Relative frequency of labels in train and test split\", fontsize = 12);\n",
        "#We do have some inbalanced groups, but overall this should work out alright"
      ],
      "metadata": {
        "colab": {
          "base_uri": "https://localhost:8080/",
          "height": 619
        },
        "id": "L3QacmkhCiaw",
        "outputId": "dd4ec1a4-cc0f-422f-940d-b96bf396a053"
      },
      "execution_count": 20,
      "outputs": [
        {
          "output_type": "display_data",
          "data": {
            "text/plain": [
              "<Figure size 1080x720 with 1 Axes>"
            ],
            "image/png": "[encoded data removed]"
          },
          "metadata": {
            "needs_background": "light"
          }
        }
      ]
    },
    {
      "cell_type": "code",
      "source": [
        "#KFold\n",
        "skf = StratifiedKFold(n_splits=4, shuffle=True, random_state=42)\n",
        "skf.get_n_splits(train_df)"
      ],
      "metadata": {
        "colab": {
          "base_uri": "https://localhost:8080/"
        },
        "id": "1GARexemJ5df",
        "outputId": "6bf99739-ea9d-4997-dac2-8aad79167e5e"
      },
      "execution_count": 21,
      "outputs": [
        {
          "output_type": "execute_result",
          "data": {
            "text/plain": [
              "4"
            ]
          },
          "metadata": {},
          "execution_count": 21
        }
      ]
    },
    {
      "cell_type": "code",
      "source": [
        "#Encode labels for stratifying\n",
        "mlb = MultiLabelBinarizer()\n",
        "accept_MLB = mlb.fit_transform(train_df[\"label\"])\n",
        "# Getting a sense of how the tags data looks like\n",
        "print(accept_MLB[0])\n",
        "print(mlb.inverse_transform(accept_MLB[0].reshape(1,-1)))\n",
        "print(mlb.classes_)"
      ],
      "metadata": {
        "colab": {
          "base_uri": "https://localhost:8080/"
        },
        "id": "xgTinPPberfw",
        "outputId": "313693cc-0f30-49ae-c4c4-aae56b64c82b"
      },
      "execution_count": 22,
      "outputs": [
        {
          "output_type": "stream",
          "name": "stdout",
          "text": [
            "[0 0 1 0 0 0 0 0 0 0 0 0 0 0 0]\n",
            "[('Definition',)]\n",
            "['Contribution' 'Data' 'Definition' 'EmpiricalResult' 'FutureWork' 'Goal'\n",
            " 'Hypothesis' 'HypothesisResult' 'Item' 'Limitation' 'Method' 'Motivation'\n",
            " 'RelationToLiterature' 'ResearchQuestion' 'Theory']\n"
          ]
        }
      ]
    },
    {
      "cell_type": "code",
      "source": [
        "train_df = train_df.reset_index().drop(columns = \"index\")"
      ],
      "metadata": {
        "id": "TF6TRGWolqNl"
      },
      "execution_count": 23,
      "outputs": []
    },
    {
      "cell_type": "code",
      "source": [
        "#Create 4 folds in a new column of the df\n",
        "for i,(x,y) in enumerate(skf.split(X=train_df.text, y=np.argmax(accept_MLB, axis=1))):\n",
        "    train_df.loc[y,'fold']=i\n",
        "train_df.fold.value_counts()"
      ],
      "metadata": {
        "colab": {
          "base_uri": "https://localhost:8080/"
        },
        "id": "uw-A8OvOlufr",
        "outputId": "f5122fb8-91e1-4adc-8253-2b0d9476f94b"
      },
      "execution_count": 24,
      "outputs": [
        {
          "output_type": "execute_result",
          "data": {
            "text/plain": [
              "1.0    775\n",
              "2.0    775\n",
              "0.0    775\n",
              "3.0    774\n",
              "Name: fold, dtype: int64"
            ]
          },
          "metadata": {},
          "execution_count": 24
        }
      ]
    },
    {
      "cell_type": "code",
      "source": [
        "#Fold check\n",
        "fold_check = train_df.explode(\"label\")\n",
        "fold_check = fold_check.groupby([\"fold\", \"label\"]).text.count().reset_index()\n",
        "plt.figure(figsize = (20,10))\n",
        "sns.set(font_scale = 0.6)\n",
        "sns.barplot(x = \"label\", y = \"text\", hue = \"fold\", data = fold_check)\n",
        "plt.legend(fontsize = 12);\n",
        "#This is a nice split, we would expect similar performance within the folds"
      ],
      "metadata": {
        "colab": {
          "base_uri": "https://localhost:8080/",
          "height": 600
        },
        "id": "a2g9h_lNl8lS",
        "outputId": "bcba5c0a-9445-4637-bd60-63bdb86f4573"
      },
      "execution_count": 25,
      "outputs": [
        {
          "output_type": "display_data",
          "data": {
            "text/plain": [
              "<Figure size 1440x720 with 1 Axes>"
            ],
            "image/png": "[encoded data removed]"
          },
          "metadata": {}
        }
      ]
    },
    {
      "cell_type": "markdown",
      "source": [
        "## **Def necessary functions and utilities**"
      ],
      "metadata": {
        "id": "fFGKO3Pb7V0x"
      }
    },
    {
      "cell_type": "code",
      "execution_count": 26,
      "metadata": {
        "colab": {
          "base_uri": "https://localhost:8080/"
        },
        "id": "SDCWythsROl1",
        "outputId": "18b4c43a-4f1e-4ddc-e581-f7b325bfb9cd"
      },
      "outputs": [
        {
          "output_type": "stream",
          "name": "stdout",
          "text": [
            "Vocabulary: ['[UNK]', 'Theory', 'RelationToLiterature', 'Definition', 'Method', 'EmpiricalResult', 'Data', 'Motivation', 'Limitation', 'Contribution', 'Item', 'ResearchQuestion', 'Goal', 'FutureWork', 'HypothesisResult', 'Hypothesis']\n"
          ]
        }
      ],
      "source": [
        "#encoding labels with keras Lookup Layer\n",
        "terms = tf.ragged.constant(df_new[\"label\"].values)\n",
        "lookup = tf.keras.layers.StringLookup(output_mode=\"multi_hot\")\n",
        "lookup.adapt(terms)\n",
        "vocab = lookup.get_vocabulary()\n",
        "\n",
        "\n",
        "def invert_multi_hot(encoded_labels):\n",
        "    \"\"\"Reverse a single multi-hot encoded label to a tuple of vocab terms.\"\"\"\n",
        "    hot_indices = np.argwhere(encoded_labels == 1.0)[..., 0]\n",
        "    return np.take(vocab, hot_indices)\n",
        "\n",
        "print(f\"Vocabulary: {vocab}\")\n",
        "#the UNK token will always also be returned."
      ]
    },
    {
      "cell_type": "code",
      "execution_count": 27,
      "metadata": {
        "colab": {
          "base_uri": "https://localhost:8080/"
        },
        "id": "KTwzX-g9ROl1",
        "outputId": "7aa27a32-4ef1-45d1-8cdc-fc96334f3c93"
      },
      "outputs": [
        {
          "output_type": "execute_result",
          "data": {
            "text/plain": [
              "(<tf.Tensor: shape=(1, 16), dtype=float32, numpy=\n",
              " array([[0.000000, 1.000000, 0.000000, 0.000000, 1.000000, 0.000000,\n",
              "         0.000000, 0.000000, 0.000000, 0.000000, 0.000000, 0.000000,\n",
              "         0.000000, 0.000000, 0.000000, 0.000000]], dtype=float32)>,\n",
              " ['Method', 'Theory'])"
            ]
          },
          "metadata": {},
          "execution_count": 27
        }
      ],
      "source": [
        "#Example\n",
        "sample_label = df_new[\"label\"].iloc[2]\n",
        "label_binarized = lookup([sample_label])\n",
        "label_binarized, sample_label\n",
        "#Note: Unlike the OHE with sklearn, this is not ordered alphabetically but in the order we can find below (including the UNK token)"
      ]
    },
    {
      "cell_type": "code",
      "execution_count": 28,
      "metadata": {
        "id": "IIus_m44ROl2"
      },
      "outputs": [],
      "source": [
        "#Our Config (so we can reference this values in later code and avoid spaghetti)\n",
        "seed = 0\n",
        "epochs = 20\n",
        "max_length = 75\n",
        "batch_size = 4\n",
        "learning_rate = 2e-5\n",
        "base_model = \"bert-large-uncased\""
      ]
    },
    {
      "cell_type": "code",
      "execution_count": 29,
      "metadata": {
        "id": "_cmnfnSxROl3",
        "colab": {
          "base_uri": "https://localhost:8080/",
          "height": 145,
          "referenced_widgets": [
            "bb736246be5f4ff184b3d580ee73c30c",
            "7c1617b68c234a08a5225b06bfebdbe8",
            "100b3eb126f74d629658e46298c51a92",
            "49c8eee7992d4184a285fde2a837a3d2",
            "5f9110ce7a854cdf8ce9c1c1d4c4d05d",
            "e7b9e58dbec94cec868c1f0bd28a70dc",
            "6eedf722b67445b5ae2270941c747794",
            "92b5ee1ef4ca41359db4c50787b8f5a4",
            "d00ff1c44f384731968f54b93cbdf8e7",
            "c54f90db62f048038d2a9c5312954070",
            "91c5378585af43699e7eb62f24adc747",
            "a565d271d2a8496cbea1a348e52ae4ba",
            "92e9ba37cf9e4f11806ed19e4cbb0a2d",
            "262a163a8f954f78afbd07f813b15e7c",
            "7046caf503ad4561bea6b7877bc20f90",
            "d10ebb646dc149a09fc9316b97815955",
            "2998f80ac8b44594b8e0296703828f11",
            "71ec873d92d14f729fc69ab494b8471a",
            "eb9d67e4bd684909bc5df138567c7ad4",
            "08c7dae416e84a05a4ce9c3bf84a3fa9",
            "cb6e3ce63dd34eb2b1f332f6b245b588",
            "f35af62f92214d0e9a1df64f4ac3a886",
            "1e08a7d26efb43ae9b1024405694aded",
            "8a5423c496d3434d9ec9e258d7a912d9",
            "29661ebf487b4c9cafedaf3535e31463",
            "34861c025bda4a0e9e0da7e62e8af4d4",
            "4b600d445f1749bc83ed24bfe73c4e9d",
            "35998454a05e41cfba8a9d770b2b8d78",
            "da7abf5dc90d49b1ae8bb135aecc6a55",
            "8247013e0e7f440485f1ff7794d98625",
            "a700316664444c2da33b0d13989425cd",
            "ef3288a79bae40d9ae7769b25b9728d7",
            "ecc287facf944734b14c906ad77f9f37",
            "80b9aff6bd674489abd0d59c1ba114e2",
            "416f48ccf40a4d4f8e9edda7cb656c37",
            "98cb44fe8a434e8285d92feeb64318aa",
            "a776a2a808194e0a9bc8e127e66e708e",
            "85aa0d0cff354fbfabe1061688da34f3",
            "ed7efaade55d4ec0a74c2b9365dbca5a",
            "60846ff9de4e4b9b9c325e442fccdd22",
            "fe7b8dc7653642d79d9319c8bb0cd471",
            "6658f3c9ce364d6d8f720743d7fbb0e8",
            "2dad89d98e7c4ec58b4187f88ad230d6",
            "9e6401b0ed0744a581d75564701b679d"
          ]
        },
        "outputId": "1e8b9508-5850-4e95-faa9-cc60cef6994d"
      },
      "outputs": [
        {
          "output_type": "display_data",
          "data": {
            "text/plain": [
              "Downloading:   0%|          | 0.00/28.0 [00:00<?, ?B/s]"
            ],
            "application/vnd.jupyter.widget-view+json": {
              "version_major": 2,
              "version_minor": 0,
              "model_id": "bb736246be5f4ff184b3d580ee73c30c"
            }
          },
          "metadata": {}
        },
        {
          "output_type": "display_data",
          "data": {
            "text/plain": [
              "Downloading:   0%|          | 0.00/571 [00:00<?, ?B/s]"
            ],
            "application/vnd.jupyter.widget-view+json": {
              "version_major": 2,
              "version_minor": 0,
              "model_id": "a565d271d2a8496cbea1a348e52ae4ba"
            }
          },
          "metadata": {}
        },
        {
          "output_type": "display_data",
          "data": {
            "text/plain": [
              "Downloading:   0%|          | 0.00/226k [00:00<?, ?B/s]"
            ],
            "application/vnd.jupyter.widget-view+json": {
              "version_major": 2,
              "version_minor": 0,
              "model_id": "1e08a7d26efb43ae9b1024405694aded"
            }
          },
          "metadata": {}
        },
        {
          "output_type": "display_data",
          "data": {
            "text/plain": [
              "Downloading:   0%|          | 0.00/455k [00:00<?, ?B/s]"
            ],
            "application/vnd.jupyter.widget-view+json": {
              "version_major": 2,
              "version_minor": 0,
              "model_id": "80b9aff6bd674489abd0d59c1ba114e2"
            }
          },
          "metadata": {}
        }
      ],
      "source": [
        "#Prepare tokenizer\n",
        "tokenizer = AutoTokenizer.from_pretrained(base_model)\n",
        "def tok(x): return tokenizer(x, padding = True, truncation = True, return_tensors = \"tf\", max_length = max_length)"
      ]
    },
    {
      "cell_type": "code",
      "execution_count": 30,
      "metadata": {
        "id": "d7BG81WZROl3"
      },
      "outputs": [],
      "source": [
        "def make_dataset(dataframe, is_train=True):\n",
        "    labels = tf.ragged.constant(dataframe[\"label\"].values)\n",
        "    label_binarized = lookup(labels).numpy()\n",
        "    dataset = tf.data.Dataset.from_tensor_slices(\n",
        "        #because tokenizing becomes more dificult afterwards (hugginface clashes a little with keras), I already tokenize here\n",
        "        ((tok(list(dataframe.text))[\"input_ids\"], tok(list(dataframe.text))[\"attention_mask\"])\n",
        "        #not using the token type since we are not using special tokens anyways\n",
        "        ,label_binarized)\n",
        "    )\n",
        "    #take batches randomly along the whole dataset\n",
        "    dataset = dataset.shuffle(batch_size * ((dataframe.shape[0] // batch_size) + 1)) if is_train else dataset\n",
        "    return dataset.batch(batch_size)"
      ]
    },
    {
      "cell_type": "code",
      "execution_count": 31,
      "metadata": {
        "id": "HGbBZzNjROl4"
      },
      "outputs": [],
      "source": [
        "#get datasets\n",
        "#train_dataset = make_dataset(train_df, is_train=True) #in for loop for cv\n",
        "#validation_dataset = make_dataset(val_df, is_train=False) #in for loop for cv\n",
        "test_dataset = make_dataset(test_df, is_train=False)"
      ]
    },
    {
      "cell_type": "code",
      "execution_count": 32,
      "metadata": {
        "id": "dYPr04NuROl5"
      },
      "outputs": [],
      "source": [
        "#Useful to decode outputs\n",
        "def get_labels_out(dataset):\n",
        "    labels = []\n",
        "    for element in dataset:\n",
        "        for arr in element[1]:\n",
        "            labels.append(np.array(arr))\n",
        "    labels = np.asarray(labels)\n",
        "    return labels"
      ]
    },
    {
      "cell_type": "code",
      "source": [
        "#Multi Label Accuracy For Multiple Labels Classification Models (https://data4thought.com/toxic_comments_transformer.html)\n",
        "def multi_label_accuracy(y_true: tf.Tensor, y_pred: tf.Tensor) -> tf.Tensor:\n",
        "    \"\"\"For multi-label classification, one has to define a custom\n",
        "    acccuracy function because neither tf.keras.metrics.Accuracy nor\n",
        "    tf.keras.metrics.CategoricalAccuracy evaluate the number of \n",
        "    exact matches.\n",
        "\n",
        "    :Example:\n",
        "    >>> from tensorflow.keras import metrics\n",
        "    >>> y_true = tf.convert_to_tensor([[1., 1.]])\n",
        "    >>> y_pred = tf.convert_to_tensor([[1., 0.]])\n",
        "    >>> metrics.Accuracy()(y_true, y_pred).numpy()\n",
        "    0.5\n",
        "    >>> metrics.CategoricalAccuracy()(y_true, y_pred).numpy()\n",
        "    1.0\n",
        "    >>> multi_label_accuracy(y_true, y_pred).numpy()\n",
        "    0.0\n",
        "    \"\"\"   \n",
        "    y_pred = tf.math.round(y_pred)\n",
        "    exact_matches = tf.math.reduce_all(y_pred == y_true, axis=1)\n",
        "    exact_matches = tf.cast(exact_matches, tf.float32)\n",
        "    return tf.math.reduce_mean(exact_matches)"
      ],
      "metadata": {
        "id": "dOuY60J0Dol8"
      },
      "execution_count": 33,
      "outputs": []
    },
    {
      "cell_type": "code",
      "source": [
        "#Def model network\n",
        "def build_model():\n",
        "    \n",
        "    input_ids = tf.keras.Input(shape=(max_length, ), dtype = tf.int32)\n",
        "    input_mask = tf.keras.Input(shape=(max_length, ), dtype = tf.int32)\n",
        "    \n",
        "    bert = transformers.TFAutoModel.from_pretrained(base_model, num_labels=15, problem_type=\"multi_label\", trainable=True)\n",
        "    x = bert(input_ids = input_ids, attention_mask = input_mask) \n",
        "\n",
        "    #this is for finetuning\n",
        "    x = tf.keras.layers.GlobalAveragePooling1D()(x.last_hidden_state)\n",
        "    x = tf.keras.layers.Dropout(0.15)(x)\n",
        "    out = tf.keras.layers.Dense(lookup.vocabulary_size(), activation='softmax')(x)\n",
        "    \n",
        "    model = tf.keras.Model(inputs = [input_ids, input_mask], \n",
        "                           outputs = out)\n",
        "    return model"
      ],
      "metadata": {
        "id": "X6S4kEASzXpA"
      },
      "execution_count": 34,
      "outputs": []
    },
    {
      "cell_type": "code",
      "source": [
        "#Def scheduler for learning rate decay for different multipliers\n",
        "def scheduler_example(epoch, multiplier):\n",
        "    if epoch == 0: return learning_rate * 0.15\n",
        "    if epoch == 1: return learning_rate * 0.3\n",
        "    else: return learning_rate / (epoch**multiplier) # more epochs = lower the number"
      ],
      "metadata": {
        "id": "kZaukO5tIoWZ"
      },
      "execution_count": 35,
      "outputs": []
    },
    {
      "cell_type": "code",
      "source": [
        "#Showing the effects of learning rate scheduling\n",
        "e20m01 = [scheduler_example(epoch, 0.1) for epoch in range(20)]\n",
        "e20m02 = [scheduler_example(epoch, 0.2) for epoch in range(20)]\n",
        "e20m03 = [scheduler_example(epoch, 0.3) for epoch in range(20)]\n",
        "e20m04 = [scheduler_example(epoch, 0.4) for epoch in range(20)]\n",
        "e20m05 = [scheduler_example(epoch, 0.5) for epoch in range(20)]\n",
        "e20m06 = [scheduler_example(epoch, 0.6) for epoch in range(20)]\n",
        "e20m07 = [scheduler_example(epoch, 0.7) for epoch in range(20)]\n",
        "\n",
        "plt.plot(e20m01, label = \"0.1\")\n",
        "plt.plot(e20m02, label = \"0.2\")\n",
        "plt.plot(e20m03, label = \"0.3\")\n",
        "plt.plot(e20m04, label = \"0.4\")\n",
        "plt.plot(e20m05, label = \"0.5\")\n",
        "plt.plot(e20m06, label = \"0.6\")\n",
        "plt.plot(e20m07, label = \"0.7\")\n",
        "plt.legend()\n",
        "plt.xticks(range(20)); \n",
        "#something between 0.2 and 0.3 may works out well "
      ],
      "metadata": {
        "id": "QOlaizqDLsC1",
        "colab": {
          "base_uri": "https://localhost:8080/",
          "height": 272
        },
        "outputId": "bc87ff8e-2c3d-44ee-8c02-a2f3bcc03c9a"
      },
      "execution_count": 36,
      "outputs": [
        {
          "output_type": "display_data",
          "data": {
            "text/plain": [
              "<Figure size 432x288 with 1 Axes>"
            ],
            "image/png": "[encoded data removed]"
          },
          "metadata": {}
        }
      ]
    },
    {
      "cell_type": "code",
      "source": [
        "#Def scheduler for learning rate decay\n",
        "def scheduler(epoch):\n",
        "    if epoch == 0: return learning_rate * 0.15\n",
        "    if epoch == 1: return learning_rate * 0.3\n",
        "    else: return learning_rate / (epoch**0.25) # more epochs = lower the number"
      ],
      "metadata": {
        "id": "lIDq8uq1zrv2"
      },
      "execution_count": 37,
      "outputs": []
    },
    {
      "cell_type": "markdown",
      "source": [
        "## **For looping the model through k-folds**"
      ],
      "metadata": {
        "id": "6YQ8L6XW7lvA"
      }
    },
    {
      "cell_type": "markdown",
      "source": [
        "We had to divide the for loop between different cells because Google Collab limits the RAM run"
      ],
      "metadata": {
        "id": "l7fi0F52gofZ"
      }
    },
    {
      "cell_type": "markdown",
      "source": [
        "**Fold 0**"
      ],
      "metadata": {
        "id": "cO7pQIexcBK-"
      }
    },
    {
      "cell_type": "code",
      "source": [
        "#histories = []\n",
        "#scores = []\n",
        "\n",
        "for fold in range(0,1):\n",
        "    print(f\"====== FOLD RUNNING {fold}======\")\n",
        "    \n",
        "    X_train = train_df.loc[train_df['fold'] != fold]['text']\n",
        "    y_train = train_df.loc[train_df['fold'] != fold]['label']\n",
        "    \n",
        "    X_test = train_df.loc[train_df['fold'] == fold]['text']\n",
        "    y_test = train_df.loc[train_df['fold'] == fold]['label']\n",
        "    \n",
        "    train_df_loop = pd.concat([X_train, y_train], axis=1)\n",
        "    test_df_loop = pd.concat([X_test, y_test], axis=1)\n",
        "\n",
        "    print(\"Tokenizing, generating datasets\")\n",
        "    #get datasets\n",
        "    train_dataset = make_dataset(train_df_loop, is_train=True)\n",
        "    validation_dataset = make_dataset(test_df_loop, is_train=False)\n",
        "\n",
        "    print(\"Model Creation\")\n",
        "    model = build_model()\n",
        "    model.compile(\n",
        "            optimizer = tf.keras.optimizers.Adam(learning_rate = learning_rate),\n",
        "            loss = \"binary_crossentropy\",\n",
        "            metrics = [\n",
        "              multi_label_accuracy,\n",
        "              \"binary_accuracy\", \n",
        "              AUC(name=\"average_precision\", curve=\"PR\", multi_label=True)\n",
        "              ]\n",
        "        )\n",
        "    #model.summary()\n",
        "\n",
        "    callback_es = tf.keras.callbacks.EarlyStopping(monitor=\"val_multi_label_accuracy\",#'val_categorical_accuracy', \n",
        "                                               patience=3,\n",
        "                                               mode='max', \n",
        "                                               verbose=1,\n",
        "                                               restore_best_weights=True)\n",
        "\n",
        "    callback_lr = tf.keras.callbacks.LearningRateScheduler(scheduler, verbose = 1)\n",
        "\n",
        "    callback_save = tf.keras.callbacks.ModelCheckpoint(\n",
        "        #valentin's path\n",
        "            f'/content/drive/MyDrive/SentenceBert_fold{fold}.h5', monitor='val_multi_label_accuracy',\n",
        "            #'/content/drive/Othercomputers/Mi portátil/Master/GitHub/twsm-group-project/keras_model/RogerSentenceBert2.h5', monitor='val_multi_label_accuracy',\n",
        "            #\"/content/drive/MyDrive/Output models Bert/RogerSentenceBert2.h5\", monitor='val_multi_label_accuracy',\n",
        "            verbose=1, save_best_only=True,\n",
        "            save_weights_only=True, mode='max', \n",
        "            save_freq='epoch')\n",
        "\n",
        "    hist = model.fit(train_dataset, \n",
        "                epochs = epochs,\n",
        "                shuffle=True,\n",
        "                callbacks = [callback_lr,\n",
        "                              callback_es,\n",
        "                              callback_save,\n",
        "                            ],\n",
        "                batch_size = batch_size,\n",
        "                validation_data = validation_dataset\n",
        "              )\n",
        "\n",
        "    del model, hist\n",
        "\n",
        "    #Clearing backend session\n",
        "    K.clear_session()\n",
        "    print(\"Backend Cleared\")"
      ],
      "metadata": {
        "colab": {
          "base_uri": "https://localhost:8080/",
          "height": 1000,
          "referenced_widgets": [
            "dcf53132099a4850b41c37040fc4adbb",
            "3be41edac7a2448391b4656cf3512e4c",
            "482eedda4cdf4b4f936f914850a6052f",
            "1648b2069baa4f92b42da2400a497088",
            "b0e93a40f786458694811dd9751da02c",
            "deb4cb536b1448fbb586a90f0952762c",
            "a8a7d6a411184baeb28632afc22b94c5",
            "7dd2d5e255a84b5bbe50749454551a45",
            "97c0fce32482475cbc68d4d4ebe31aa3",
            "eb3a6414abff44418d35906b6e129f4d",
            "abbe6ba451da4561a0189f2b5099a152"
          ]
        },
        "id": "lMg7irzAnyme",
        "outputId": "0bc9e4f4-aead-4104-f002-858053aa4809"
      },
      "execution_count": null,
      "outputs": [
        {
          "output_type": "stream",
          "name": "stdout",
          "text": [
            "====== FOLD RUNNING 0======\n",
            "Tokenizing, generating datasets\n",
            "Model Creation\n"
          ]
        },
        {
          "output_type": "display_data",
          "data": {
            "text/plain": [
              "Downloading:   0%|          | 0.00/1.37G [00:00<?, ?B/s]"
            ],
            "application/vnd.jupyter.widget-view+json": {
              "version_major": 2,
              "version_minor": 0,
              "model_id": "dcf53132099a4850b41c37040fc4adbb"
            }
          },
          "metadata": {}
        },
        {
          "output_type": "stream",
          "name": "stderr",
          "text": [
            "Some layers from the model checkpoint at bert-large-uncased were not used when initializing TFBertModel: ['mlm___cls', 'nsp___cls']\n",
            "- This IS expected if you are initializing TFBertModel from the checkpoint of a model trained on another task or with another architecture (e.g. initializing a BertForSequenceClassification model from a BertForPreTraining model).\n",
            "- This IS NOT expected if you are initializing TFBertModel from the checkpoint of a model that you expect to be exactly identical (initializing a BertForSequenceClassification model from a BertForSequenceClassification model).\n",
            "All the layers of TFBertModel were initialized from the model checkpoint at bert-large-uncased.\n",
            "If your task is similar to the task the model of the checkpoint was trained on, you can already use TFBertModel for predictions without further training.\n"
          ]
        },
        {
          "output_type": "stream",
          "name": "stdout",
          "text": [
            "\n",
            "Epoch 1: LearningRateScheduler setting learning rate to 3e-06.\n",
            "Epoch 1/20\n",
            "WARNING:tensorflow:Gradients do not exist for variables ['tf_bert_model/bert/pooler/dense/kernel:0', 'tf_bert_model/bert/pooler/dense/bias:0'] when minimizing the loss. If you're using `model.compile()`, did you forget to provide a `loss`argument?\n",
            "WARNING:tensorflow:Gradients do not exist for variables ['tf_bert_model/bert/pooler/dense/kernel:0', 'tf_bert_model/bert/pooler/dense/bias:0'] when minimizing the loss. If you're using `model.compile()`, did you forget to provide a `loss`argument?\n",
            "581/581 [==============================] - ETA: 0s - loss: 0.2328 - multi_label_accuracy: 0.0972 - binary_accuracy: 0.9257 - average_precision: 0.1449\n",
            "Epoch 1: val_multi_label_accuracy improved from -inf to 0.25000, saving model to /content/drive/MyDrive/SentenceBert_fold0.h5\n",
            "581/581 [==============================] - 243s 361ms/step - loss: 0.2328 - multi_label_accuracy: 0.0972 - binary_accuracy: 0.9257 - average_precision: 0.1449 - val_loss: 0.1826 - val_multi_label_accuracy: 0.2500 - val_binary_accuracy: 0.9348 - val_average_precision: 0.2577 - lr: 3.0000e-06\n",
            "\n",
            "Epoch 2: LearningRateScheduler setting learning rate to 6e-06.\n",
            "Epoch 2/20\n",
            "581/581 [==============================] - ETA: 0s - loss: 0.1819 - multi_label_accuracy: 0.2685 - binary_accuracy: 0.9334 - average_precision: 0.2644\n",
            "Epoch 2: val_multi_label_accuracy improved from 0.25000 to 0.28222, saving model to /content/drive/MyDrive/SentenceBert_fold0.h5\n",
            "581/581 [==============================] - 206s 354ms/step - loss: 0.1819 - multi_label_accuracy: 0.2685 - binary_accuracy: 0.9334 - average_precision: 0.2644 - val_loss: 0.1680 - val_multi_label_accuracy: 0.2822 - val_binary_accuracy: 0.9369 - val_average_precision: 0.3487 - lr: 6.0000e-06\n",
            "\n",
            "Epoch 3: LearningRateScheduler setting learning rate to 1.681792830507429e-05.\n",
            "Epoch 3/20\n",
            "581/581 [==============================] - ETA: 0s - loss: 0.1687 - multi_label_accuracy: 0.3283 - binary_accuracy: 0.9356 - average_precision: 0.3487\n",
            "Epoch 3: val_multi_label_accuracy improved from 0.28222 to 0.37027, saving model to /content/drive/MyDrive/SentenceBert_fold0.h5\n",
            "581/581 [==============================] - 198s 340ms/step - loss: 0.1687 - multi_label_accuracy: 0.3283 - binary_accuracy: 0.9356 - average_precision: 0.3487 - val_loss: 0.1739 - val_multi_label_accuracy: 0.3703 - val_binary_accuracy: 0.9369 - val_average_precision: 0.3526 - lr: 1.6818e-05\n",
            "\n",
            "Epoch 4: LearningRateScheduler setting learning rate to 1.5196713713031852e-05.\n",
            "Epoch 4/20\n",
            "581/581 [==============================] - ETA: 0s - loss: 0.1258 - multi_label_accuracy: 0.4935 - binary_accuracy: 0.9508 - average_precision: 0.5375\n",
            "Epoch 4: val_multi_label_accuracy improved from 0.37027 to 0.41108, saving model to /content/drive/MyDrive/SentenceBert_fold0.h5\n",
            "581/581 [==============================] - 196s 338ms/step - loss: 0.1258 - multi_label_accuracy: 0.4935 - binary_accuracy: 0.9508 - average_precision: 0.5375 - val_loss: 0.1784 - val_multi_label_accuracy: 0.4111 - val_binary_accuracy: 0.9377 - val_average_precision: 0.3739 - lr: 1.5197e-05\n",
            "\n",
            "Epoch 5: LearningRateScheduler setting learning rate to 1.4142135623730951e-05.\n",
            "Epoch 5/20\n",
            "581/581 [==============================] - ETA: 0s - loss: 0.0807 - multi_label_accuracy: 0.6549 - binary_accuracy: 0.9683 - average_precision: 0.7219\n",
            "Epoch 5: val_multi_label_accuracy improved from 0.41108 to 0.42526, saving model to /content/drive/MyDrive/SentenceBert_fold0.h5\n",
            "581/581 [==============================] - 200s 344ms/step - loss: 0.0807 - multi_label_accuracy: 0.6549 - binary_accuracy: 0.9683 - average_precision: 0.7219 - val_loss: 0.1932 - val_multi_label_accuracy: 0.4253 - val_binary_accuracy: 0.9374 - val_average_precision: 0.3794 - lr: 1.4142e-05\n",
            "\n",
            "Epoch 6: LearningRateScheduler setting learning rate to 1.3374806099528442e-05.\n",
            "Epoch 6/20\n",
            "581/581 [==============================] - ETA: 0s - loss: 0.0476 - multi_label_accuracy: 0.7453 - binary_accuracy: 0.9785 - average_precision: 0.8026\n",
            "Epoch 6: val_multi_label_accuracy did not improve from 0.42526\n",
            "581/581 [==============================] - 180s 309ms/step - loss: 0.0476 - multi_label_accuracy: 0.7453 - binary_accuracy: 0.9785 - average_precision: 0.8026 - val_loss: 0.2258 - val_multi_label_accuracy: 0.4223 - val_binary_accuracy: 0.9341 - val_average_precision: 0.3500 - lr: 1.3375e-05\n",
            "\n",
            "Epoch 7: LearningRateScheduler setting learning rate to 1.2778862084925451e-05.\n",
            "Epoch 7/20\n",
            "581/581 [==============================] - ETA: 0s - loss: 0.0243 - multi_label_accuracy: 0.7883 - binary_accuracy: 0.9836 - average_precision: 0.8708\n",
            "Epoch 7: val_multi_label_accuracy improved from 0.42526 to 0.43342, saving model to /content/drive/MyDrive/SentenceBert_fold0.h5\n",
            "581/581 [==============================] - 204s 351ms/step - loss: 0.0243 - multi_label_accuracy: 0.7883 - binary_accuracy: 0.9836 - average_precision: 0.8708 - val_loss: 0.2517 - val_multi_label_accuracy: 0.4334 - val_binary_accuracy: 0.9348 - val_average_precision: 0.3342 - lr: 1.2779e-05\n",
            "\n",
            "Epoch 8: LearningRateScheduler setting learning rate to 1.229576305902529e-05.\n",
            "Epoch 8/20\n",
            "581/581 [==============================] - ETA: 0s - loss: 0.0164 - multi_label_accuracy: 0.7913 - binary_accuracy: 0.9843 - average_precision: 0.8787\n",
            "Epoch 8: val_multi_label_accuracy did not improve from 0.43342\n",
            "581/581 [==============================] - 180s 310ms/step - loss: 0.0164 - multi_label_accuracy: 0.7913 - binary_accuracy: 0.9843 - average_precision: 0.8787 - val_loss: 0.2838 - val_multi_label_accuracy: 0.4296 - val_binary_accuracy: 0.9338 - val_average_precision: 0.3280 - lr: 1.2296e-05\n",
            "\n",
            "Epoch 9: LearningRateScheduler setting learning rate to 1.1892071150027212e-05.\n",
            "Epoch 9/20\n",
            "581/581 [==============================] - ETA: 0s - loss: 0.0115 - multi_label_accuracy: 0.7939 - binary_accuracy: 0.9844 - average_precision: 0.8750\n",
            "Epoch 9: val_multi_label_accuracy did not improve from 0.43342\n",
            "581/581 [==============================] - 179s 308ms/step - loss: 0.0115 - multi_label_accuracy: 0.7939 - binary_accuracy: 0.9844 - average_precision: 0.8750 - val_loss: 0.2956 - val_multi_label_accuracy: 0.4231 - val_binary_accuracy: 0.9317 - val_average_precision: 0.3215 - lr: 1.1892e-05\n",
            "\n",
            "Epoch 10: LearningRateScheduler setting learning rate to 1.1547005383792517e-05.\n",
            "Epoch 10/20\n",
            "581/581 [==============================] - ETA: 0s - loss: 0.0079 - multi_label_accuracy: 0.7948 - binary_accuracy: 0.9847 - average_precision: 0.8825Restoring model weights from the end of the best epoch: 7.\n",
            "\n",
            "Epoch 10: val_multi_label_accuracy did not improve from 0.43342\n",
            "581/581 [==============================] - 179s 308ms/step - loss: 0.0079 - multi_label_accuracy: 0.7948 - binary_accuracy: 0.9847 - average_precision: 0.8825 - val_loss: 0.3059 - val_multi_label_accuracy: 0.4244 - val_binary_accuracy: 0.9319 - val_average_precision: 0.3111 - lr: 1.1547e-05\n",
            "Epoch 10: early stopping\n",
            "Backend Cleared\n"
          ]
        }
      ]
    },
    {
      "cell_type": "markdown",
      "source": [
        "**Fold 1**"
      ],
      "metadata": {
        "id": "otiobFwEcDSv"
      }
    },
    {
      "cell_type": "code",
      "source": [
        "#histories = []\n",
        "#scores = []\n",
        "\n",
        "for fold in range(1,2):\n",
        "    print(f\"====== FOLD RUNNING {fold}======\")\n",
        "    \n",
        "    X_train = train_df.loc[train_df['fold'] != fold]['text']\n",
        "    y_train = train_df.loc[train_df['fold'] != fold]['label']\n",
        "    \n",
        "    X_test = train_df.loc[train_df['fold'] == fold]['text']\n",
        "    y_test = train_df.loc[train_df['fold'] == fold]['label']\n",
        "    \n",
        "    train_df_loop = pd.concat([X_train, y_train], axis=1)\n",
        "    test_df_loop = pd.concat([X_test, y_test], axis=1)\n",
        "\n",
        "    print(\"Tokenizing, generating datasets\")\n",
        "\n",
        "    #get datasets\n",
        "    train_dataset = make_dataset(train_df_loop, is_train=True)\n",
        "    validation_dataset = make_dataset(test_df_loop, is_train=False)\n",
        "\n",
        "    print(\"Model Creation\")\n",
        "    model = build_model()\n",
        "    model.compile(\n",
        "            optimizer = tf.keras.optimizers.Adam(learning_rate = learning_rate),\n",
        "            loss = \"binary_crossentropy\",\n",
        "            metrics = [\n",
        "              multi_label_accuracy,\n",
        "              \"binary_accuracy\", \n",
        "              AUC(name=\"average_precision\", curve=\"PR\", multi_label=True)\n",
        "              ]\n",
        "        )\n",
        "\n",
        "    callback_es = tf.keras.callbacks.EarlyStopping(monitor=\"val_multi_label_accuracy\",#'val_categorical_accuracy', \n",
        "                                               patience=3,\n",
        "                                               mode='max', \n",
        "                                               verbose=1,\n",
        "                                               restore_best_weights=True)\n",
        "\n",
        "    callback_lr = tf.keras.callbacks.LearningRateScheduler(scheduler, verbose = 1)\n",
        "\n",
        "    callback_save = tf.keras.callbacks.ModelCheckpoint(\n",
        "        #valentin's path\n",
        "            f'/content/drive/MyDrive/SentenceBert_fold{fold}.h5', monitor='val_multi_label_accuracy',\n",
        "            #'/content/drive/Othercomputers/Mi portátil/Master/GitHub/twsm-group-project/keras_model/RogerSentenceBert2.h5', monitor='val_multi_label_accuracy',\n",
        "            #\"/content/drive/MyDrive/Output models Bert/RogerSentenceBert2.h5\", monitor='val_multi_label_accuracy',\n",
        "            verbose=1, save_best_only=True,\n",
        "            save_weights_only=True, mode='max', \n",
        "            save_freq='epoch')\n",
        "\n",
        "    hist = model.fit(train_dataset, \n",
        "                epochs = epochs,\n",
        "                shuffle=True,\n",
        "                callbacks = [callback_lr,\n",
        "                              callback_es,\n",
        "                              callback_save,\n",
        "                            ],\n",
        "                batch_size = batch_size,\n",
        "                validation_data = validation_dataset\n",
        "              )\n",
        "    \n",
        "    del model, hist \n",
        "    \n",
        "    #Clearing backend session\n",
        "    K.clear_session()\n",
        "    print(\"Backend Cleared\")"
      ],
      "metadata": {
        "colab": {
          "base_uri": "https://localhost:8080/"
        },
        "id": "j7H7SR2Pbt3c",
        "outputId": "54ec2766-3259-472d-ebdc-615da3fb39b7"
      },
      "execution_count": null,
      "outputs": [
        {
          "output_type": "stream",
          "name": "stdout",
          "text": [
            "====== FOLD RUNNING 1======\n",
            "Tokenizing, generating datasets\n",
            "Model Creation\n"
          ]
        },
        {
          "output_type": "stream",
          "name": "stderr",
          "text": [
            "Some layers from the model checkpoint at bert-large-uncased were not used when initializing TFBertModel: ['mlm___cls', 'nsp___cls']\n",
            "- This IS expected if you are initializing TFBertModel from the checkpoint of a model trained on another task or with another architecture (e.g. initializing a BertForSequenceClassification model from a BertForPreTraining model).\n",
            "- This IS NOT expected if you are initializing TFBertModel from the checkpoint of a model that you expect to be exactly identical (initializing a BertForSequenceClassification model from a BertForSequenceClassification model).\n",
            "All the layers of TFBertModel were initialized from the model checkpoint at bert-large-uncased.\n",
            "If your task is similar to the task the model of the checkpoint was trained on, you can already use TFBertModel for predictions without further training.\n"
          ]
        },
        {
          "output_type": "stream",
          "name": "stdout",
          "text": [
            "\n",
            "Epoch 1: LearningRateScheduler setting learning rate to 3e-06.\n",
            "Epoch 1/20\n",
            "WARNING:tensorflow:Gradients do not exist for variables ['tf_bert_model/bert/pooler/dense/kernel:0', 'tf_bert_model/bert/pooler/dense/bias:0'] when minimizing the loss. If you're using `model.compile()`, did you forget to provide a `loss`argument?\n",
            "WARNING:tensorflow:Gradients do not exist for variables ['tf_bert_model/bert/pooler/dense/kernel:0', 'tf_bert_model/bert/pooler/dense/bias:0'] when minimizing the loss. If you're using `model.compile()`, did you forget to provide a `loss`argument?\n",
            "581/581 [==============================] - ETA: 0s - loss: 0.2285 - multi_label_accuracy: 0.1054 - binary_accuracy: 0.9264 - average_precision: 0.1511\n",
            "Epoch 1: val_multi_label_accuracy improved from -inf to 0.25644, saving model to /content/drive/MyDrive/SentenceBert_fold1.h5\n",
            "581/581 [==============================] - 256s 383ms/step - loss: 0.2285 - multi_label_accuracy: 0.1054 - binary_accuracy: 0.9264 - average_precision: 0.1511 - val_loss: 0.1910 - val_multi_label_accuracy: 0.2564 - val_binary_accuracy: 0.9277 - val_average_precision: 0.2391 - lr: 3.0000e-06\n",
            "\n",
            "Epoch 2: LearningRateScheduler setting learning rate to 6e-06.\n",
            "Epoch 2/20\n",
            "581/581 [==============================] - ETA: 0s - loss: 0.1807 - multi_label_accuracy: 0.2775 - binary_accuracy: 0.9339 - average_precision: 0.2756\n",
            "Epoch 2: val_multi_label_accuracy improved from 0.25644 to 0.28909, saving model to /content/drive/MyDrive/SentenceBert_fold1.h5\n",
            "581/581 [==============================] - 204s 351ms/step - loss: 0.1807 - multi_label_accuracy: 0.2775 - binary_accuracy: 0.9339 - average_precision: 0.2756 - val_loss: 0.1762 - val_multi_label_accuracy: 0.2891 - val_binary_accuracy: 0.9333 - val_average_precision: 0.3189 - lr: 6.0000e-06\n",
            "\n",
            "Epoch 3: LearningRateScheduler setting learning rate to 1.681792830507429e-05.\n",
            "Epoch 3/20\n",
            "581/581 [==============================] - ETA: 0s - loss: 0.1668 - multi_label_accuracy: 0.3421 - binary_accuracy: 0.9367 - average_precision: 0.3438\n",
            "Epoch 3: val_multi_label_accuracy improved from 0.28909 to 0.31271, saving model to /content/drive/MyDrive/SentenceBert_fold1.h5\n",
            "581/581 [==============================] - 205s 353ms/step - loss: 0.1668 - multi_label_accuracy: 0.3421 - binary_accuracy: 0.9367 - average_precision: 0.3438 - val_loss: 0.1774 - val_multi_label_accuracy: 0.3127 - val_binary_accuracy: 0.9323 - val_average_precision: 0.3419 - lr: 1.6818e-05\n",
            "\n",
            "Epoch 4: LearningRateScheduler setting learning rate to 1.5196713713031852e-05.\n",
            "Epoch 4/20\n",
            "581/581 [==============================] - ETA: 0s - loss: 0.1234 - multi_label_accuracy: 0.5181 - binary_accuracy: 0.9532 - average_precision: 0.5512\n",
            "Epoch 4: val_multi_label_accuracy improved from 0.31271 to 0.36512, saving model to /content/drive/MyDrive/SentenceBert_fold1.h5\n",
            "581/581 [==============================] - 200s 344ms/step - loss: 0.1234 - multi_label_accuracy: 0.5181 - binary_accuracy: 0.9532 - average_precision: 0.5512 - val_loss: 0.1938 - val_multi_label_accuracy: 0.3651 - val_binary_accuracy: 0.9315 - val_average_precision: 0.3391 - lr: 1.5197e-05\n",
            "\n",
            "Epoch 5: LearningRateScheduler setting learning rate to 1.4142135623730951e-05.\n",
            "Epoch 5/20\n",
            "581/581 [==============================] - ETA: 0s - loss: 0.0818 - multi_label_accuracy: 0.6695 - binary_accuracy: 0.9695 - average_precision: 0.7232\n",
            "Epoch 5: val_multi_label_accuracy improved from 0.36512 to 0.37199, saving model to /content/drive/MyDrive/SentenceBert_fold1.h5\n",
            "581/581 [==============================] - 196s 337ms/step - loss: 0.0818 - multi_label_accuracy: 0.6695 - binary_accuracy: 0.9695 - average_precision: 0.7232 - val_loss: 0.2278 - val_multi_label_accuracy: 0.3720 - val_binary_accuracy: 0.9301 - val_average_precision: 0.3145 - lr: 1.4142e-05\n",
            "\n",
            "Epoch 6: LearningRateScheduler setting learning rate to 1.3374806099528442e-05.\n",
            "Epoch 6/20\n",
            "581/581 [==============================] - ETA: 0s - loss: 0.0452 - multi_label_accuracy: 0.7556 - binary_accuracy: 0.9797 - average_precision: 0.8282\n",
            "Epoch 6: val_multi_label_accuracy did not improve from 0.37199\n",
            "581/581 [==============================] - 181s 312ms/step - loss: 0.0452 - multi_label_accuracy: 0.7556 - binary_accuracy: 0.9797 - average_precision: 0.8282 - val_loss: 0.2508 - val_multi_label_accuracy: 0.3574 - val_binary_accuracy: 0.9267 - val_average_precision: 0.3313 - lr: 1.3375e-05\n",
            "\n",
            "Epoch 7: LearningRateScheduler setting learning rate to 1.2778862084925451e-05.\n",
            "Epoch 7/20\n",
            "581/581 [==============================] - ETA: 0s - loss: 0.0260 - multi_label_accuracy: 0.7874 - binary_accuracy: 0.9841 - average_precision: 0.8734\n",
            "Epoch 7: val_multi_label_accuracy improved from 0.37199 to 0.38058, saving model to /content/drive/MyDrive/SentenceBert_fold1.h5\n",
            "581/581 [==============================] - 207s 357ms/step - loss: 0.0260 - multi_label_accuracy: 0.7874 - binary_accuracy: 0.9841 - average_precision: 0.8734 - val_loss: 0.2919 - val_multi_label_accuracy: 0.3806 - val_binary_accuracy: 0.9277 - val_average_precision: 0.3199 - lr: 1.2779e-05\n",
            "\n",
            "Epoch 8: LearningRateScheduler setting learning rate to 1.229576305902529e-05.\n",
            "Epoch 8/20\n",
            "581/581 [==============================] - ETA: 0s - loss: 0.0149 - multi_label_accuracy: 0.7960 - binary_accuracy: 0.9849 - average_precision: 0.8982\n",
            "Epoch 8: val_multi_label_accuracy did not improve from 0.38058\n",
            "581/581 [==============================] - 180s 309ms/step - loss: 0.0149 - multi_label_accuracy: 0.7960 - binary_accuracy: 0.9849 - average_precision: 0.8982 - val_loss: 0.2981 - val_multi_label_accuracy: 0.3754 - val_binary_accuracy: 0.9272 - val_average_precision: 0.3195 - lr: 1.2296e-05\n",
            "\n",
            "Epoch 9: LearningRateScheduler setting learning rate to 1.1892071150027212e-05.\n",
            "Epoch 9/20\n",
            "581/581 [==============================] - ETA: 0s - loss: 0.0113 - multi_label_accuracy: 0.7969 - binary_accuracy: 0.9850 - average_precision: 0.8810\n",
            "Epoch 9: val_multi_label_accuracy did not improve from 0.38058\n",
            "581/581 [==============================] - 178s 306ms/step - loss: 0.0113 - multi_label_accuracy: 0.7969 - binary_accuracy: 0.9850 - average_precision: 0.8810 - val_loss: 0.3365 - val_multi_label_accuracy: 0.3806 - val_binary_accuracy: 0.9273 - val_average_precision: 0.3122 - lr: 1.1892e-05\n",
            "\n",
            "Epoch 10: LearningRateScheduler setting learning rate to 1.1547005383792517e-05.\n",
            "Epoch 10/20\n",
            "581/581 [==============================] - ETA: 0s - loss: 0.0077 - multi_label_accuracy: 0.7991 - binary_accuracy: 0.9853 - average_precision: 0.9029Restoring model weights from the end of the best epoch: 7.\n",
            "\n",
            "Epoch 10: val_multi_label_accuracy did not improve from 0.38058\n",
            "581/581 [==============================] - 178s 307ms/step - loss: 0.0077 - multi_label_accuracy: 0.7991 - binary_accuracy: 0.9853 - average_precision: 0.9029 - val_loss: 0.3343 - val_multi_label_accuracy: 0.3767 - val_binary_accuracy: 0.9269 - val_average_precision: 0.3075 - lr: 1.1547e-05\n",
            "Epoch 10: early stopping\n",
            "Backend Cleared\n"
          ]
        }
      ]
    },
    {
      "cell_type": "markdown",
      "source": [
        "**Fold 2**"
      ],
      "metadata": {
        "id": "0wmPi8ZC73Ys"
      }
    },
    {
      "cell_type": "code",
      "source": [
        "#histories = []\n",
        "#scores = []\n",
        "\n",
        "for fold in range(2,3):\n",
        "    print(f\"====== FOLD RUNNING {fold}======\")\n",
        "    \n",
        "    X_train = train_df.loc[train_df['fold'] != fold]['text']\n",
        "    y_train = train_df.loc[train_df['fold'] != fold]['label']\n",
        "    \n",
        "    X_test = train_df.loc[train_df['fold'] == fold]['text']\n",
        "    y_test = train_df.loc[train_df['fold'] == fold]['label']\n",
        "    \n",
        "    train_df_loop = pd.concat([X_train, y_train], axis=1)\n",
        "    test_df_loop = pd.concat([X_test, y_test], axis=1)\n",
        "\n",
        "    print(\"Tokenizing, generating datasets\")\n",
        "\n",
        "    #get datasets\n",
        "    train_dataset = make_dataset(train_df_loop, is_train=True)\n",
        "    validation_dataset = make_dataset(test_df_loop, is_train=False)\n",
        "\n",
        "    print(\"Model Creation\")\n",
        "    model = build_model()\n",
        "    model.compile(\n",
        "            optimizer = tf.keras.optimizers.Adam(learning_rate = learning_rate),\n",
        "            loss = \"binary_crossentropy\",\n",
        "            metrics = [\n",
        "              multi_label_accuracy,\n",
        "              \"binary_accuracy\", \n",
        "              AUC(name=\"average_precision\", curve=\"PR\", multi_label=True)\n",
        "              ]\n",
        "        )\n",
        "\n",
        "    callback_es = tf.keras.callbacks.EarlyStopping(monitor=\"val_multi_label_accuracy\",#'val_categorical_accuracy', \n",
        "                                               patience=3,\n",
        "                                               mode='max', \n",
        "                                               verbose=1,\n",
        "                                               restore_best_weights=True)\n",
        "\n",
        "    callback_lr = tf.keras.callbacks.LearningRateScheduler(scheduler, verbose = 1)\n",
        "\n",
        "    callback_save = tf.keras.callbacks.ModelCheckpoint(\n",
        "        #valentin's path\n",
        "            f'/content/drive/MyDrive/SentenceBert_fold{fold}.h5', monitor='val_multi_label_accuracy',\n",
        "            #'/content/drive/Othercomputers/Mi portátil/Master/GitHub/twsm-group-project/keras_model/RogerSentenceBert2.h5', monitor='val_multi_label_accuracy',\n",
        "            #\"/content/drive/MyDrive/Output models Bert/RogerSentenceBert2.h5\", monitor='val_multi_label_accuracy',\n",
        "            verbose=1, save_best_only=True,\n",
        "            save_weights_only=True, mode='max', \n",
        "            save_freq='epoch')\n",
        "\n",
        "    hist = model.fit(train_dataset, \n",
        "                epochs = epochs,\n",
        "                shuffle=True,\n",
        "                callbacks = [callback_lr,\n",
        "                              callback_es,\n",
        "                              callback_save,\n",
        "                            ],\n",
        "                batch_size = batch_size,\n",
        "                validation_data = validation_dataset\n",
        "              )\n",
        "    \n",
        "    del model, hist \n",
        "    \n",
        "    #Clearing backend session\n",
        "    K.clear_session()\n",
        "    print(\"Backend Cleared\")"
      ],
      "metadata": {
        "colab": {
          "base_uri": "https://localhost:8080/"
        },
        "id": "nlUMV9u470DI",
        "outputId": "edaed7ef-a006-4f1a-f7a2-a9ebc87185e6"
      },
      "execution_count": null,
      "outputs": [
        {
          "output_type": "stream",
          "name": "stdout",
          "text": [
            "====== FOLD RUNNING 2======\n",
            "Tokenizing, generating datasets\n",
            "Model Creation\n"
          ]
        },
        {
          "output_type": "stream",
          "name": "stderr",
          "text": [
            "Some layers from the model checkpoint at bert-large-uncased were not used when initializing TFBertModel: ['mlm___cls', 'nsp___cls']\n",
            "- This IS expected if you are initializing TFBertModel from the checkpoint of a model trained on another task or with another architecture (e.g. initializing a BertForSequenceClassification model from a BertForPreTraining model).\n",
            "- This IS NOT expected if you are initializing TFBertModel from the checkpoint of a model that you expect to be exactly identical (initializing a BertForSequenceClassification model from a BertForSequenceClassification model).\n",
            "All the layers of TFBertModel were initialized from the model checkpoint at bert-large-uncased.\n",
            "If your task is similar to the task the model of the checkpoint was trained on, you can already use TFBertModel for predictions without further training.\n"
          ]
        },
        {
          "output_type": "stream",
          "name": "stdout",
          "text": [
            "\n",
            "Epoch 1: LearningRateScheduler setting learning rate to 3e-06.\n",
            "Epoch 1/20\n",
            "WARNING:tensorflow:Gradients do not exist for variables ['tf_bert_model/bert/pooler/dense/kernel:0', 'tf_bert_model/bert/pooler/dense/bias:0'] when minimizing the loss. If you're using `model.compile()`, did you forget to provide a `loss`argument?\n",
            "WARNING:tensorflow:Gradients do not exist for variables ['tf_bert_model/bert/pooler/dense/kernel:0', 'tf_bert_model/bert/pooler/dense/bias:0'] when minimizing the loss. If you're using `model.compile()`, did you forget to provide a `loss`argument?\n",
            "581/581 [==============================] - ETA: 0s - loss: 0.2435 - multi_label_accuracy: 0.0856 - binary_accuracy: 0.9262 - average_precision: 0.1425\n",
            "Epoch 1: val_multi_label_accuracy improved from -inf to 0.24270, saving model to /content/drive/MyDrive/SentenceBert_fold2.h5\n",
            "581/581 [==============================] - 252s 375ms/step - loss: 0.2435 - multi_label_accuracy: 0.0856 - binary_accuracy: 0.9262 - average_precision: 0.1425 - val_loss: 0.1908 - val_multi_label_accuracy: 0.2427 - val_binary_accuracy: 0.9299 - val_average_precision: 0.2519 - lr: 3.0000e-06\n",
            "\n",
            "Epoch 2: LearningRateScheduler setting learning rate to 6e-06.\n",
            "Epoch 2/20\n",
            "581/581 [==============================] - ETA: 0s - loss: 0.1783 - multi_label_accuracy: 0.2694 - binary_accuracy: 0.9334 - average_precision: 0.2874\n",
            "Epoch 2: val_multi_label_accuracy improved from 0.24270 to 0.28909, saving model to /content/drive/MyDrive/SentenceBert_fold2.h5\n",
            "581/581 [==============================] - 206s 354ms/step - loss: 0.1783 - multi_label_accuracy: 0.2694 - binary_accuracy: 0.9334 - average_precision: 0.2874 - val_loss: 0.1782 - val_multi_label_accuracy: 0.2891 - val_binary_accuracy: 0.9340 - val_average_precision: 0.3319 - lr: 6.0000e-06\n",
            "\n",
            "Epoch 3: LearningRateScheduler setting learning rate to 1.681792830507429e-05.\n",
            "Epoch 3/20\n",
            "581/581 [==============================] - ETA: 0s - loss: 0.1669 - multi_label_accuracy: 0.3395 - binary_accuracy: 0.9376 - average_precision: 0.3578\n",
            "Epoch 3: val_multi_label_accuracy improved from 0.28909 to 0.31873, saving model to /content/drive/MyDrive/SentenceBert_fold2.h5\n",
            "581/581 [==============================] - 208s 359ms/step - loss: 0.1669 - multi_label_accuracy: 0.3395 - binary_accuracy: 0.9376 - average_precision: 0.3578 - val_loss: 0.1767 - val_multi_label_accuracy: 0.3187 - val_binary_accuracy: 0.9329 - val_average_precision: 0.3821 - lr: 1.6818e-05\n",
            "\n",
            "Epoch 4: LearningRateScheduler setting learning rate to 1.5196713713031852e-05.\n",
            "Epoch 4/20\n",
            "581/581 [==============================] - ETA: 0s - loss: 0.1232 - multi_label_accuracy: 0.5159 - binary_accuracy: 0.9524 - average_precision: 0.5412\n",
            "Epoch 4: val_multi_label_accuracy improved from 0.31873 to 0.34837, saving model to /content/drive/MyDrive/SentenceBert_fold2.h5\n",
            "581/581 [==============================] - 196s 338ms/step - loss: 0.1232 - multi_label_accuracy: 0.5159 - binary_accuracy: 0.9524 - average_precision: 0.5412 - val_loss: 0.1867 - val_multi_label_accuracy: 0.3484 - val_binary_accuracy: 0.9300 - val_average_precision: 0.3879 - lr: 1.5197e-05\n",
            "\n",
            "Epoch 5: LearningRateScheduler setting learning rate to 1.4142135623730951e-05.\n",
            "Epoch 5/20\n",
            "581/581 [==============================] - ETA: 0s - loss: 0.0832 - multi_label_accuracy: 0.6459 - binary_accuracy: 0.9670 - average_precision: 0.7080\n",
            "Epoch 5: val_multi_label_accuracy improved from 0.34837 to 0.35997, saving model to /content/drive/MyDrive/SentenceBert_fold2.h5\n",
            "581/581 [==============================] - 206s 355ms/step - loss: 0.0832 - multi_label_accuracy: 0.6459 - binary_accuracy: 0.9670 - average_precision: 0.7080 - val_loss: 0.2176 - val_multi_label_accuracy: 0.3600 - val_binary_accuracy: 0.9268 - val_average_precision: 0.3701 - lr: 1.4142e-05\n",
            "\n",
            "Epoch 6: LearningRateScheduler setting learning rate to 1.3374806099528442e-05.\n",
            "Epoch 6/20\n",
            "581/581 [==============================] - ETA: 0s - loss: 0.0446 - multi_label_accuracy: 0.7539 - binary_accuracy: 0.9795 - average_precision: 0.8220\n",
            "Epoch 6: val_multi_label_accuracy improved from 0.35997 to 0.38746, saving model to /content/drive/MyDrive/SentenceBert_fold2.h5\n",
            "581/581 [==============================] - 206s 354ms/step - loss: 0.0446 - multi_label_accuracy: 0.7539 - binary_accuracy: 0.9795 - average_precision: 0.8220 - val_loss: 0.2598 - val_multi_label_accuracy: 0.3875 - val_binary_accuracy: 0.9266 - val_average_precision: 0.3746 - lr: 1.3375e-05\n",
            "\n",
            "Epoch 7: LearningRateScheduler setting learning rate to 1.2778862084925451e-05.\n",
            "Epoch 7/20\n",
            "581/581 [==============================] - ETA: 0s - loss: 0.0252 - multi_label_accuracy: 0.7892 - binary_accuracy: 0.9837 - average_precision: 0.8610\n",
            "Epoch 7: val_multi_label_accuracy did not improve from 0.38746\n",
            "581/581 [==============================] - 179s 307ms/step - loss: 0.0252 - multi_label_accuracy: 0.7892 - binary_accuracy: 0.9837 - average_precision: 0.8610 - val_loss: 0.2776 - val_multi_label_accuracy: 0.3836 - val_binary_accuracy: 0.9263 - val_average_precision: 0.3246 - lr: 1.2779e-05\n",
            "\n",
            "Epoch 8: LearningRateScheduler setting learning rate to 1.229576305902529e-05.\n",
            "Epoch 8/20\n",
            "581/581 [==============================] - ETA: 0s - loss: 0.0148 - multi_label_accuracy: 0.7999 - binary_accuracy: 0.9848 - average_precision: 0.8908\n",
            "Epoch 8: val_multi_label_accuracy did not improve from 0.38746\n",
            "581/581 [==============================] - 179s 307ms/step - loss: 0.0148 - multi_label_accuracy: 0.7999 - binary_accuracy: 0.9848 - average_precision: 0.8908 - val_loss: 0.2937 - val_multi_label_accuracy: 0.3797 - val_binary_accuracy: 0.9256 - val_average_precision: 0.3157 - lr: 1.2296e-05\n",
            "\n",
            "Epoch 9: LearningRateScheduler setting learning rate to 1.1892071150027212e-05.\n",
            "Epoch 9/20\n",
            "581/581 [==============================] - ETA: 0s - loss: 0.0091 - multi_label_accuracy: 0.8016 - binary_accuracy: 0.9853 - average_precision: 0.9008Restoring model weights from the end of the best epoch: 6.\n",
            "\n",
            "Epoch 9: val_multi_label_accuracy did not improve from 0.38746\n",
            "581/581 [==============================] - 179s 308ms/step - loss: 0.0091 - multi_label_accuracy: 0.8016 - binary_accuracy: 0.9853 - average_precision: 0.9008 - val_loss: 0.3170 - val_multi_label_accuracy: 0.3845 - val_binary_accuracy: 0.9269 - val_average_precision: 0.3407 - lr: 1.1892e-05\n",
            "Epoch 9: early stopping\n",
            "Backend Cleared\n"
          ]
        }
      ]
    },
    {
      "cell_type": "markdown",
      "source": [
        "**Fold 3**"
      ],
      "metadata": {
        "id": "_mEbgTM9mUd3"
      }
    },
    {
      "cell_type": "code",
      "source": [
        "#histories = []\n",
        "#scores = []\n",
        "\n",
        "for fold in range(3,4):\n",
        "    print(f\"====== FOLD RUNNING {fold}======\")\n",
        "    \n",
        "    X_train = train_df.loc[train_df['fold'] != fold]['text']\n",
        "    y_train = train_df.loc[train_df['fold'] != fold]['label']\n",
        "    \n",
        "    X_test = train_df.loc[train_df['fold'] == fold]['text']\n",
        "    y_test = train_df.loc[train_df['fold'] == fold]['label']\n",
        "    \n",
        "    train_df_loop = pd.concat([X_train, y_train], axis=1)\n",
        "    test_df_loop = pd.concat([X_test, y_test], axis=1)\n",
        "\n",
        "    print(\"Tokenizing, generating datasets\")\n",
        "\n",
        "    #get datasets\n",
        "    train_dataset = make_dataset(train_df_loop, is_train=True)\n",
        "    validation_dataset = make_dataset(test_df_loop, is_train=False)\n",
        "\n",
        "    print(\"Model Creation\")\n",
        "    model = build_model()\n",
        "    model.compile(\n",
        "            optimizer = tf.keras.optimizers.Adam(learning_rate = learning_rate),\n",
        "            loss = \"binary_crossentropy\",\n",
        "            metrics = [\n",
        "              multi_label_accuracy,\n",
        "              \"binary_accuracy\", \n",
        "              AUC(name=\"average_precision\", curve=\"PR\", multi_label=True)\n",
        "              ]\n",
        "        )\n",
        "\n",
        "    callback_es = tf.keras.callbacks.EarlyStopping(monitor=\"val_multi_label_accuracy\",#'val_categorical_accuracy', \n",
        "                                               patience=3,\n",
        "                                               mode='max', \n",
        "                                               verbose=1,\n",
        "                                               restore_best_weights=True)\n",
        "\n",
        "    callback_lr = tf.keras.callbacks.LearningRateScheduler(scheduler, verbose = 1)\n",
        "\n",
        "    callback_save = tf.keras.callbacks.ModelCheckpoint(\n",
        "        #valentin's path\n",
        "            f'/content/drive/MyDrive/SentenceBert_fold{fold}.h5', monitor='val_multi_label_accuracy',\n",
        "            #'/content/drive/Othercomputers/Mi portátil/Master/GitHub/twsm-group-project/keras_model/RogerSentenceBert2.h5', monitor='val_multi_label_accuracy',\n",
        "            #\"/content/drive/MyDrive/Output models Bert/RogerSentenceBert2.h5\", monitor='val_multi_label_accuracy',\n",
        "            verbose=1, save_best_only=True,\n",
        "            save_weights_only=True, mode='max', \n",
        "            save_freq='epoch')\n",
        "\n",
        "    hist = model.fit(train_dataset, \n",
        "                epochs = epochs,\n",
        "                shuffle=True,\n",
        "                callbacks = [callback_lr,\n",
        "                              callback_es,\n",
        "                              callback_save,\n",
        "                            ],\n",
        "                batch_size = batch_size,\n",
        "                validation_data = validation_dataset\n",
        "              )\n",
        "    \n",
        "    del model, hist \n",
        "    \n",
        "    #Clearing backend session\n",
        "    K.clear_session()\n",
        "    print(\"Backend Cleared\")"
      ],
      "metadata": {
        "colab": {
          "base_uri": "https://localhost:8080/"
        },
        "id": "3LbYI5P_mVXA",
        "outputId": "b3965218-df8d-4019-b412-cffa561467cd"
      },
      "execution_count": null,
      "outputs": [
        {
          "output_type": "stream",
          "name": "stdout",
          "text": [
            "====== FOLD RUNNING 3======\n",
            "Tokenizing, generating datasets\n",
            "Model Creation\n"
          ]
        },
        {
          "output_type": "stream",
          "name": "stderr",
          "text": [
            "Some layers from the model checkpoint at bert-large-uncased were not used when initializing TFBertModel: ['mlm___cls', 'nsp___cls']\n",
            "- This IS expected if you are initializing TFBertModel from the checkpoint of a model trained on another task or with another architecture (e.g. initializing a BertForSequenceClassification model from a BertForPreTraining model).\n",
            "- This IS NOT expected if you are initializing TFBertModel from the checkpoint of a model that you expect to be exactly identical (initializing a BertForSequenceClassification model from a BertForSequenceClassification model).\n",
            "All the layers of TFBertModel were initialized from the model checkpoint at bert-large-uncased.\n",
            "If your task is similar to the task the model of the checkpoint was trained on, you can already use TFBertModel for predictions without further training.\n"
          ]
        },
        {
          "output_type": "stream",
          "name": "stdout",
          "text": [
            "\n",
            "Epoch 1: LearningRateScheduler setting learning rate to 3e-06.\n",
            "Epoch 1/20\n",
            "WARNING:tensorflow:Gradients do not exist for variables ['tf_bert_model/bert/pooler/dense/kernel:0', 'tf_bert_model/bert/pooler/dense/bias:0'] when minimizing the loss. If you're using `model.compile()`, did you forget to provide a `loss`argument?\n",
            "WARNING:tensorflow:Gradients do not exist for variables ['tf_bert_model/bert/pooler/dense/kernel:0', 'tf_bert_model/bert/pooler/dense/bias:0'] when minimizing the loss. If you're using `model.compile()`, did you forget to provide a `loss`argument?\n",
            "582/582 [==============================] - ETA: 0s - loss: 0.2292 - multi_label_accuracy: 0.0906 - binary_accuracy: 0.9259 - average_precision: 0.1424\n",
            "Epoch 1: val_multi_label_accuracy improved from -inf to 0.20232, saving model to /content/drive/MyDrive/SentenceBert_fold3.h5\n",
            "582/582 [==============================] - 262s 393ms/step - loss: 0.2292 - multi_label_accuracy: 0.0906 - binary_accuracy: 0.9259 - average_precision: 0.1424 - val_loss: 0.1914 - val_multi_label_accuracy: 0.2023 - val_binary_accuracy: 0.9301 - val_average_precision: 0.2229 - lr: 3.0000e-06\n",
            "\n",
            "Epoch 2: LearningRateScheduler setting learning rate to 6e-06.\n",
            "Epoch 2/20\n",
            "582/582 [==============================] - ETA: 0s - loss: 0.1818 - multi_label_accuracy: 0.2642 - binary_accuracy: 0.9325 - average_precision: 0.2646\n",
            "Epoch 2: val_multi_label_accuracy improved from 0.20232 to 0.26160, saving model to /content/drive/MyDrive/SentenceBert_fold3.h5\n",
            "582/582 [==============================] - 201s 346ms/step - loss: 0.1818 - multi_label_accuracy: 0.2642 - binary_accuracy: 0.9325 - average_precision: 0.2646 - val_loss: 0.1794 - val_multi_label_accuracy: 0.2616 - val_binary_accuracy: 0.9329 - val_average_precision: 0.3031 - lr: 6.0000e-06\n",
            "\n",
            "Epoch 3: LearningRateScheduler setting learning rate to 1.681792830507429e-05.\n",
            "Epoch 3/20\n",
            "582/582 [==============================] - ETA: 0s - loss: 0.1671 - multi_label_accuracy: 0.3269 - binary_accuracy: 0.9363 - average_precision: 0.3559\n",
            "Epoch 3: val_multi_label_accuracy improved from 0.26160 to 0.30026, saving model to /content/drive/MyDrive/SentenceBert_fold3.h5\n",
            "582/582 [==============================] - 217s 372ms/step - loss: 0.1671 - multi_label_accuracy: 0.3269 - binary_accuracy: 0.9363 - average_precision: 0.3559 - val_loss: 0.1805 - val_multi_label_accuracy: 0.3003 - val_binary_accuracy: 0.9291 - val_average_precision: 0.3331 - lr: 1.6818e-05\n",
            "\n",
            "Epoch 4: LearningRateScheduler setting learning rate to 1.5196713713031852e-05.\n",
            "Epoch 4/20\n",
            "582/582 [==============================] - ETA: 0s - loss: 0.1242 - multi_label_accuracy: 0.5034 - binary_accuracy: 0.9518 - average_precision: 0.5540\n",
            "Epoch 4: val_multi_label_accuracy improved from 0.30026 to 0.34923, saving model to /content/drive/MyDrive/SentenceBert_fold3.h5\n",
            "582/582 [==============================] - 209s 358ms/step - loss: 0.1242 - multi_label_accuracy: 0.5034 - binary_accuracy: 0.9518 - average_precision: 0.5540 - val_loss: 0.1839 - val_multi_label_accuracy: 0.3492 - val_binary_accuracy: 0.9314 - val_average_precision: 0.3382 - lr: 1.5197e-05\n",
            "\n",
            "Epoch 5: LearningRateScheduler setting learning rate to 1.4142135623730951e-05.\n",
            "Epoch 5/20\n",
            "582/582 [==============================] - ETA: 0s - loss: 0.0810 - multi_label_accuracy: 0.6559 - binary_accuracy: 0.9688 - average_precision: 0.7282\n",
            "Epoch 5: val_multi_label_accuracy improved from 0.34923 to 0.37242, saving model to /content/drive/MyDrive/SentenceBert_fold3.h5\n",
            "582/582 [==============================] - 200s 343ms/step - loss: 0.0810 - multi_label_accuracy: 0.6559 - binary_accuracy: 0.9688 - average_precision: 0.7282 - val_loss: 0.1999 - val_multi_label_accuracy: 0.3724 - val_binary_accuracy: 0.9275 - val_average_precision: 0.3478 - lr: 1.4142e-05\n",
            "\n",
            "Epoch 6: LearningRateScheduler setting learning rate to 1.3374806099528442e-05.\n",
            "Epoch 6/20\n",
            "582/582 [==============================] - ETA: 0s - loss: 0.0451 - multi_label_accuracy: 0.7496 - binary_accuracy: 0.9792 - average_precision: 0.8159\n",
            "Epoch 6: val_multi_label_accuracy improved from 0.37242 to 0.37758, saving model to /content/drive/MyDrive/SentenceBert_fold3.h5\n",
            "582/582 [==============================] - 208s 357ms/step - loss: 0.0451 - multi_label_accuracy: 0.7496 - binary_accuracy: 0.9792 - average_precision: 0.8159 - val_loss: 0.2423 - val_multi_label_accuracy: 0.3776 - val_binary_accuracy: 0.9271 - val_average_precision: 0.3281 - lr: 1.3375e-05\n",
            "\n",
            "Epoch 7: LearningRateScheduler setting learning rate to 1.2778862084925451e-05.\n",
            "Epoch 7/20\n",
            "582/582 [==============================] - ETA: 0s - loss: 0.0279 - multi_label_accuracy: 0.7779 - binary_accuracy: 0.9830 - average_precision: 0.8461\n",
            "Epoch 7: val_multi_label_accuracy did not improve from 0.37758\n",
            "582/582 [==============================] - 182s 313ms/step - loss: 0.0279 - multi_label_accuracy: 0.7779 - binary_accuracy: 0.9830 - average_precision: 0.8461 - val_loss: 0.2622 - val_multi_label_accuracy: 0.3698 - val_binary_accuracy: 0.9255 - val_average_precision: 0.3094 - lr: 1.2779e-05\n",
            "\n",
            "Epoch 8: LearningRateScheduler setting learning rate to 1.229576305902529e-05.\n",
            "Epoch 8/20\n",
            "582/582 [==============================] - ETA: 0s - loss: 0.0155 - multi_label_accuracy: 0.7938 - binary_accuracy: 0.9845 - average_precision: 0.8707\n",
            "Epoch 8: val_multi_label_accuracy improved from 0.37758 to 0.39304, saving model to /content/drive/MyDrive/SentenceBert_fold3.h5\n",
            "582/582 [==============================] - 205s 353ms/step - loss: 0.0155 - multi_label_accuracy: 0.7938 - binary_accuracy: 0.9845 - average_precision: 0.8707 - val_loss: 0.3091 - val_multi_label_accuracy: 0.3930 - val_binary_accuracy: 0.9279 - val_average_precision: 0.2935 - lr: 1.2296e-05\n",
            "\n",
            "Epoch 9: LearningRateScheduler setting learning rate to 1.1892071150027212e-05.\n",
            "Epoch 9/20\n",
            "582/582 [==============================] - ETA: 0s - loss: 0.0115 - multi_label_accuracy: 0.7938 - binary_accuracy: 0.9846 - average_precision: 0.8770\n",
            "Epoch 9: val_multi_label_accuracy improved from 0.39304 to 0.39433, saving model to /content/drive/MyDrive/SentenceBert_fold3.h5\n",
            "582/582 [==============================] - 232s 399ms/step - loss: 0.0115 - multi_label_accuracy: 0.7938 - binary_accuracy: 0.9846 - average_precision: 0.8770 - val_loss: 0.3047 - val_multi_label_accuracy: 0.3943 - val_binary_accuracy: 0.9275 - val_average_precision: 0.3089 - lr: 1.1892e-05\n",
            "\n",
            "Epoch 10: LearningRateScheduler setting learning rate to 1.1547005383792517e-05.\n",
            "Epoch 10/20\n",
            "582/582 [==============================] - ETA: 0s - loss: 0.0088 - multi_label_accuracy: 0.7955 - binary_accuracy: 0.9849 - average_precision: 0.8853\n",
            "Epoch 10: val_multi_label_accuracy did not improve from 0.39433\n",
            "582/582 [==============================] - 182s 312ms/step - loss: 0.0088 - multi_label_accuracy: 0.7955 - binary_accuracy: 0.9849 - average_precision: 0.8853 - val_loss: 0.3293 - val_multi_label_accuracy: 0.3814 - val_binary_accuracy: 0.9270 - val_average_precision: 0.2971 - lr: 1.1547e-05\n",
            "\n",
            "Epoch 11: LearningRateScheduler setting learning rate to 1.1246826503806982e-05.\n",
            "Epoch 11/20\n",
            "582/582 [==============================] - ETA: 0s - loss: 0.0078 - multi_label_accuracy: 0.7960 - binary_accuracy: 0.9850 - average_precision: 0.8793\n",
            "Epoch 11: val_multi_label_accuracy improved from 0.39433 to 0.39948, saving model to /content/drive/MyDrive/SentenceBert_fold3.h5\n",
            "582/582 [==============================] - 199s 341ms/step - loss: 0.0078 - multi_label_accuracy: 0.7960 - binary_accuracy: 0.9850 - average_precision: 0.8793 - val_loss: 0.3454 - val_multi_label_accuracy: 0.3995 - val_binary_accuracy: 0.9272 - val_average_precision: 0.2964 - lr: 1.1247e-05\n",
            "\n",
            "Epoch 12: LearningRateScheduler setting learning rate to 1.098200973552225e-05.\n",
            "Epoch 12/20\n",
            "582/582 [==============================] - ETA: 0s - loss: 0.0055 - multi_label_accuracy: 0.7977 - binary_accuracy: 0.9852 - average_precision: 0.8852\n",
            "Epoch 12: val_multi_label_accuracy did not improve from 0.39948\n",
            "582/582 [==============================] - 183s 315ms/step - loss: 0.0055 - multi_label_accuracy: 0.7977 - binary_accuracy: 0.9852 - average_precision: 0.8852 - val_loss: 0.3543 - val_multi_label_accuracy: 0.3943 - val_binary_accuracy: 0.9275 - val_average_precision: 0.2914 - lr: 1.0982e-05\n",
            "\n",
            "Epoch 13: LearningRateScheduler setting learning rate to 1.074569931823542e-05.\n",
            "Epoch 13/20\n",
            "582/582 [==============================] - ETA: 0s - loss: 0.0045 - multi_label_accuracy: 0.7955 - binary_accuracy: 0.9850 - average_precision: 0.8775\n",
            "Epoch 13: val_multi_label_accuracy improved from 0.39948 to 0.41108, saving model to /content/drive/MyDrive/SentenceBert_fold3.h5\n",
            "582/582 [==============================] - 204s 350ms/step - loss: 0.0045 - multi_label_accuracy: 0.7955 - binary_accuracy: 0.9850 - average_precision: 0.8775 - val_loss: 0.3546 - val_multi_label_accuracy: 0.4111 - val_binary_accuracy: 0.9291 - val_average_precision: 0.2894 - lr: 1.0746e-05\n",
            "\n",
            "Epoch 14: LearningRateScheduler setting learning rate to 1.0532807756958533e-05.\n",
            "Epoch 14/20\n",
            "582/582 [==============================] - ETA: 0s - loss: 0.0036 - multi_label_accuracy: 0.7968 - binary_accuracy: 0.9850 - average_precision: 0.8888\n",
            "Epoch 14: val_multi_label_accuracy did not improve from 0.41108\n",
            "582/582 [==============================] - 183s 315ms/step - loss: 0.0036 - multi_label_accuracy: 0.7968 - binary_accuracy: 0.9850 - average_precision: 0.8888 - val_loss: 0.3686 - val_multi_label_accuracy: 0.3969 - val_binary_accuracy: 0.9275 - val_average_precision: 0.2897 - lr: 1.0533e-05\n",
            "\n",
            "Epoch 15: LearningRateScheduler setting learning rate to 1.0339463079143411e-05.\n",
            "Epoch 15/20\n",
            "582/582 [==============================] - ETA: 0s - loss: 0.0023 - multi_label_accuracy: 0.7977 - binary_accuracy: 0.9851 - average_precision: 0.8928\n",
            "Epoch 15: val_multi_label_accuracy did not improve from 0.41108\n",
            "582/582 [==============================] - 180s 310ms/step - loss: 0.0023 - multi_label_accuracy: 0.7977 - binary_accuracy: 0.9851 - average_precision: 0.8928 - val_loss: 0.3648 - val_multi_label_accuracy: 0.3956 - val_binary_accuracy: 0.9273 - val_average_precision: 0.2842 - lr: 1.0339e-05\n",
            "\n",
            "Epoch 16: LearningRateScheduler setting learning rate to 1.0162654963092296e-05.\n",
            "Epoch 16/20\n",
            "582/582 [==============================] - ETA: 0s - loss: 0.0048 - multi_label_accuracy: 0.7951 - binary_accuracy: 0.9851 - average_precision: 0.8908Restoring model weights from the end of the best epoch: 13.\n",
            "\n",
            "Epoch 16: val_multi_label_accuracy did not improve from 0.41108\n",
            "582/582 [==============================] - 181s 311ms/step - loss: 0.0048 - multi_label_accuracy: 0.7951 - binary_accuracy: 0.9851 - average_precision: 0.8908 - val_loss: 0.3784 - val_multi_label_accuracy: 0.3918 - val_binary_accuracy: 0.9262 - val_average_precision: 0.2874 - lr: 1.0163e-05\n",
            "Epoch 16: early stopping\n",
            "Backend Cleared\n"
          ]
        }
      ]
    },
    {
      "cell_type": "markdown",
      "source": [
        "## **Validation Dataset - Accuracy Mean of Folds**"
      ],
      "metadata": {
        "id": "4CSJ0fzYdrIM"
      }
    },
    {
      "cell_type": "code",
      "source": [
        "scores_val = []\n",
        "\n",
        "for fold in range(4):\n",
        "    print(f\"====== EVAL MODELS {fold}======\")\n",
        "    \n",
        "    X_test = train_df.loc[train_df['fold'] == fold]['text']\n",
        "    y_test = train_df.loc[train_df['fold'] == fold]['label']\n",
        "\n",
        "    test_df_loop = pd.concat([X_test, y_test], axis=1)\n",
        "\n",
        "    print(\"Tokenizing, generating dataset\")\n",
        "\n",
        "    #get datasets\n",
        "    validation_dataset = make_dataset(test_df_loop, is_train=False)\n",
        "\n",
        "    print(\"Model Import\")\n",
        "    model = build_model()\n",
        "    model.compile(\n",
        "            optimizer = tf.keras.optimizers.Adam(learning_rate = learning_rate),\n",
        "            loss = \"binary_crossentropy\",\n",
        "            metrics = [\n",
        "              multi_label_accuracy,\n",
        "              \"binary_accuracy\", \n",
        "              AUC(name=\"average_precision\", curve=\"PR\", multi_label=True)\n",
        "              ]\n",
        "        )\n",
        "    \n",
        "    model.load_weights(f'/content/drive/MyDrive/SentenceBert_fold{fold}.h5')\n",
        "    \n",
        "    # prediction on val\n",
        "    print(\"prediction on validation data\")\n",
        "    test_labels = get_labels_out(validation_dataset)\n",
        "    preds = model.predict(validation_dataset)\n",
        "    score = multi_label_accuracy(test_labels, preds)\n",
        "    scores_val.append(score)\n",
        "    \n",
        "    del model\n",
        "\n",
        "    #Clearing backend session\n",
        "    K.clear_session()\n",
        "    print(\"Backend Cleared\")\n",
        "\n",
        "print(\"\\n\\n\\n the final average multilabel accuracy for validation dataset is \", np.mean(scores_val))"
      ],
      "metadata": {
        "colab": {
          "base_uri": "https://localhost:8080/"
        },
        "id": "2gjazSrfU3hw",
        "outputId": "e298c038-6b99-4549-bb12-568cc78d44bf"
      },
      "execution_count": null,
      "outputs": [
        {
          "output_type": "stream",
          "name": "stdout",
          "text": [
            "====== EVAL MODELS 0======\n",
            "Tokenizing, generating dataset\n",
            "Model Import\n"
          ]
        },
        {
          "output_type": "stream",
          "name": "stderr",
          "text": [
            "Some layers from the model checkpoint at bert-large-uncased were not used when initializing TFBertModel: ['mlm___cls', 'nsp___cls']\n",
            "- This IS expected if you are initializing TFBertModel from the checkpoint of a model trained on another task or with another architecture (e.g. initializing a BertForSequenceClassification model from a BertForPreTraining model).\n",
            "- This IS NOT expected if you are initializing TFBertModel from the checkpoint of a model that you expect to be exactly identical (initializing a BertForSequenceClassification model from a BertForSequenceClassification model).\n",
            "All the layers of TFBertModel were initialized from the model checkpoint at bert-large-uncased.\n",
            "If your task is similar to the task the model of the checkpoint was trained on, you can already use TFBertModel for predictions without further training.\n"
          ]
        },
        {
          "output_type": "stream",
          "name": "stdout",
          "text": [
            "prediction on validation data\n",
            "Backend Cleared\n",
            "====== EVAL MODELS 1======\n",
            "Tokenizing, generating dataset\n",
            "Model Import\n"
          ]
        },
        {
          "output_type": "stream",
          "name": "stderr",
          "text": [
            "Some layers from the model checkpoint at bert-large-uncased were not used when initializing TFBertModel: ['mlm___cls', 'nsp___cls']\n",
            "- This IS expected if you are initializing TFBertModel from the checkpoint of a model trained on another task or with another architecture (e.g. initializing a BertForSequenceClassification model from a BertForPreTraining model).\n",
            "- This IS NOT expected if you are initializing TFBertModel from the checkpoint of a model that you expect to be exactly identical (initializing a BertForSequenceClassification model from a BertForSequenceClassification model).\n",
            "All the layers of TFBertModel were initialized from the model checkpoint at bert-large-uncased.\n",
            "If your task is similar to the task the model of the checkpoint was trained on, you can already use TFBertModel for predictions without further training.\n"
          ]
        },
        {
          "output_type": "stream",
          "name": "stdout",
          "text": [
            "prediction on validation data\n",
            "Backend Cleared\n",
            "====== EVAL MODELS 2======\n",
            "Tokenizing, generating dataset\n",
            "Model Import\n"
          ]
        },
        {
          "output_type": "stream",
          "name": "stderr",
          "text": [
            "Some layers from the model checkpoint at bert-large-uncased were not used when initializing TFBertModel: ['mlm___cls', 'nsp___cls']\n",
            "- This IS expected if you are initializing TFBertModel from the checkpoint of a model trained on another task or with another architecture (e.g. initializing a BertForSequenceClassification model from a BertForPreTraining model).\n",
            "- This IS NOT expected if you are initializing TFBertModel from the checkpoint of a model that you expect to be exactly identical (initializing a BertForSequenceClassification model from a BertForSequenceClassification model).\n",
            "All the layers of TFBertModel were initialized from the model checkpoint at bert-large-uncased.\n",
            "If your task is similar to the task the model of the checkpoint was trained on, you can already use TFBertModel for predictions without further training.\n"
          ]
        },
        {
          "output_type": "stream",
          "name": "stdout",
          "text": [
            "prediction on validation data\n",
            "Backend Cleared\n",
            "====== EVAL MODELS 3======\n",
            "Tokenizing, generating dataset\n",
            "Model Import\n"
          ]
        },
        {
          "output_type": "stream",
          "name": "stderr",
          "text": [
            "Some layers from the model checkpoint at bert-large-uncased were not used when initializing TFBertModel: ['mlm___cls', 'nsp___cls']\n",
            "- This IS expected if you are initializing TFBertModel from the checkpoint of a model trained on another task or with another architecture (e.g. initializing a BertForSequenceClassification model from a BertForPreTraining model).\n",
            "- This IS NOT expected if you are initializing TFBertModel from the checkpoint of a model that you expect to be exactly identical (initializing a BertForSequenceClassification model from a BertForSequenceClassification model).\n",
            "All the layers of TFBertModel were initialized from the model checkpoint at bert-large-uncased.\n",
            "If your task is similar to the task the model of the checkpoint was trained on, you can already use TFBertModel for predictions without further training.\n"
          ]
        },
        {
          "output_type": "stream",
          "name": "stdout",
          "text": [
            "prediction on validation data\n",
            "Backend Cleared\n",
            "\n",
            "\n",
            "\n",
            " the final average multilabel accuracy for validation dataset is  0.40303576\n"
          ]
        }
      ]
    },
    {
      "cell_type": "markdown",
      "source": [
        "## **Test prediction with the 4 K Fold Models**"
      ],
      "metadata": {
        "id": "by7ageqFfQP0"
      }
    },
    {
      "cell_type": "code",
      "source": [
        "scores_test = []\n",
        "pred_test = []\n",
        "\n",
        "for fold in range(4):\n",
        "    print(f\"====== PRED MODELS {fold}======\")\n",
        "\n",
        "    print(\"Model Import\")\n",
        "    model = build_model()\n",
        "    model.compile(\n",
        "            optimizer = tf.keras.optimizers.Adam(learning_rate = learning_rate),\n",
        "            loss = \"binary_crossentropy\",\n",
        "            metrics = [\n",
        "              multi_label_accuracy,\n",
        "              \"binary_accuracy\", \n",
        "              AUC(name=\"average_precision\", curve=\"PR\", multi_label=True)\n",
        "              ]\n",
        "        )\n",
        "    \n",
        "    model.load_weights(f'/content/drive/MyDrive/SentenceBert_fold{fold}.h5')\n",
        "    \n",
        "    \n",
        "    # prediction on test\n",
        "    print(\"prediction on test data\")\n",
        "    test_labels = get_labels_out(test_dataset)\n",
        "    preds = model.predict(test_dataset)\n",
        "    # store preds\n",
        "    pred_test.append(preds)\n",
        "    scores = multi_label_accuracy(test_labels, preds)\n",
        "    scores_test.append(scores)\n",
        "\n",
        "    \n",
        "    \n",
        "    del model\n",
        "\n",
        "\n",
        "    #Clearing backend session\n",
        "    K.clear_session()\n",
        "    print(\"Backend Cleared\")\n",
        "\n",
        "preds_avg = np.mean(np.array(pred_test),axis=0)\n",
        "preds_avg[preds_avg >= 0.5] = 1\n",
        "preds_avg[preds_avg < 0.5] = 0\n",
        "preds_tf = tf.convert_to_tensor(preds_avg, dtype=tf.float32)\n",
        "labels_tf = tf.ragged.constant(test_df[\"label\"].values)\n",
        "label_binarized = lookup(labels_tf)\n",
        "multi_label_accuracy(label_binarized, preds_tf).numpy()\n",
        "\n",
        "print(\"the final average multilabel accuracy for test dataset is \", np.mean(scores_test))\n",
        "print(\"the final ensembled multilabel accuracy for test dataset is \", multi_label_accuracy(label_binarized, preds_tf).numpy())"
      ],
      "metadata": {
        "colab": {
          "base_uri": "https://localhost:8080/"
        },
        "id": "QEVBtgrEfgC3",
        "outputId": "4251c2c1-08b3-4d7d-85c4-f2a05d951a73"
      },
      "execution_count": null,
      "outputs": [
        {
          "output_type": "stream",
          "name": "stdout",
          "text": [
            "====== PRED MODELS 0======\n",
            "Model Import\n"
          ]
        },
        {
          "output_type": "stream",
          "name": "stderr",
          "text": [
            "Some layers from the model checkpoint at bert-large-uncased were not used when initializing TFBertModel: ['nsp___cls', 'mlm___cls']\n",
            "- This IS expected if you are initializing TFBertModel from the checkpoint of a model trained on another task or with another architecture (e.g. initializing a BertForSequenceClassification model from a BertForPreTraining model).\n",
            "- This IS NOT expected if you are initializing TFBertModel from the checkpoint of a model that you expect to be exactly identical (initializing a BertForSequenceClassification model from a BertForSequenceClassification model).\n",
            "All the layers of TFBertModel were initialized from the model checkpoint at bert-large-uncased.\n",
            "If your task is similar to the task the model of the checkpoint was trained on, you can already use TFBertModel for predictions without further training.\n"
          ]
        },
        {
          "output_type": "stream",
          "name": "stdout",
          "text": [
            "prediction on test data\n",
            "Backend Cleared\n",
            "====== PRED MODELS 1======\n",
            "Model Import\n"
          ]
        },
        {
          "output_type": "stream",
          "name": "stderr",
          "text": [
            "Some layers from the model checkpoint at bert-large-uncased were not used when initializing TFBertModel: ['nsp___cls', 'mlm___cls']\n",
            "- This IS expected if you are initializing TFBertModel from the checkpoint of a model trained on another task or with another architecture (e.g. initializing a BertForSequenceClassification model from a BertForPreTraining model).\n",
            "- This IS NOT expected if you are initializing TFBertModel from the checkpoint of a model that you expect to be exactly identical (initializing a BertForSequenceClassification model from a BertForSequenceClassification model).\n",
            "All the layers of TFBertModel were initialized from the model checkpoint at bert-large-uncased.\n",
            "If your task is similar to the task the model of the checkpoint was trained on, you can already use TFBertModel for predictions without further training.\n"
          ]
        },
        {
          "output_type": "stream",
          "name": "stdout",
          "text": [
            "prediction on test data\n",
            "Backend Cleared\n",
            "====== PRED MODELS 2======\n",
            "Model Import\n"
          ]
        },
        {
          "output_type": "stream",
          "name": "stderr",
          "text": [
            "Some layers from the model checkpoint at bert-large-uncased were not used when initializing TFBertModel: ['nsp___cls', 'mlm___cls']\n",
            "- This IS expected if you are initializing TFBertModel from the checkpoint of a model trained on another task or with another architecture (e.g. initializing a BertForSequenceClassification model from a BertForPreTraining model).\n",
            "- This IS NOT expected if you are initializing TFBertModel from the checkpoint of a model that you expect to be exactly identical (initializing a BertForSequenceClassification model from a BertForSequenceClassification model).\n",
            "All the layers of TFBertModel were initialized from the model checkpoint at bert-large-uncased.\n",
            "If your task is similar to the task the model of the checkpoint was trained on, you can already use TFBertModel for predictions without further training.\n"
          ]
        },
        {
          "output_type": "stream",
          "name": "stdout",
          "text": [
            "prediction on test data\n",
            "Backend Cleared\n",
            "====== PRED MODELS 3======\n",
            "Model Import\n"
          ]
        },
        {
          "output_type": "stream",
          "name": "stderr",
          "text": [
            "Some layers from the model checkpoint at bert-large-uncased were not used when initializing TFBertModel: ['nsp___cls', 'mlm___cls']\n",
            "- This IS expected if you are initializing TFBertModel from the checkpoint of a model trained on another task or with another architecture (e.g. initializing a BertForSequenceClassification model from a BertForPreTraining model).\n",
            "- This IS NOT expected if you are initializing TFBertModel from the checkpoint of a model that you expect to be exactly identical (initializing a BertForSequenceClassification model from a BertForSequenceClassification model).\n",
            "All the layers of TFBertModel were initialized from the model checkpoint at bert-large-uncased.\n",
            "If your task is similar to the task the model of the checkpoint was trained on, you can already use TFBertModel for predictions without further training.\n"
          ]
        },
        {
          "output_type": "stream",
          "name": "stdout",
          "text": [
            "prediction on test data\n",
            "Backend Cleared\n",
            "the final average multilabel accuracy for test dataset is  0.36666667\n",
            "the final ensembled multilabel accuracy for test dataset is  0.3768116\n"
          ]
        }
      ]
    },
    {
      "cell_type": "markdown",
      "source": [
        "# **Predicting the labeling of an example sentence**"
      ],
      "metadata": {
        "id": "uHRglr2r-IJh"
      }
    },
    {
      "cell_type": "code",
      "execution_count": 95,
      "metadata": {
        "id": "6-SU92wJROl7",
        "colab": {
          "base_uri": "https://localhost:8080/"
        },
        "outputId": "6498c37f-ded3-4a6a-83b2-6b08d12d1c62"
      },
      "outputs": [
        {
          "output_type": "stream",
          "name": "stdout",
          "text": [
            "====== PRED MODELS 0======\n",
            "Model Import\n"
          ]
        },
        {
          "output_type": "stream",
          "name": "stderr",
          "text": [
            "Some layers from the model checkpoint at bert-large-uncased were not used when initializing TFBertModel: ['nsp___cls', 'mlm___cls']\n",
            "- This IS expected if you are initializing TFBertModel from the checkpoint of a model trained on another task or with another architecture (e.g. initializing a BertForSequenceClassification model from a BertForPreTraining model).\n",
            "- This IS NOT expected if you are initializing TFBertModel from the checkpoint of a model that you expect to be exactly identical (initializing a BertForSequenceClassification model from a BertForSequenceClassification model).\n",
            "All the layers of TFBertModel were initialized from the model checkpoint at bert-large-uncased.\n",
            "If your task is similar to the task the model of the checkpoint was trained on, you can already use TFBertModel for predictions without further training.\n"
          ]
        },
        {
          "output_type": "stream",
          "name": "stdout",
          "text": [
            "prediction on example sentence\n",
            "Backend Cleared\n",
            "====== PRED MODELS 1======\n",
            "Model Import\n"
          ]
        },
        {
          "output_type": "stream",
          "name": "stderr",
          "text": [
            "Some layers from the model checkpoint at bert-large-uncased were not used when initializing TFBertModel: ['nsp___cls', 'mlm___cls']\n",
            "- This IS expected if you are initializing TFBertModel from the checkpoint of a model trained on another task or with another architecture (e.g. initializing a BertForSequenceClassification model from a BertForPreTraining model).\n",
            "- This IS NOT expected if you are initializing TFBertModel from the checkpoint of a model that you expect to be exactly identical (initializing a BertForSequenceClassification model from a BertForSequenceClassification model).\n",
            "All the layers of TFBertModel were initialized from the model checkpoint at bert-large-uncased.\n",
            "If your task is similar to the task the model of the checkpoint was trained on, you can already use TFBertModel for predictions without further training.\n"
          ]
        },
        {
          "output_type": "stream",
          "name": "stdout",
          "text": [
            "prediction on example sentence\n",
            "Backend Cleared\n",
            "====== PRED MODELS 2======\n",
            "Model Import\n"
          ]
        },
        {
          "output_type": "stream",
          "name": "stderr",
          "text": [
            "Some layers from the model checkpoint at bert-large-uncased were not used when initializing TFBertModel: ['nsp___cls', 'mlm___cls']\n",
            "- This IS expected if you are initializing TFBertModel from the checkpoint of a model trained on another task or with another architecture (e.g. initializing a BertForSequenceClassification model from a BertForPreTraining model).\n",
            "- This IS NOT expected if you are initializing TFBertModel from the checkpoint of a model that you expect to be exactly identical (initializing a BertForSequenceClassification model from a BertForSequenceClassification model).\n",
            "All the layers of TFBertModel were initialized from the model checkpoint at bert-large-uncased.\n",
            "If your task is similar to the task the model of the checkpoint was trained on, you can already use TFBertModel for predictions without further training.\n"
          ]
        },
        {
          "output_type": "stream",
          "name": "stdout",
          "text": [
            "prediction on example sentence\n",
            "Backend Cleared\n",
            "====== PRED MODELS 3======\n",
            "Model Import\n"
          ]
        },
        {
          "output_type": "stream",
          "name": "stderr",
          "text": [
            "Some layers from the model checkpoint at bert-large-uncased were not used when initializing TFBertModel: ['nsp___cls', 'mlm___cls']\n",
            "- This IS expected if you are initializing TFBertModel from the checkpoint of a model trained on another task or with another architecture (e.g. initializing a BertForSequenceClassification model from a BertForPreTraining model).\n",
            "- This IS NOT expected if you are initializing TFBertModel from the checkpoint of a model that you expect to be exactly identical (initializing a BertForSequenceClassification model from a BertForSequenceClassification model).\n",
            "All the layers of TFBertModel were initialized from the model checkpoint at bert-large-uncased.\n",
            "If your task is similar to the task the model of the checkpoint was trained on, you can already use TFBertModel for predictions without further training.\n"
          ]
        },
        {
          "output_type": "stream",
          "name": "stdout",
          "text": [
            "prediction on example sentence\n",
            "Backend Cleared\n",
            "the model predicted [[0.000031 0.156542 0.000219 0.266398 0.574757 0.000140 0.000143 0.001089\n",
            "  0.000016 0.000049 0.000027 0.000046 0.000210 0.000026 0.000176 0.000132]] this means the labels are ['Method']\n"
          ]
        }
      ],
      "source": [
        "sentence = \"Iacob and Jonkers' method was formalized using the HPRM formalism, implemented in a tool and applied by modeling three application components and five services of a GIS of a Swedish utility company.\"\n",
        "\n",
        "def tok_sen(x): return tokenizer(x, padding = \"max_length\", truncation = True, return_tensors = \"tf\", max_length = max_length)\n",
        "\n",
        "sentence = [tok_sen(sentence)[\"input_ids\"], tok_sen(sentence)[\"attention_mask\"]]\n",
        "\n",
        "pred_test = []\n",
        "\n",
        "for fold in range(4):\n",
        "    print(f\"====== PRED MODELS {fold}======\")\n",
        "\n",
        "    print(\"Model Import\")\n",
        "    model = build_model()\n",
        "    model.compile(\n",
        "            optimizer = tf.keras.optimizers.Adam(learning_rate = learning_rate),\n",
        "            loss = \"binary_crossentropy\",\n",
        "            metrics = [\n",
        "              multi_label_accuracy,\n",
        "              \"binary_accuracy\", \n",
        "              AUC(name=\"average_precision\", curve=\"PR\", multi_label=True)\n",
        "              ]\n",
        "        )\n",
        "    \n",
        "    model.load_weights(f'/content/drive/MyDrive/SentenceBert_fold{fold}.h5')\n",
        "    \n",
        "    \n",
        "    # prediction on test\n",
        "    print(\"prediction on example sentence\")\n",
        "    preds = model.predict(sentence)\n",
        "    # store preds\n",
        "    pred_test.append(preds)\n",
        "    del model\n",
        "\n",
        "    #Clearing backend session\n",
        "    K.clear_session()\n",
        "    print(\"Backend Cleared\")\n",
        "\n",
        "preds_avg = np.mean(np.array(pred_test),axis=0)\n",
        "preds = np.mean(np.array(pred_test),axis=0)\n",
        "preds_avg[preds_avg >= 0.5] = 1\n",
        "preds_avg[preds_avg < 0.5] = 0\n",
        "\n",
        "print(f\"the model predicted {preds} this means the labels are {[vocab[idx] for idx in [i for i in range(preds_avg.reshape(-1).shape[0]) if preds_avg.reshape(-1)[i] == 1]]}\")"
      ]
    },
    {
      "cell_type": "markdown",
      "source": [
        "# General tries of trial and error \n",
        "# 1.\n",
        "\n",
        "* learning rate: 4e-5\n",
        "* epochs: 8\n",
        "* model: 1st try roger\n",
        "* loss: 0.0611 - multi_label_accuracy: 0.6737 - binary_accuracy: 0.9726 - average_precision: 0.7886 - val_loss: 0.2770 - **val_multi_label_accuracy: 0.3220** - val_binary_accuracy: 0.9197 - val_average_precision: 0.3875\n",
        "\n",
        "# 2.\n",
        "\n",
        "* *learning rate: 5e-5 #horrendous*\n",
        "\n",
        "# 3.\n",
        "\n",
        "* learning rate: 3e-5\n",
        "* epochs: 8\n",
        "* model: 2nd try roger \n",
        "* loss: 0.1482 - multi_label_accuracy: 0.4215 - binary_accuracy: 0.9468 - average_precision: 0.5725 - val_loss: 0.2975 - **val_multi_label_accuracy: 0.31439** - val_binary_accuracy: 0.9195 - val_average_precision: 0.0786\n",
        "\n",
        "# 4\n",
        "\n",
        "* learning rate: 4e-5\n",
        "* epochs: 8\n",
        "* model: 2nd try roger (Play with 0.1-0,2 dropout)\n",
        "* loss: 0.0317 - multi_label_accuracy: 0.6858 - binary_accuracy: 0.9747 - average_precision: 0.8811 - val_loss: 0.2564 - **val_multi_label_accuracy: 0.3447** - val_binary_accuracy: 0.9256 - val_average_precision: 0.3905 \n",
        "\n",
        "# 5\n",
        "\n",
        "* learning rate: 1e-5\n",
        "* epochs: 8\n",
        "* model: 1st try roger 0,2 dropout\n",
        "* loss: 0.0816 - multi_label_accuracy: 0.5896 - binary_accuracy: 0.9648 - average_precision: 0.7828 - val_loss: 0.2149 - **val_multi_label_accuracy: 0.3333** - val_binary_accuracy: 0.9258 - val_average_precision: 0.3763\n",
        "\n",
        "# 6\n",
        "\n",
        "* learning rate: 2e-5\n",
        "* epochs: 8\n",
        "* model: 1st try roger 0,2 dropout\n",
        "* loss: 0.0194 - multi_label_accuracy: 0.7013 - binary_accuracy: 0.9766 - average_precision: 0.8919 - val_loss: 0.2766 - **val_multi_label_accuracy: 0.3447** - val_binary_accuracy: 0.9234 - val_average_precision: 0.3933\n",
        "\n",
        "# 7 (with lr decay)\n",
        "\n",
        "* learning rate: 2e-5\n",
        "* epochs: 20\n",
        "* lr grow: 0,30\n",
        "* loss: 0.0409 - multi_label_accuracy: 0.6936 - binary_accuracy: 0.9744 - average_precision: 0.8741 - val_loss: 0.2318 - **val_multi_label_accuracy: 0.3485** - val_binary_accuracy: 0.9292 - val_average_precision: 0.3724 - lr: 1.1156e-05\n",
        "\n",
        "# 8 (with lr decay)\n",
        "* learning rate: 2e-5\n",
        "* epochs: 20\n",
        "* activation: sigmoid\n",
        "* dropout: 0,15\n",
        "* lr grow: 0,35\n",
        "* loss: 0.0346 - multi_label_accuracy: 0.8806 - binary_accuracy: 0.9916 - average_precision: 0.9155 - val_loss: 0.2494 - **val_multi_label_accuracy: 0.3254** - val_binary_accuracy: 0.9301 - val_average_precision: 0.3486 - lr: 1.0122e-05\n",
        "\n",
        "# 9 (with lr decay)\n",
        "\n",
        "* model: bert-large-uncased\n",
        "* learning rate: 2e-5\n",
        "* epochs: 20\n",
        "* activation: softmax\n",
        "* dropout: 0,15\n",
        "* lr grow: 0,35\n",
        "* loss: 0.0445 - multi_label_accuracy: 0.7446 - binary_accuracy: 0.9793 - average_precision: 0.8325 - val_loss: 0.2585 - **val_multi_label_accuracy: 0.3815**- val_binary_accuracy: 0.9267 - val_average_precision: 0.3269 - lr: 1.0683e-05\n"
      ],
      "metadata": {
        "id": "DeE0fiqV2KSH"
      }
    }
  ],
  "metadata": {
    "accelerator": "GPU",
    "colab": {
      "collapsed_sections": [],
      "name": "SentenceBERT Final.ipynb",
      "provenance": [],
      "toc_visible": true
    },
    "gpuClass": "standard",
    "kernelspec": {
      "display_name": "Python 3.8.10 ('venv2': venv)",
      "language": "python",
      "name": "python3"
    },
    "language_info": {
      "codemirror_mode": {
        "name": "ipython",
        "version": 3
      },
      "file_extension": ".py",
      "mimetype": "text/x-python",
      "name": "python",
      "nbconvert_exporter": "python",
      "pygments_lexer": "ipython3",
      "version": "3.8.10"
    },
    "vscode": {
      "interpreter": {
        "hash": "fdaa59318fa581aaa1dedfc13d2b084b9040c656c1c1b35c3f3156bc61bfd089"
      }
    },
    "widgets": {
      "application/vnd.jupyter.widget-state+json": {
        "dcf53132099a4850b41c37040fc4adbb": {
          "model_module": "@jupyter-widgets/controls",
          "model_name": "HBoxModel",
          "model_module_version": "1.5.0",
          "state": {
            "_dom_classes": [],
            "_model_module": "@jupyter-widgets/controls",
            "_model_module_version": "1.5.0",
            "_model_name": "HBoxModel",
            "_view_count": null,
            "_view_module": "@jupyter-widgets/controls",
            "_view_module_version": "1.5.0",
            "_view_name": "HBoxView",
            "box_style": "",
            "children": [
              "IPY_MODEL_3be41edac7a2448391b4656cf3512e4c",
              "IPY_MODEL_482eedda4cdf4b4f936f914850a6052f",
              "IPY_MODEL_1648b2069baa4f92b42da2400a497088"
            ],
            "layout": "IPY_MODEL_b0e93a40f786458694811dd9751da02c"
          }
        },
        "3be41edac7a2448391b4656cf3512e4c": {
          "model_module": "@jupyter-widgets/controls",
          "model_name": "HTMLModel",
          "model_module_version": "1.5.0",
          "state": {
            "_dom_classes": [],
            "_model_module": "@jupyter-widgets/controls",
            "_model_module_version": "1.5.0",
            "_model_name": "HTMLModel",
            "_view_count": null,
            "_view_module": "@jupyter-widgets/controls",
            "_view_module_version": "1.5.0",
            "_view_name": "HTMLView",
            "description": "",
            "description_tooltip": null,
            "layout": "IPY_MODEL_deb4cb536b1448fbb586a90f0952762c",
            "placeholder": "​",
            "style": "IPY_MODEL_a8a7d6a411184baeb28632afc22b94c5",
            "value": "Downloading: 100%"
          }
        },
        "482eedda4cdf4b4f936f914850a6052f": {
          "model_module": "@jupyter-widgets/controls",
          "model_name": "FloatProgressModel",
          "model_module_version": "1.5.0",
          "state": {
            "_dom_classes": [],
            "_model_module": "@jupyter-widgets/controls",
            "_model_module_version": "1.5.0",
            "_model_name": "FloatProgressModel",
            "_view_count": null,
            "_view_module": "@jupyter-widgets/controls",
            "_view_module_version": "1.5.0",
            "_view_name": "ProgressView",
            "bar_style": "success",
            "description": "",
            "description_tooltip": null,
            "layout": "IPY_MODEL_7dd2d5e255a84b5bbe50749454551a45",
            "max": 1472569832,
            "min": 0,
            "orientation": "horizontal",
            "style": "IPY_MODEL_97c0fce32482475cbc68d4d4ebe31aa3",
            "value": 1472569832
          }
        },
        "1648b2069baa4f92b42da2400a497088": {
          "model_module": "@jupyter-widgets/controls",
          "model_name": "HTMLModel",
          "model_module_version": "1.5.0",
          "state": {
            "_dom_classes": [],
            "_model_module": "@jupyter-widgets/controls",
            "_model_module_version": "1.5.0",
            "_model_name": "HTMLModel",
            "_view_count": null,
            "_view_module": "@jupyter-widgets/controls",
            "_view_module_version": "1.5.0",
            "_view_name": "HTMLView",
            "description": "",
            "description_tooltip": null,
            "layout": "IPY_MODEL_eb3a6414abff44418d35906b6e129f4d",
            "placeholder": "​",
            "style": "IPY_MODEL_abbe6ba451da4561a0189f2b5099a152",
            "value": " 1.37G/1.37G [00:36&lt;00:00, 16.9MB/s]"
          }
        },
        "b0e93a40f786458694811dd9751da02c": {
          "model_module": "@jupyter-widgets/base",
          "model_name": "LayoutModel",
          "model_module_version": "1.2.0",
          "state": {
            "_model_module": "@jupyter-widgets/base",
            "_model_module_version": "1.2.0",
            "_model_name": "LayoutModel",
            "_view_count": null,
            "_view_module": "@jupyter-widgets/base",
            "_view_module_version": "1.2.0",
            "_view_name": "LayoutView",
            "align_content": null,
            "align_items": null,
            "align_self": null,
            "border": null,
            "bottom": null,
            "display": null,
            "flex": null,
            "flex_flow": null,
            "grid_area": null,
            "grid_auto_columns": null,
            "grid_auto_flow": null,
            "grid_auto_rows": null,
            "grid_column": null,
            "grid_gap": null,
            "grid_row": null,
            "grid_template_areas": null,
            "grid_template_columns": null,
            "grid_template_rows": null,
            "height": null,
            "justify_content": null,
            "justify_items": null,
            "left": null,
            "margin": null,
            "max_height": null,
            "max_width": null,
            "min_height": null,
            "min_width": null,
            "object_fit": null,
            "object_position": null,
            "order": null,
            "overflow": null,
            "overflow_x": null,
            "overflow_y": null,
            "padding": null,
            "right": null,
            "top": null,
            "visibility": null,
            "width": null
          }
        },
        "deb4cb536b1448fbb586a90f0952762c": {
          "model_module": "@jupyter-widgets/base",
          "model_name": "LayoutModel",
          "model_module_version": "1.2.0",
          "state": {
            "_model_module": "@jupyter-widgets/base",
            "_model_module_version": "1.2.0",
            "_model_name": "LayoutModel",
            "_view_count": null,
            "_view_module": "@jupyter-widgets/base",
            "_view_module_version": "1.2.0",
            "_view_name": "LayoutView",
            "align_content": null,
            "align_items": null,
            "align_self": null,
            "border": null,
            "bottom": null,
            "display": null,
            "flex": null,
            "flex_flow": null,
            "grid_area": null,
            "grid_auto_columns": null,
            "grid_auto_flow": null,
            "grid_auto_rows": null,
            "grid_column": null,
            "grid_gap": null,
            "grid_row": null,
            "grid_template_areas": null,
            "grid_template_columns": null,
            "grid_template_rows": null,
            "height": null,
            "justify_content": null,
            "justify_items": null,
            "left": null,
            "margin": null,
            "max_height": null,
            "max_width": null,
            "min_height": null,
            "min_width": null,
            "object_fit": null,
            "object_position": null,
            "order": null,
            "overflow": null,
            "overflow_x": null,
            "overflow_y": null,
            "padding": null,
            "right": null,
            "top": null,
            "visibility": null,
            "width": null
          }
        },
        "a8a7d6a411184baeb28632afc22b94c5": {
          "model_module": "@jupyter-widgets/controls",
          "model_name": "DescriptionStyleModel",
          "model_module_version": "1.5.0",
          "state": {
            "_model_module": "@jupyter-widgets/controls",
            "_model_module_version": "1.5.0",
            "_model_name": "DescriptionStyleModel",
            "_view_count": null,
            "_view_module": "@jupyter-widgets/base",
            "_view_module_version": "1.2.0",
            "_view_name": "StyleView",
            "description_width": ""
          }
        },
        "7dd2d5e255a84b5bbe50749454551a45": {
          "model_module": "@jupyter-widgets/base",
          "model_name": "LayoutModel",
          "model_module_version": "1.2.0",
          "state": {
            "_model_module": "@jupyter-widgets/base",
            "_model_module_version": "1.2.0",
            "_model_name": "LayoutModel",
            "_view_count": null,
            "_view_module": "@jupyter-widgets/base",
            "_view_module_version": "1.2.0",
            "_view_name": "LayoutView",
            "align_content": null,
            "align_items": null,
            "align_self": null,
            "border": null,
            "bottom": null,
            "display": null,
            "flex": null,
            "flex_flow": null,
            "grid_area": null,
            "grid_auto_columns": null,
            "grid_auto_flow": null,
            "grid_auto_rows": null,
            "grid_column": null,
            "grid_gap": null,
            "grid_row": null,
            "grid_template_areas": null,
            "grid_template_columns": null,
            "grid_template_rows": null,
            "height": null,
            "justify_content": null,
            "justify_items": null,
            "left": null,
            "margin": null,
            "max_height": null,
            "max_width": null,
            "min_height": null,
            "min_width": null,
            "object_fit": null,
            "object_position": null,
            "order": null,
            "overflow": null,
            "overflow_x": null,
            "overflow_y": null,
            "padding": null,
            "right": null,
            "top": null,
            "visibility": null,
            "width": null
          }
        },
        "97c0fce32482475cbc68d4d4ebe31aa3": {
          "model_module": "@jupyter-widgets/controls",
          "model_name": "ProgressStyleModel",
          "model_module_version": "1.5.0",
          "state": {
            "_model_module": "@jupyter-widgets/controls",
            "_model_module_version": "1.5.0",
            "_model_name": "ProgressStyleModel",
            "_view_count": null,
            "_view_module": "@jupyter-widgets/base",
            "_view_module_version": "1.2.0",
            "_view_name": "StyleView",
            "bar_color": null,
            "description_width": ""
          }
        },
        "eb3a6414abff44418d35906b6e129f4d": {
          "model_module": "@jupyter-widgets/base",
          "model_name": "LayoutModel",
          "model_module_version": "1.2.0",
          "state": {
            "_model_module": "@jupyter-widgets/base",
            "_model_module_version": "1.2.0",
            "_model_name": "LayoutModel",
            "_view_count": null,
            "_view_module": "@jupyter-widgets/base",
            "_view_module_version": "1.2.0",
            "_view_name": "LayoutView",
            "align_content": null,
            "align_items": null,
            "align_self": null,
            "border": null,
            "bottom": null,
            "display": null,
            "flex": null,
            "flex_flow": null,
            "grid_area": null,
            "grid_auto_columns": null,
            "grid_auto_flow": null,
            "grid_auto_rows": null,
            "grid_column": null,
            "grid_gap": null,
            "grid_row": null,
            "grid_template_areas": null,
            "grid_template_columns": null,
            "grid_template_rows": null,
            "height": null,
            "justify_content": null,
            "justify_items": null,
            "left": null,
            "margin": null,
            "max_height": null,
            "max_width": null,
            "min_height": null,
            "min_width": null,
            "object_fit": null,
            "object_position": null,
            "order": null,
            "overflow": null,
            "overflow_x": null,
            "overflow_y": null,
            "padding": null,
            "right": null,
            "top": null,
            "visibility": null,
            "width": null
          }
        },
        "abbe6ba451da4561a0189f2b5099a152": {
          "model_module": "@jupyter-widgets/controls",
          "model_name": "DescriptionStyleModel",
          "model_module_version": "1.5.0",
          "state": {
            "_model_module": "@jupyter-widgets/controls",
            "_model_module_version": "1.5.0",
            "_model_name": "DescriptionStyleModel",
            "_view_count": null,
            "_view_module": "@jupyter-widgets/base",
            "_view_module_version": "1.2.0",
            "_view_name": "StyleView",
            "description_width": ""
          }
        },
        "bb736246be5f4ff184b3d580ee73c30c": {
          "model_module": "@jupyter-widgets/controls",
          "model_name": "HBoxModel",
          "model_module_version": "1.5.0",
          "state": {
            "_dom_classes": [],
            "_model_module": "@jupyter-widgets/controls",
            "_model_module_version": "1.5.0",
            "_model_name": "HBoxModel",
            "_view_count": null,
            "_view_module": "@jupyter-widgets/controls",
            "_view_module_version": "1.5.0",
            "_view_name": "HBoxView",
            "box_style": "",
            "children": [
              "IPY_MODEL_7c1617b68c234a08a5225b06bfebdbe8",
              "IPY_MODEL_100b3eb126f74d629658e46298c51a92",
              "IPY_MODEL_49c8eee7992d4184a285fde2a837a3d2"
            ],
            "layout": "IPY_MODEL_5f9110ce7a854cdf8ce9c1c1d4c4d05d"
          }
        },
        "7c1617b68c234a08a5225b06bfebdbe8": {
          "model_module": "@jupyter-widgets/controls",
          "model_name": "HTMLModel",
          "model_module_version": "1.5.0",
          "state": {
            "_dom_classes": [],
            "_model_module": "@jupyter-widgets/controls",
            "_model_module_version": "1.5.0",
            "_model_name": "HTMLModel",
            "_view_count": null,
            "_view_module": "@jupyter-widgets/controls",
            "_view_module_version": "1.5.0",
            "_view_name": "HTMLView",
            "description": "",
            "description_tooltip": null,
            "layout": "IPY_MODEL_e7b9e58dbec94cec868c1f0bd28a70dc",
            "placeholder": "​",
            "style": "IPY_MODEL_6eedf722b67445b5ae2270941c747794",
            "value": "Downloading: 100%"
          }
        },
        "100b3eb126f74d629658e46298c51a92": {
          "model_module": "@jupyter-widgets/controls",
          "model_name": "FloatProgressModel",
          "model_module_version": "1.5.0",
          "state": {
            "_dom_classes": [],
            "_model_module": "@jupyter-widgets/controls",
            "_model_module_version": "1.5.0",
            "_model_name": "FloatProgressModel",
            "_view_count": null,
            "_view_module": "@jupyter-widgets/controls",
            "_view_module_version": "1.5.0",
            "_view_name": "ProgressView",
            "bar_style": "success",
            "description": "",
            "description_tooltip": null,
            "layout": "IPY_MODEL_92b5ee1ef4ca41359db4c50787b8f5a4",
            "max": 28,
            "min": 0,
            "orientation": "horizontal",
            "style": "IPY_MODEL_d00ff1c44f384731968f54b93cbdf8e7",
            "value": 28
          }
        },
        "49c8eee7992d4184a285fde2a837a3d2": {
          "model_module": "@jupyter-widgets/controls",
          "model_name": "HTMLModel",
          "model_module_version": "1.5.0",
          "state": {
            "_dom_classes": [],
            "_model_module": "@jupyter-widgets/controls",
            "_model_module_version": "1.5.0",
            "_model_name": "HTMLModel",
            "_view_count": null,
            "_view_module": "@jupyter-widgets/controls",
            "_view_module_version": "1.5.0",
            "_view_name": "HTMLView",
            "description": "",
            "description_tooltip": null,
            "layout": "IPY_MODEL_c54f90db62f048038d2a9c5312954070",
            "placeholder": "​",
            "style": "IPY_MODEL_91c5378585af43699e7eb62f24adc747",
            "value": " 28.0/28.0 [00:00&lt;00:00, 777B/s]"
          }
        },
        "5f9110ce7a854cdf8ce9c1c1d4c4d05d": {
          "model_module": "@jupyter-widgets/base",
          "model_name": "LayoutModel",
          "model_module_version": "1.2.0",
          "state": {
            "_model_module": "@jupyter-widgets/base",
            "_model_module_version": "1.2.0",
            "_model_name": "LayoutModel",
            "_view_count": null,
            "_view_module": "@jupyter-widgets/base",
            "_view_module_version": "1.2.0",
            "_view_name": "LayoutView",
            "align_content": null,
            "align_items": null,
            "align_self": null,
            "border": null,
            "bottom": null,
            "display": null,
            "flex": null,
            "flex_flow": null,
            "grid_area": null,
            "grid_auto_columns": null,
            "grid_auto_flow": null,
            "grid_auto_rows": null,
            "grid_column": null,
            "grid_gap": null,
            "grid_row": null,
            "grid_template_areas": null,
            "grid_template_columns": null,
            "grid_template_rows": null,
            "height": null,
            "justify_content": null,
            "justify_items": null,
            "left": null,
            "margin": null,
            "max_height": null,
            "max_width": null,
            "min_height": null,
            "min_width": null,
            "object_fit": null,
            "object_position": null,
            "order": null,
            "overflow": null,
            "overflow_x": null,
            "overflow_y": null,
            "padding": null,
            "right": null,
            "top": null,
            "visibility": null,
            "width": null
          }
        },
        "e7b9e58dbec94cec868c1f0bd28a70dc": {
          "model_module": "@jupyter-widgets/base",
          "model_name": "LayoutModel",
          "model_module_version": "1.2.0",
          "state": {
            "_model_module": "@jupyter-widgets/base",
            "_model_module_version": "1.2.0",
            "_model_name": "LayoutModel",
            "_view_count": null,
            "_view_module": "@jupyter-widgets/base",
            "_view_module_version": "1.2.0",
            "_view_name": "LayoutView",
            "align_content": null,
            "align_items": null,
            "align_self": null,
            "border": null,
            "bottom": null,
            "display": null,
            "flex": null,
            "flex_flow": null,
            "grid_area": null,
            "grid_auto_columns": null,
            "grid_auto_flow": null,
            "grid_auto_rows": null,
            "grid_column": null,
            "grid_gap": null,
            "grid_row": null,
            "grid_template_areas": null,
            "grid_template_columns": null,
            "grid_template_rows": null,
            "height": null,
            "justify_content": null,
            "justify_items": null,
            "left": null,
            "margin": null,
            "max_height": null,
            "max_width": null,
            "min_height": null,
            "min_width": null,
            "object_fit": null,
            "object_position": null,
            "order": null,
            "overflow": null,
            "overflow_x": null,
            "overflow_y": null,
            "padding": null,
            "right": null,
            "top": null,
            "visibility": null,
            "width": null
          }
        },
        "6eedf722b67445b5ae2270941c747794": {
          "model_module": "@jupyter-widgets/controls",
          "model_name": "DescriptionStyleModel",
          "model_module_version": "1.5.0",
          "state": {
            "_model_module": "@jupyter-widgets/controls",
            "_model_module_version": "1.5.0",
            "_model_name": "DescriptionStyleModel",
            "_view_count": null,
            "_view_module": "@jupyter-widgets/base",
            "_view_module_version": "1.2.0",
            "_view_name": "StyleView",
            "description_width": ""
          }
        },
        "92b5ee1ef4ca41359db4c50787b8f5a4": {
          "model_module": "@jupyter-widgets/base",
          "model_name": "LayoutModel",
          "model_module_version": "1.2.0",
          "state": {
            "_model_module": "@jupyter-widgets/base",
            "_model_module_version": "1.2.0",
            "_model_name": "LayoutModel",
            "_view_count": null,
            "_view_module": "@jupyter-widgets/base",
            "_view_module_version": "1.2.0",
            "_view_name": "LayoutView",
            "align_content": null,
            "align_items": null,
            "align_self": null,
            "border": null,
            "bottom": null,
            "display": null,
            "flex": null,
            "flex_flow": null,
            "grid_area": null,
            "grid_auto_columns": null,
            "grid_auto_flow": null,
            "grid_auto_rows": null,
            "grid_column": null,
            "grid_gap": null,
            "grid_row": null,
            "grid_template_areas": null,
            "grid_template_columns": null,
            "grid_template_rows": null,
            "height": null,
            "justify_content": null,
            "justify_items": null,
            "left": null,
            "margin": null,
            "max_height": null,
            "max_width": null,
            "min_height": null,
            "min_width": null,
            "object_fit": null,
            "object_position": null,
            "order": null,
            "overflow": null,
            "overflow_x": null,
            "overflow_y": null,
            "padding": null,
            "right": null,
            "top": null,
            "visibility": null,
            "width": null
          }
        },
        "d00ff1c44f384731968f54b93cbdf8e7": {
          "model_module": "@jupyter-widgets/controls",
          "model_name": "ProgressStyleModel",
          "model_module_version": "1.5.0",
          "state": {
            "_model_module": "@jupyter-widgets/controls",
            "_model_module_version": "1.5.0",
            "_model_name": "ProgressStyleModel",
            "_view_count": null,
            "_view_module": "@jupyter-widgets/base",
            "_view_module_version": "1.2.0",
            "_view_name": "StyleView",
            "bar_color": null,
            "description_width": ""
          }
        },
        "c54f90db62f048038d2a9c5312954070": {
          "model_module": "@jupyter-widgets/base",
          "model_name": "LayoutModel",
          "model_module_version": "1.2.0",
          "state": {
            "_model_module": "@jupyter-widgets/base",
            "_model_module_version": "1.2.0",
            "_model_name": "LayoutModel",
            "_view_count": null,
            "_view_module": "@jupyter-widgets/base",
            "_view_module_version": "1.2.0",
            "_view_name": "LayoutView",
            "align_content": null,
            "align_items": null,
            "align_self": null,
            "border": null,
            "bottom": null,
            "display": null,
            "flex": null,
            "flex_flow": null,
            "grid_area": null,
            "grid_auto_columns": null,
            "grid_auto_flow": null,
            "grid_auto_rows": null,
            "grid_column": null,
            "grid_gap": null,
            "grid_row": null,
            "grid_template_areas": null,
            "grid_template_columns": null,
            "grid_template_rows": null,
            "height": null,
            "justify_content": null,
            "justify_items": null,
            "left": null,
            "margin": null,
            "max_height": null,
            "max_width": null,
            "min_height": null,
            "min_width": null,
            "object_fit": null,
            "object_position": null,
            "order": null,
            "overflow": null,
            "overflow_x": null,
            "overflow_y": null,
            "padding": null,
            "right": null,
            "top": null,
            "visibility": null,
            "width": null
          }
        },
        "91c5378585af43699e7eb62f24adc747": {
          "model_module": "@jupyter-widgets/controls",
          "model_name": "DescriptionStyleModel",
          "model_module_version": "1.5.0",
          "state": {
            "_model_module": "@jupyter-widgets/controls",
            "_model_module_version": "1.5.0",
            "_model_name": "DescriptionStyleModel",
            "_view_count": null,
            "_view_module": "@jupyter-widgets/base",
            "_view_module_version": "1.2.0",
            "_view_name": "StyleView",
            "description_width": ""
          }
        },
        "a565d271d2a8496cbea1a348e52ae4ba": {
          "model_module": "@jupyter-widgets/controls",
          "model_name": "HBoxModel",
          "model_module_version": "1.5.0",
          "state": {
            "_dom_classes": [],
            "_model_module": "@jupyter-widgets/controls",
            "_model_module_version": "1.5.0",
            "_model_name": "HBoxModel",
            "_view_count": null,
            "_view_module": "@jupyter-widgets/controls",
            "_view_module_version": "1.5.0",
            "_view_name": "HBoxView",
            "box_style": "",
            "children": [
              "IPY_MODEL_92e9ba37cf9e4f11806ed19e4cbb0a2d",
              "IPY_MODEL_262a163a8f954f78afbd07f813b15e7c",
              "IPY_MODEL_7046caf503ad4561bea6b7877bc20f90"
            ],
            "layout": "IPY_MODEL_d10ebb646dc149a09fc9316b97815955"
          }
        },
        "92e9ba37cf9e4f11806ed19e4cbb0a2d": {
          "model_module": "@jupyter-widgets/controls",
          "model_name": "HTMLModel",
          "model_module_version": "1.5.0",
          "state": {
            "_dom_classes": [],
            "_model_module": "@jupyter-widgets/controls",
            "_model_module_version": "1.5.0",
            "_model_name": "HTMLModel",
            "_view_count": null,
            "_view_module": "@jupyter-widgets/controls",
            "_view_module_version": "1.5.0",
            "_view_name": "HTMLView",
            "description": "",
            "description_tooltip": null,
            "layout": "IPY_MODEL_2998f80ac8b44594b8e0296703828f11",
            "placeholder": "​",
            "style": "IPY_MODEL_71ec873d92d14f729fc69ab494b8471a",
            "value": "Downloading: 100%"
          }
        },
        "262a163a8f954f78afbd07f813b15e7c": {
          "model_module": "@jupyter-widgets/controls",
          "model_name": "FloatProgressModel",
          "model_module_version": "1.5.0",
          "state": {
            "_dom_classes": [],
            "_model_module": "@jupyter-widgets/controls",
            "_model_module_version": "1.5.0",
            "_model_name": "FloatProgressModel",
            "_view_count": null,
            "_view_module": "@jupyter-widgets/controls",
            "_view_module_version": "1.5.0",
            "_view_name": "ProgressView",
            "bar_style": "success",
            "description": "",
            "description_tooltip": null,
            "layout": "IPY_MODEL_eb9d67e4bd684909bc5df138567c7ad4",
            "max": 571,
            "min": 0,
            "orientation": "horizontal",
            "style": "IPY_MODEL_08c7dae416e84a05a4ce9c3bf84a3fa9",
            "value": 571
          }
        },
        "7046caf503ad4561bea6b7877bc20f90": {
          "model_module": "@jupyter-widgets/controls",
          "model_name": "HTMLModel",
          "model_module_version": "1.5.0",
          "state": {
            "_dom_classes": [],
            "_model_module": "@jupyter-widgets/controls",
            "_model_module_version": "1.5.0",
            "_model_name": "HTMLModel",
            "_view_count": null,
            "_view_module": "@jupyter-widgets/controls",
            "_view_module_version": "1.5.0",
            "_view_name": "HTMLView",
            "description": "",
            "description_tooltip": null,
            "layout": "IPY_MODEL_cb6e3ce63dd34eb2b1f332f6b245b588",
            "placeholder": "​",
            "style": "IPY_MODEL_f35af62f92214d0e9a1df64f4ac3a886",
            "value": " 571/571 [00:00&lt;00:00, 15.5kB/s]"
          }
        },
        "d10ebb646dc149a09fc9316b97815955": {
          "model_module": "@jupyter-widgets/base",
          "model_name": "LayoutModel",
          "model_module_version": "1.2.0",
          "state": {
            "_model_module": "@jupyter-widgets/base",
            "_model_module_version": "1.2.0",
            "_model_name": "LayoutModel",
            "_view_count": null,
            "_view_module": "@jupyter-widgets/base",
            "_view_module_version": "1.2.0",
            "_view_name": "LayoutView",
            "align_content": null,
            "align_items": null,
            "align_self": null,
            "border": null,
            "bottom": null,
            "display": null,
            "flex": null,
            "flex_flow": null,
            "grid_area": null,
            "grid_auto_columns": null,
            "grid_auto_flow": null,
            "grid_auto_rows": null,
            "grid_column": null,
            "grid_gap": null,
            "grid_row": null,
            "grid_template_areas": null,
            "grid_template_columns": null,
            "grid_template_rows": null,
            "height": null,
            "justify_content": null,
            "justify_items": null,
            "left": null,
            "margin": null,
            "max_height": null,
            "max_width": null,
            "min_height": null,
            "min_width": null,
            "object_fit": null,
            "object_position": null,
            "order": null,
            "overflow": null,
            "overflow_x": null,
            "overflow_y": null,
            "padding": null,
            "right": null,
            "top": null,
            "visibility": null,
            "width": null
          }
        },
        "2998f80ac8b44594b8e0296703828f11": {
          "model_module": "@jupyter-widgets/base",
          "model_name": "LayoutModel",
          "model_module_version": "1.2.0",
          "state": {
            "_model_module": "@jupyter-widgets/base",
            "_model_module_version": "1.2.0",
            "_model_name": "LayoutModel",
            "_view_count": null,
            "_view_module": "@jupyter-widgets/base",
            "_view_module_version": "1.2.0",
            "_view_name": "LayoutView",
            "align_content": null,
            "align_items": null,
            "align_self": null,
            "border": null,
            "bottom": null,
            "display": null,
            "flex": null,
            "flex_flow": null,
            "grid_area": null,
            "grid_auto_columns": null,
            "grid_auto_flow": null,
            "grid_auto_rows": null,
            "grid_column": null,
            "grid_gap": null,
            "grid_row": null,
            "grid_template_areas": null,
            "grid_template_columns": null,
            "grid_template_rows": null,
            "height": null,
            "justify_content": null,
            "justify_items": null,
            "left": null,
            "margin": null,
            "max_height": null,
            "max_width": null,
            "min_height": null,
            "min_width": null,
            "object_fit": null,
            "object_position": null,
            "order": null,
            "overflow": null,
            "overflow_x": null,
            "overflow_y": null,
            "padding": null,
            "right": null,
            "top": null,
            "visibility": null,
            "width": null
          }
        },
        "71ec873d92d14f729fc69ab494b8471a": {
          "model_module": "@jupyter-widgets/controls",
          "model_name": "DescriptionStyleModel",
          "model_module_version": "1.5.0",
          "state": {
            "_model_module": "@jupyter-widgets/controls",
            "_model_module_version": "1.5.0",
            "_model_name": "DescriptionStyleModel",
            "_view_count": null,
            "_view_module": "@jupyter-widgets/base",
            "_view_module_version": "1.2.0",
            "_view_name": "StyleView",
            "description_width": ""
          }
        },
        "eb9d67e4bd684909bc5df138567c7ad4": {
          "model_module": "@jupyter-widgets/base",
          "model_name": "LayoutModel",
          "model_module_version": "1.2.0",
          "state": {
            "_model_module": "@jupyter-widgets/base",
            "_model_module_version": "1.2.0",
            "_model_name": "LayoutModel",
            "_view_count": null,
            "_view_module": "@jupyter-widgets/base",
            "_view_module_version": "1.2.0",
            "_view_name": "LayoutView",
            "align_content": null,
            "align_items": null,
            "align_self": null,
            "border": null,
            "bottom": null,
            "display": null,
            "flex": null,
            "flex_flow": null,
            "grid_area": null,
            "grid_auto_columns": null,
            "grid_auto_flow": null,
            "grid_auto_rows": null,
            "grid_column": null,
            "grid_gap": null,
            "grid_row": null,
            "grid_template_areas": null,
            "grid_template_columns": null,
            "grid_template_rows": null,
            "height": null,
            "justify_content": null,
            "justify_items": null,
            "left": null,
            "margin": null,
            "max_height": null,
            "max_width": null,
            "min_height": null,
            "min_width": null,
            "object_fit": null,
            "object_position": null,
            "order": null,
            "overflow": null,
            "overflow_x": null,
            "overflow_y": null,
            "padding": null,
            "right": null,
            "top": null,
            "visibility": null,
            "width": null
          }
        },
        "08c7dae416e84a05a4ce9c3bf84a3fa9": {
          "model_module": "@jupyter-widgets/controls",
          "model_name": "ProgressStyleModel",
          "model_module_version": "1.5.0",
          "state": {
            "_model_module": "@jupyter-widgets/controls",
            "_model_module_version": "1.5.0",
            "_model_name": "ProgressStyleModel",
            "_view_count": null,
            "_view_module": "@jupyter-widgets/base",
            "_view_module_version": "1.2.0",
            "_view_name": "StyleView",
            "bar_color": null,
            "description_width": ""
          }
        },
        "cb6e3ce63dd34eb2b1f332f6b245b588": {
          "model_module": "@jupyter-widgets/base",
          "model_name": "LayoutModel",
          "model_module_version": "1.2.0",
          "state": {
            "_model_module": "@jupyter-widgets/base",
            "_model_module_version": "1.2.0",
            "_model_name": "LayoutModel",
            "_view_count": null,
            "_view_module": "@jupyter-widgets/base",
            "_view_module_version": "1.2.0",
            "_view_name": "LayoutView",
            "align_content": null,
            "align_items": null,
            "align_self": null,
            "border": null,
            "bottom": null,
            "display": null,
            "flex": null,
            "flex_flow": null,
            "grid_area": null,
            "grid_auto_columns": null,
            "grid_auto_flow": null,
            "grid_auto_rows": null,
            "grid_column": null,
            "grid_gap": null,
            "grid_row": null,
            "grid_template_areas": null,
            "grid_template_columns": null,
            "grid_template_rows": null,
            "height": null,
            "justify_content": null,
            "justify_items": null,
            "left": null,
            "margin": null,
            "max_height": null,
            "max_width": null,
            "min_height": null,
            "min_width": null,
            "object_fit": null,
            "object_position": null,
            "order": null,
            "overflow": null,
            "overflow_x": null,
            "overflow_y": null,
            "padding": null,
            "right": null,
            "top": null,
            "visibility": null,
            "width": null
          }
        },
        "f35af62f92214d0e9a1df64f4ac3a886": {
          "model_module": "@jupyter-widgets/controls",
          "model_name": "DescriptionStyleModel",
          "model_module_version": "1.5.0",
          "state": {
            "_model_module": "@jupyter-widgets/controls",
            "_model_module_version": "1.5.0",
            "_model_name": "DescriptionStyleModel",
            "_view_count": null,
            "_view_module": "@jupyter-widgets/base",
            "_view_module_version": "1.2.0",
            "_view_name": "StyleView",
            "description_width": ""
          }
        },
        "1e08a7d26efb43ae9b1024405694aded": {
          "model_module": "@jupyter-widgets/controls",
          "model_name": "HBoxModel",
          "model_module_version": "1.5.0",
          "state": {
            "_dom_classes": [],
            "_model_module": "@jupyter-widgets/controls",
            "_model_module_version": "1.5.0",
            "_model_name": "HBoxModel",
            "_view_count": null,
            "_view_module": "@jupyter-widgets/controls",
            "_view_module_version": "1.5.0",
            "_view_name": "HBoxView",
            "box_style": "",
            "children": [
              "IPY_MODEL_8a5423c496d3434d9ec9e258d7a912d9",
              "IPY_MODEL_29661ebf487b4c9cafedaf3535e31463",
              "IPY_MODEL_34861c025bda4a0e9e0da7e62e8af4d4"
            ],
            "layout": "IPY_MODEL_4b600d445f1749bc83ed24bfe73c4e9d"
          }
        },
        "8a5423c496d3434d9ec9e258d7a912d9": {
          "model_module": "@jupyter-widgets/controls",
          "model_name": "HTMLModel",
          "model_module_version": "1.5.0",
          "state": {
            "_dom_classes": [],
            "_model_module": "@jupyter-widgets/controls",
            "_model_module_version": "1.5.0",
            "_model_name": "HTMLModel",
            "_view_count": null,
            "_view_module": "@jupyter-widgets/controls",
            "_view_module_version": "1.5.0",
            "_view_name": "HTMLView",
            "description": "",
            "description_tooltip": null,
            "layout": "IPY_MODEL_35998454a05e41cfba8a9d770b2b8d78",
            "placeholder": "​",
            "style": "IPY_MODEL_da7abf5dc90d49b1ae8bb135aecc6a55",
            "value": "Downloading: 100%"
          }
        },
        "29661ebf487b4c9cafedaf3535e31463": {
          "model_module": "@jupyter-widgets/controls",
          "model_name": "FloatProgressModel",
          "model_module_version": "1.5.0",
          "state": {
            "_dom_classes": [],
            "_model_module": "@jupyter-widgets/controls",
            "_model_module_version": "1.5.0",
            "_model_name": "FloatProgressModel",
            "_view_count": null,
            "_view_module": "@jupyter-widgets/controls",
            "_view_module_version": "1.5.0",
            "_view_name": "ProgressView",
            "bar_style": "success",
            "description": "",
            "description_tooltip": null,
            "layout": "IPY_MODEL_8247013e0e7f440485f1ff7794d98625",
            "max": 231508,
            "min": 0,
            "orientation": "horizontal",
            "style": "IPY_MODEL_a700316664444c2da33b0d13989425cd",
            "value": 231508
          }
        },
        "34861c025bda4a0e9e0da7e62e8af4d4": {
          "model_module": "@jupyter-widgets/controls",
          "model_name": "HTMLModel",
          "model_module_version": "1.5.0",
          "state": {
            "_dom_classes": [],
            "_model_module": "@jupyter-widgets/controls",
            "_model_module_version": "1.5.0",
            "_model_name": "HTMLModel",
            "_view_count": null,
            "_view_module": "@jupyter-widgets/controls",
            "_view_module_version": "1.5.0",
            "_view_name": "HTMLView",
            "description": "",
            "description_tooltip": null,
            "layout": "IPY_MODEL_ef3288a79bae40d9ae7769b25b9728d7",
            "placeholder": "​",
            "style": "IPY_MODEL_ecc287facf944734b14c906ad77f9f37",
            "value": " 226k/226k [00:00&lt;00:00, 256kB/s]"
          }
        },
        "4b600d445f1749bc83ed24bfe73c4e9d": {
          "model_module": "@jupyter-widgets/base",
          "model_name": "LayoutModel",
          "model_module_version": "1.2.0",
          "state": {
            "_model_module": "@jupyter-widgets/base",
            "_model_module_version": "1.2.0",
            "_model_name": "LayoutModel",
            "_view_count": null,
            "_view_module": "@jupyter-widgets/base",
            "_view_module_version": "1.2.0",
            "_view_name": "LayoutView",
            "align_content": null,
            "align_items": null,
            "align_self": null,
            "border": null,
            "bottom": null,
            "display": null,
            "flex": null,
            "flex_flow": null,
            "grid_area": null,
            "grid_auto_columns": null,
            "grid_auto_flow": null,
            "grid_auto_rows": null,
            "grid_column": null,
            "grid_gap": null,
            "grid_row": null,
            "grid_template_areas": null,
            "grid_template_columns": null,
            "grid_template_rows": null,
            "height": null,
            "justify_content": null,
            "justify_items": null,
            "left": null,
            "margin": null,
            "max_height": null,
            "max_width": null,
            "min_height": null,
            "min_width": null,
            "object_fit": null,
            "object_position": null,
            "order": null,
            "overflow": null,
            "overflow_x": null,
            "overflow_y": null,
            "padding": null,
            "right": null,
            "top": null,
            "visibility": null,
            "width": null
          }
        },
        "35998454a05e41cfba8a9d770b2b8d78": {
          "model_module": "@jupyter-widgets/base",
          "model_name": "LayoutModel",
          "model_module_version": "1.2.0",
          "state": {
            "_model_module": "@jupyter-widgets/base",
            "_model_module_version": "1.2.0",
            "_model_name": "LayoutModel",
            "_view_count": null,
            "_view_module": "@jupyter-widgets/base",
            "_view_module_version": "1.2.0",
            "_view_name": "LayoutView",
            "align_content": null,
            "align_items": null,
            "align_self": null,
            "border": null,
            "bottom": null,
            "display": null,
            "flex": null,
            "flex_flow": null,
            "grid_area": null,
            "grid_auto_columns": null,
            "grid_auto_flow": null,
            "grid_auto_rows": null,
            "grid_column": null,
            "grid_gap": null,
            "grid_row": null,
            "grid_template_areas": null,
            "grid_template_columns": null,
            "grid_template_rows": null,
            "height": null,
            "justify_content": null,
            "justify_items": null,
            "left": null,
            "margin": null,
            "max_height": null,
            "max_width": null,
            "min_height": null,
            "min_width": null,
            "object_fit": null,
            "object_position": null,
            "order": null,
            "overflow": null,
            "overflow_x": null,
            "overflow_y": null,
            "padding": null,
            "right": null,
            "top": null,
            "visibility": null,
            "width": null
          }
        },
        "da7abf5dc90d49b1ae8bb135aecc6a55": {
          "model_module": "@jupyter-widgets/controls",
          "model_name": "DescriptionStyleModel",
          "model_module_version": "1.5.0",
          "state": {
            "_model_module": "@jupyter-widgets/controls",
            "_model_module_version": "1.5.0",
            "_model_name": "DescriptionStyleModel",
            "_view_count": null,
            "_view_module": "@jupyter-widgets/base",
            "_view_module_version": "1.2.0",
            "_view_name": "StyleView",
            "description_width": ""
          }
        },
        "8247013e0e7f440485f1ff7794d98625": {
          "model_module": "@jupyter-widgets/base",
          "model_name": "LayoutModel",
          "model_module_version": "1.2.0",
          "state": {
            "_model_module": "@jupyter-widgets/base",
            "_model_module_version": "1.2.0",
            "_model_name": "LayoutModel",
            "_view_count": null,
            "_view_module": "@jupyter-widgets/base",
            "_view_module_version": "1.2.0",
            "_view_name": "LayoutView",
            "align_content": null,
            "align_items": null,
            "align_self": null,
            "border": null,
            "bottom": null,
            "display": null,
            "flex": null,
            "flex_flow": null,
            "grid_area": null,
            "grid_auto_columns": null,
            "grid_auto_flow": null,
            "grid_auto_rows": null,
            "grid_column": null,
            "grid_gap": null,
            "grid_row": null,
            "grid_template_areas": null,
            "grid_template_columns": null,
            "grid_template_rows": null,
            "height": null,
            "justify_content": null,
            "justify_items": null,
            "left": null,
            "margin": null,
            "max_height": null,
            "max_width": null,
            "min_height": null,
            "min_width": null,
            "object_fit": null,
            "object_position": null,
            "order": null,
            "overflow": null,
            "overflow_x": null,
            "overflow_y": null,
            "padding": null,
            "right": null,
            "top": null,
            "visibility": null,
            "width": null
          }
        },
        "a700316664444c2da33b0d13989425cd": {
          "model_module": "@jupyter-widgets/controls",
          "model_name": "ProgressStyleModel",
          "model_module_version": "1.5.0",
          "state": {
            "_model_module": "@jupyter-widgets/controls",
            "_model_module_version": "1.5.0",
            "_model_name": "ProgressStyleModel",
            "_view_count": null,
            "_view_module": "@jupyter-widgets/base",
            "_view_module_version": "1.2.0",
            "_view_name": "StyleView",
            "bar_color": null,
            "description_width": ""
          }
        },
        "ef3288a79bae40d9ae7769b25b9728d7": {
          "model_module": "@jupyter-widgets/base",
          "model_name": "LayoutModel",
          "model_module_version": "1.2.0",
          "state": {
            "_model_module": "@jupyter-widgets/base",
            "_model_module_version": "1.2.0",
            "_model_name": "LayoutModel",
            "_view_count": null,
            "_view_module": "@jupyter-widgets/base",
            "_view_module_version": "1.2.0",
            "_view_name": "LayoutView",
            "align_content": null,
            "align_items": null,
            "align_self": null,
            "border": null,
            "bottom": null,
            "display": null,
            "flex": null,
            "flex_flow": null,
            "grid_area": null,
            "grid_auto_columns": null,
            "grid_auto_flow": null,
            "grid_auto_rows": null,
            "grid_column": null,
            "grid_gap": null,
            "grid_row": null,
            "grid_template_areas": null,
            "grid_template_columns": null,
            "grid_template_rows": null,
            "height": null,
            "justify_content": null,
            "justify_items": null,
            "left": null,
            "margin": null,
            "max_height": null,
            "max_width": null,
            "min_height": null,
            "min_width": null,
            "object_fit": null,
            "object_position": null,
            "order": null,
            "overflow": null,
            "overflow_x": null,
            "overflow_y": null,
            "padding": null,
            "right": null,
            "top": null,
            "visibility": null,
            "width": null
          }
        },
        "ecc287facf944734b14c906ad77f9f37": {
          "model_module": "@jupyter-widgets/controls",
          "model_name": "DescriptionStyleModel",
          "model_module_version": "1.5.0",
          "state": {
            "_model_module": "@jupyter-widgets/controls",
            "_model_module_version": "1.5.0",
            "_model_name": "DescriptionStyleModel",
            "_view_count": null,
            "_view_module": "@jupyter-widgets/base",
            "_view_module_version": "1.2.0",
            "_view_name": "StyleView",
            "description_width": ""
          }
        },
        "80b9aff6bd674489abd0d59c1ba114e2": {
          "model_module": "@jupyter-widgets/controls",
          "model_name": "HBoxModel",
          "model_module_version": "1.5.0",
          "state": {
            "_dom_classes": [],
            "_model_module": "@jupyter-widgets/controls",
            "_model_module_version": "1.5.0",
            "_model_name": "HBoxModel",
            "_view_count": null,
            "_view_module": "@jupyter-widgets/controls",
            "_view_module_version": "1.5.0",
            "_view_name": "HBoxView",
            "box_style": "",
            "children": [
              "IPY_MODEL_416f48ccf40a4d4f8e9edda7cb656c37",
              "IPY_MODEL_98cb44fe8a434e8285d92feeb64318aa",
              "IPY_MODEL_a776a2a808194e0a9bc8e127e66e708e"
            ],
            "layout": "IPY_MODEL_85aa0d0cff354fbfabe1061688da34f3"
          }
        },
        "416f48ccf40a4d4f8e9edda7cb656c37": {
          "model_module": "@jupyter-widgets/controls",
          "model_name": "HTMLModel",
          "model_module_version": "1.5.0",
          "state": {
            "_dom_classes": [],
            "_model_module": "@jupyter-widgets/controls",
            "_model_module_version": "1.5.0",
            "_model_name": "HTMLModel",
            "_view_count": null,
            "_view_module": "@jupyter-widgets/controls",
            "_view_module_version": "1.5.0",
            "_view_name": "HTMLView",
            "description": "",
            "description_tooltip": null,
            "layout": "IPY_MODEL_ed7efaade55d4ec0a74c2b9365dbca5a",
            "placeholder": "​",
            "style": "IPY_MODEL_60846ff9de4e4b9b9c325e442fccdd22",
            "value": "Downloading: 100%"
          }
        },
        "98cb44fe8a434e8285d92feeb64318aa": {
          "model_module": "@jupyter-widgets/controls",
          "model_name": "FloatProgressModel",
          "model_module_version": "1.5.0",
          "state": {
            "_dom_classes": [],
            "_model_module": "@jupyter-widgets/controls",
            "_model_module_version": "1.5.0",
            "_model_name": "FloatProgressModel",
            "_view_count": null,
            "_view_module": "@jupyter-widgets/controls",
            "_view_module_version": "1.5.0",
            "_view_name": "ProgressView",
            "bar_style": "success",
            "description": "",
            "description_tooltip": null,
            "layout": "IPY_MODEL_fe7b8dc7653642d79d9319c8bb0cd471",
            "max": 466062,
            "min": 0,
            "orientation": "horizontal",
            "style": "IPY_MODEL_6658f3c9ce364d6d8f720743d7fbb0e8",
            "value": 466062
          }
        },
        "a776a2a808194e0a9bc8e127e66e708e": {
          "model_module": "@jupyter-widgets/controls",
          "model_name": "HTMLModel",
          "model_module_version": "1.5.0",
          "state": {
            "_dom_classes": [],
            "_model_module": "@jupyter-widgets/controls",
            "_model_module_version": "1.5.0",
            "_model_name": "HTMLModel",
            "_view_count": null,
            "_view_module": "@jupyter-widgets/controls",
            "_view_module_version": "1.5.0",
            "_view_name": "HTMLView",
            "description": "",
            "description_tooltip": null,
            "layout": "IPY_MODEL_2dad89d98e7c4ec58b4187f88ad230d6",
            "placeholder": "​",
            "style": "IPY_MODEL_9e6401b0ed0744a581d75564701b679d",
            "value": " 455k/455k [00:01&lt;00:00, 471kB/s]"
          }
        },
        "85aa0d0cff354fbfabe1061688da34f3": {
          "model_module": "@jupyter-widgets/base",
          "model_name": "LayoutModel",
          "model_module_version": "1.2.0",
          "state": {
            "_model_module": "@jupyter-widgets/base",
            "_model_module_version": "1.2.0",
            "_model_name": "LayoutModel",
            "_view_count": null,
            "_view_module": "@jupyter-widgets/base",
            "_view_module_version": "1.2.0",
            "_view_name": "LayoutView",
            "align_content": null,
            "align_items": null,
            "align_self": null,
            "border": null,
            "bottom": null,
            "display": null,
            "flex": null,
            "flex_flow": null,
            "grid_area": null,
            "grid_auto_columns": null,
            "grid_auto_flow": null,
            "grid_auto_rows": null,
            "grid_column": null,
            "grid_gap": null,
            "grid_row": null,
            "grid_template_areas": null,
            "grid_template_columns": null,
            "grid_template_rows": null,
            "height": null,
            "justify_content": null,
            "justify_items": null,
            "left": null,
            "margin": null,
            "max_height": null,
            "max_width": null,
            "min_height": null,
            "min_width": null,
            "object_fit": null,
            "object_position": null,
            "order": null,
            "overflow": null,
            "overflow_x": null,
            "overflow_y": null,
            "padding": null,
            "right": null,
            "top": null,
            "visibility": null,
            "width": null
          }
        },
        "ed7efaade55d4ec0a74c2b9365dbca5a": {
          "model_module": "@jupyter-widgets/base",
          "model_name": "LayoutModel",
          "model_module_version": "1.2.0",
          "state": {
            "_model_module": "@jupyter-widgets/base",
            "_model_module_version": "1.2.0",
            "_model_name": "LayoutModel",
            "_view_count": null,
            "_view_module": "@jupyter-widgets/base",
            "_view_module_version": "1.2.0",
            "_view_name": "LayoutView",
            "align_content": null,
            "align_items": null,
            "align_self": null,
            "border": null,
            "bottom": null,
            "display": null,
            "flex": null,
            "flex_flow": null,
            "grid_area": null,
            "grid_auto_columns": null,
            "grid_auto_flow": null,
            "grid_auto_rows": null,
            "grid_column": null,
            "grid_gap": null,
            "grid_row": null,
            "grid_template_areas": null,
            "grid_template_columns": null,
            "grid_template_rows": null,
            "height": null,
            "justify_content": null,
            "justify_items": null,
            "left": null,
            "margin": null,
            "max_height": null,
            "max_width": null,
            "min_height": null,
            "min_width": null,
            "object_fit": null,
            "object_position": null,
            "order": null,
            "overflow": null,
            "overflow_x": null,
            "overflow_y": null,
            "padding": null,
            "right": null,
            "top": null,
            "visibility": null,
            "width": null
          }
        },
        "60846ff9de4e4b9b9c325e442fccdd22": {
          "model_module": "@jupyter-widgets/controls",
          "model_name": "DescriptionStyleModel",
          "model_module_version": "1.5.0",
          "state": {
            "_model_module": "@jupyter-widgets/controls",
            "_model_module_version": "1.5.0",
            "_model_name": "DescriptionStyleModel",
            "_view_count": null,
            "_view_module": "@jupyter-widgets/base",
            "_view_module_version": "1.2.0",
            "_view_name": "StyleView",
            "description_width": ""
          }
        },
        "fe7b8dc7653642d79d9319c8bb0cd471": {
          "model_module": "@jupyter-widgets/base",
          "model_name": "LayoutModel",
          "model_module_version": "1.2.0",
          "state": {
            "_model_module": "@jupyter-widgets/base",
            "_model_module_version": "1.2.0",
            "_model_name": "LayoutModel",
            "_view_count": null,
            "_view_module": "@jupyter-widgets/base",
            "_view_module_version": "1.2.0",
            "_view_name": "LayoutView",
            "align_content": null,
            "align_items": null,
            "align_self": null,
            "border": null,
            "bottom": null,
            "display": null,
            "flex": null,
            "flex_flow": null,
            "grid_area": null,
            "grid_auto_columns": null,
            "grid_auto_flow": null,
            "grid_auto_rows": null,
            "grid_column": null,
            "grid_gap": null,
            "grid_row": null,
            "grid_template_areas": null,
            "grid_template_columns": null,
            "grid_template_rows": null,
            "height": null,
            "justify_content": null,
            "justify_items": null,
            "left": null,
            "margin": null,
            "max_height": null,
            "max_width": null,
            "min_height": null,
            "min_width": null,
            "object_fit": null,
            "object_position": null,
            "order": null,
            "overflow": null,
            "overflow_x": null,
            "overflow_y": null,
            "padding": null,
            "right": null,
            "top": null,
            "visibility": null,
            "width": null
          }
        },
        "6658f3c9ce364d6d8f720743d7fbb0e8": {
          "model_module": "@jupyter-widgets/controls",
          "model_name": "ProgressStyleModel",
          "model_module_version": "1.5.0",
          "state": {
            "_model_module": "@jupyter-widgets/controls",
            "_model_module_version": "1.5.0",
            "_model_name": "ProgressStyleModel",
            "_view_count": null,
            "_view_module": "@jupyter-widgets/base",
            "_view_module_version": "1.2.0",
            "_view_name": "StyleView",
            "bar_color": null,
            "description_width": ""
          }
        },
        "2dad89d98e7c4ec58b4187f88ad230d6": {
          "model_module": "@jupyter-widgets/base",
          "model_name": "LayoutModel",
          "model_module_version": "1.2.0",
          "state": {
            "_model_module": "@jupyter-widgets/base",
            "_model_module_version": "1.2.0",
            "_model_name": "LayoutModel",
            "_view_count": null,
            "_view_module": "@jupyter-widgets/base",
            "_view_module_version": "1.2.0",
            "_view_name": "LayoutView",
            "align_content": null,
            "align_items": null,
            "align_self": null,
            "border": null,
            "bottom": null,
            "display": null,
            "flex": null,
            "flex_flow": null,
            "grid_area": null,
            "grid_auto_columns": null,
            "grid_auto_flow": null,
            "grid_auto_rows": null,
            "grid_column": null,
            "grid_gap": null,
            "grid_row": null,
            "grid_template_areas": null,
            "grid_template_columns": null,
            "grid_template_rows": null,
            "height": null,
            "justify_content": null,
            "justify_items": null,
            "left": null,
            "margin": null,
            "max_height": null,
            "max_width": null,
            "min_height": null,
            "min_width": null,
            "object_fit": null,
            "object_position": null,
            "order": null,
            "overflow": null,
            "overflow_x": null,
            "overflow_y": null,
            "padding": null,
            "right": null,
            "top": null,
            "visibility": null,
            "width": null
          }
        },
        "9e6401b0ed0744a581d75564701b679d": {
          "model_module": "@jupyter-widgets/controls",
          "model_name": "DescriptionStyleModel",
          "model_module_version": "1.5.0",
          "state": {
            "_model_module": "@jupyter-widgets/controls",
            "_model_module_version": "1.5.0",
            "_model_name": "DescriptionStyleModel",
            "_view_count": null,
            "_view_module": "@jupyter-widgets/base",
            "_view_module_version": "1.2.0",
            "_view_name": "StyleView",
            "description_width": ""
          }
        }
      }
    }
  },
  "nbformat": 4,
  "nbformat_minor": 0
}